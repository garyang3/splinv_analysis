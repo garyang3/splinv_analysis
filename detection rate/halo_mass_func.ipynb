{
 "cells": [
  {
   "cell_type": "code",
   "execution_count": 2,
   "id": "5a2ac988-f3b6-445e-80be-ceeca0d5ef29",
   "metadata": {},
   "outputs": [],
   "source": [
    "import numpy as np\n",
    "import astropy\n",
    "from astropy import cosmology\n",
    "from splinv import hmod\n",
    "import astropy.units as u"
   ]
  },
  {
   "cell_type": "code",
   "execution_count": 3,
   "id": "5b9142e9-bee2-4edc-9de8-daad939c79a5",
   "metadata": {},
   "outputs": [],
   "source": [
    "from astropy.cosmology import Planck18\n",
    "newcos = Planck18.clone(name=\"Modified Planck 2018\", Om0=0.315,H0 = 67.4* (u.km/u.s/u.Mpc)) #Li 2021"
   ]
  },
  {
   "cell_type": "code",
   "execution_count": 4,
   "id": "87537f6d-935a-4f87-89b4-6e3e750b6c89",
   "metadata": {},
   "outputs": [],
   "source": [
    "cosmo1 = cosmology.LambdaCDM(67.4 * (u.km/u.s/u.Mpc), 0.315, 0.685)"
   ]
  },
  {
   "cell_type": "code",
   "execution_count": 5,
   "id": "f344fc45-1620-4131-bb34-22677ae8e62c",
   "metadata": {},
   "outputs": [
    {
     "data": {
      "text/plain": [
       "342564316.34436876"
      ]
     },
     "execution_count": 5,
     "metadata": {},
     "output_type": "execute_result"
    }
   ],
   "source": [
    "newcos.comoving_volume(0.1).value # ways to calculate comoving volume. In MPC^3"
   ]
  },
  {
   "cell_type": "code",
   "execution_count": 6,
   "id": "4c8266c8-a0d4-4047-ac6b-7adf72cf2a97",
   "metadata": {},
   "outputs": [],
   "source": [
    "detection_rate = np.array([0.4,0.3])\n",
    "redshift_array = np.array([0.015,0.03])\n",
    "dlogm = 0.2"
   ]
  },
  {
   "cell_type": "code",
   "execution_count": 7,
   "id": "e22489d8-18eb-4422-b3ea-91dd7fc4c541",
   "metadata": {},
   "outputs": [],
   "source": [
    "import pyccl as ccl"
   ]
  },
  {
   "cell_type": "code",
   "execution_count": 8,
   "id": "6b377a84-8d2a-4e9d-8657-18df7ca373dc",
   "metadata": {},
   "outputs": [],
   "source": [
    "h = 67.4/100\n",
    "Omega_c = 0.12/h**2\n",
    "Omega_b = 0.0224/h**2\n",
    "cosmo = ccl.Cosmology(Omega_c=Omega_c, Omega_b=Omega_b,\n",
    "                      h=0.674, sigma8=0.811, n_s=0.965) #placnk 2018"
   ]
  },
  {
   "cell_type": "code",
   "execution_count": 14,
   "id": "b6d2b8ff-3983-498c-9b44-45e9a4a076d0",
   "metadata": {},
   "outputs": [],
   "source": [
    "z = 0.1073\n",
    "log_m   =  14.8\n",
    "M_vir = 10 ** log_m\n",
    "conc = 4\n",
    "halo1    =  hmod.triaxialJS02(mass=M_vir,conc=conc,redshift=z,ra=0.,dec=0,a_over_c=1,a_over_b=1, tri_nfw = False, long_truncation = True, OLS03 = True) #33,16\n",
    "hmd = ccl.halos.MassDef(halo1.Omega_z*halo1.Delta_vir, 'critical')"
   ]
  },
  {
   "cell_type": "code",
   "execution_count": 15,
   "id": "83ecdc7d-1888-473b-a587-5924e6263ca6",
   "metadata": {},
   "outputs": [
    {
     "data": {
      "text/plain": [
       "0.009831124237390763"
      ]
     },
     "execution_count": 15,
     "metadata": {},
     "output_type": "execute_result"
    }
   ],
   "source": [
    "hmf = ccl.halos.MassFuncTinker10(cosmo, mass_def = hmd) # boquet16 is \"not compatible\"\n",
    "a = 1 / (1 + z)\n",
    "a2 = 1/(1+z+0.05)\n",
    "dlogm = 0.2\n",
    "volume = 4/3*np.pi*ccl.comoving_radial_distance(cosmo, a2)**3 - 4/3*np.pi*ccl.comoving_radial_distance(cosmo, a)**3\n",
    "hmf.get_mass_function(cosmo, M_vir, a)*volume*dlogm/(41252.96)\n",
    "# (96/60)^2/(41252.96)"
   ]
  },
  {
   "cell_type": "code",
   "execution_count": 88,
   "id": "a0b3245e-7696-4428-9ec5-e448f24b42f7",
   "metadata": {},
   "outputs": [
    {
     "data": {
      "text/plain": [
       "4.543701686689591e-05"
      ]
     },
     "execution_count": 88,
     "metadata": {},
     "output_type": "execute_result"
    }
   ],
   "source": [
    "hmf.get_mass_function(cosmo, M_vir, a)"
   ]
  },
  {
   "cell_type": "code",
   "execution_count": 52,
   "id": "e3d8e76b-d3ab-49fd-9122-84677ae3a859",
   "metadata": {},
   "outputs": [
    {
     "data": {
      "text/plain": [
       "0.0008126515832309857"
      ]
     },
     "execution_count": 52,
     "metadata": {},
     "output_type": "execute_result"
    }
   ],
   "source": [
    "side_length**2"
   ]
  },
  {
   "cell_type": "code",
   "execution_count": 53,
   "id": "84398700-8f85-4605-b431-2f9a254516bc",
   "metadata": {},
   "outputs": [
    {
     "data": {
      "text/plain": [
       "2.058470507550299e-05"
      ]
     },
     "execution_count": 53,
     "metadata": {},
     "output_type": "execute_result"
    }
   ],
   "source": [
    "(1/220.408163265)**2"
   ]
  },
  {
   "cell_type": "code",
   "execution_count": 65,
   "id": "4865251e-1cd6-418b-a414-1730fe670ae2",
   "metadata": {},
   "outputs": [
    {
     "data": {
      "text/plain": [
       "2388943014.643418"
      ]
     },
     "execution_count": 65,
     "metadata": {},
     "output_type": "execute_result"
    }
   ],
   "source": [
    "(newcos.comoving_volume(z+0.1).value- newcos.comoving_volume(z).value)"
   ]
  },
  {
   "cell_type": "code",
   "execution_count": 18,
   "id": "ec857f7f-e787-4c94-95f4-087673de28f9",
   "metadata": {},
   "outputs": [],
   "source": [
    "hmf.get_mass_function(cosmo, M_vir, a)*dlogm * "
   ]
  },
  {
   "cell_type": "code",
   "execution_count": 85,
   "id": "ee3715b5-7f80-4984-9fac-ea7324f4803b",
   "metadata": {},
   "outputs": [
    {
     "data": {
      "text/plain": [
       "72179.39845834352"
      ]
     },
     "execution_count": 85,
     "metadata": {},
     "output_type": "execute_result"
    }
   ],
   "source": [
    "add_aa2 = (ccl.comoving_radial_distance(cosmo, a2)-ccl.comoving_radial_distance(cosmo, a))\n",
    "add_a1 = ccl.comoving_angular_distance(cosmo, a)*side_length\n",
    "add_a1**2*add_aa2\n",
    "#add_a1"
   ]
  },
  {
   "cell_type": "code",
   "execution_count": 59,
   "id": "edb12ba4-5310-4756-aa40-77a8bcc02fd5",
   "metadata": {},
   "outputs": [
    {
     "data": {
      "text/plain": [
       "410.484969944605"
      ]
     },
     "execution_count": 59,
     "metadata": {},
     "output_type": "execute_result"
    }
   ],
   "source": [
    "(newcos.comoving_distance(z+0.1)-newcos.comoving_distance(z)).value"
   ]
  },
  {
   "cell_type": "code",
   "execution_count": 67,
   "id": "467e757c-56bb-4b5a-a2f9-9032cf82a8e8",
   "metadata": {},
   "outputs": [
    {
     "data": {
      "text/plain": [
       "464.89479782362645"
      ]
     },
     "execution_count": 67,
     "metadata": {},
     "output_type": "execute_result"
    }
   ],
   "source": [
    "newcos.angular_diameter_distance(z).value/(a)"
   ]
  },
  {
   "cell_type": "code",
   "execution_count": 81,
   "id": "dc7f1e9d-5010-4e0b-84ac-5422ee48bc9e",
   "metadata": {},
   "outputs": [
    {
     "data": {
      "text/plain": [
       "124836002.96489125"
      ]
     },
     "execution_count": 81,
     "metadata": {},
     "output_type": "execute_result"
    }
   ],
   "source": [
    "(newcos.comoving_volume(z+0.01).value - newcos.comoving_volume(z).value)"
   ]
  },
  {
   "cell_type": "code",
   "execution_count": 83,
   "id": "0a5a6d6b-737d-449b-b8bc-5727e385c551",
   "metadata": {},
   "outputs": [
    {
     "data": {
      "text/latex": [
       "$1.24836 \\times 10^{8} \\; \\mathrm{Mpc^{3}}$"
      ],
      "text/plain": [
       "<Quantity 1.24836003e+08 Mpc3>"
      ]
     },
     "execution_count": 83,
     "metadata": {},
     "output_type": "execute_result"
    }
   ],
   "source": [
    "4/3*np.pi*(newcos.comoving_distance(z+0.01))**3 - 4/3*np.pi*(newcos.comoving_distance(z))**3"
   ]
  },
  {
   "cell_type": "code",
   "execution_count": null,
   "id": "bcdb7d53-7468-43bb-98f4-900b9778d1db",
   "metadata": {},
   "outputs": [],
   "source": []
  }
 ],
 "metadata": {
  "kernelspec": {
   "display_name": "Python 3 (ipykernel)",
   "language": "python",
   "name": "python3"
  },
  "language_info": {
   "codemirror_mode": {
    "name": "ipython",
    "version": 3
   },
   "file_extension": ".py",
   "mimetype": "text/x-python",
   "name": "python",
   "nbconvert_exporter": "python",
   "pygments_lexer": "ipython3",
   "version": "3.9.7"
  }
 },
 "nbformat": 4,
 "nbformat_minor": 5
}
