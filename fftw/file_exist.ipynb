{
 "cells": [
  {
   "cell_type": "code",
   "execution_count": 1,
   "id": "1547d2bf-e9de-448a-97a5-e726a59cbd36",
   "metadata": {},
   "outputs": [],
   "source": [
    "import os"
   ]
  },
  {
   "cell_type": "code",
   "execution_count": 27,
   "id": "3638e131-837f-4c4e-b52f-235057097535",
   "metadata": {},
   "outputs": [],
   "source": [
    "def check_file_exists(path):\n",
    "    if os.path.isfile(path):\n",
    "        print('already')\n",
    "        return\n",
    "    print('Hello World')\n",
    "    return 999"
   ]
  },
  {
   "cell_type": "code",
   "execution_count": 29,
   "id": "c96913c8-2509-4224-8e9b-77f477da3dad",
   "metadata": {},
   "outputs": [
    {
     "name": "stdout",
     "output_type": "stream",
     "text": [
      "already\n"
     ]
    }
   ],
   "source": [
    "lol = check_file_exists(os.path.join(os.getcwd(),'file_exist.ipynb'))"
   ]
  },
  {
   "cell_type": "code",
   "execution_count": 21,
   "id": "2ccec1eb-dae0-4ecc-a3be-eab36c038eed",
   "metadata": {},
   "outputs": [
    {
     "name": "stdout",
     "output_type": "stream",
     "text": [
      "/Users/a1/Desktop/Lensing Research/Python Notebooks--Git/summer2022Tokyo/5_fftw\n"
     ]
    }
   ],
   "source": [
    "print(os.getcwd())"
   ]
  },
  {
   "cell_type": "code",
   "execution_count": 25,
   "id": "25848875-3827-4b87-8985-994b93b6dece",
   "metadata": {},
   "outputs": [
    {
     "name": "stdout",
     "output_type": "stream",
     "text": [
      "/Users/a1/Desktop/Lensing Research/Python Notebooks--Git/summer2022Tokyo/5_fftw/file_exist.ipynb\n"
     ]
    }
   ],
   "source": [
    "print(os.path.join(os.getcwd(),'file_exist.ipynb'))"
   ]
  },
  {
   "cell_type": "code",
   "execution_count": null,
   "id": "1e03f68e-b047-4198-b4c6-0a75a4e7f4d6",
   "metadata": {},
   "outputs": [],
   "source": []
  }
 ],
 "metadata": {
  "kernelspec": {
   "display_name": "Python 3 (ipykernel)",
   "language": "python",
   "name": "python3"
  },
  "language_info": {
   "codemirror_mode": {
    "name": "ipython",
    "version": 3
   },
   "file_extension": ".py",
   "mimetype": "text/x-python",
   "name": "python",
   "nbconvert_exporter": "python",
   "pygments_lexer": "ipython3",
   "version": "3.9.7"
  }
 },
 "nbformat": 4,
 "nbformat_minor": 5
}
