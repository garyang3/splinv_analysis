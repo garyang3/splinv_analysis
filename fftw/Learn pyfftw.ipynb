{
 "cells": [
  {
   "cell_type": "code",
   "execution_count": 1,
   "id": "5bc5799a-4f6c-4d3d-b1de-b8298a694fa0",
   "metadata": {},
   "outputs": [],
   "source": [
    "import pyfftw\n",
    "import numpy as np"
   ]
  },
  {
   "cell_type": "code",
   "execution_count": 2,
   "id": "ad32aef9-ba8e-4e7b-878d-af9a2d3e03a0",
   "metadata": {},
   "outputs": [],
   "source": [
    "d = pyfftw.empty_aligned(4, dtype='complex128')\n",
    "e = pyfftw.empty_aligned(4, dtype='complex128')\n",
    "f = pyfftw.empty_aligned(4, dtype='complex128')\n",
    "fft_object = pyfftw.FFTW(d, e)"
   ]
  },
  {
   "cell_type": "code",
   "execution_count": 3,
   "id": "c16a4347-ff06-48c5-85d0-c80122dc7219",
   "metadata": {},
   "outputs": [
    {
     "data": {
      "text/plain": [
       "True"
      ]
     },
     "execution_count": 3,
     "metadata": {},
     "output_type": "execute_result"
    }
   ],
   "source": [
    "fft_object.input_array is d # get the input array from the object"
   ]
  },
  {
   "cell_type": "code",
   "execution_count": 4,
   "id": "bfc8e43f-6774-4af0-be7a-60d00a171f16",
   "metadata": {},
   "outputs": [
    {
     "data": {
      "text/plain": [
       "array([10.+0.j, -2.+2.j, -2.+0.j, -2.-2.j])"
      ]
     },
     "execution_count": 4,
     "metadata": {},
     "output_type": "execute_result"
    }
   ],
   "source": [
    "f[:] = np.array([1, 2, 3, 4]) # Add some data to f\n",
    "fft_object(f)"
   ]
  },
  {
   "cell_type": "code",
   "execution_count": 5,
   "id": "30576163-fd6a-46ab-ab07-ee2b3e10aa15",
   "metadata": {},
   "outputs": [
    {
     "name": "stdout",
     "output_type": "stream",
     "text": [
      "[10.+0.j -2.+2.j -2.+0.j -2.-2.j]\n"
     ]
    }
   ],
   "source": [
    "print(np.fft.fft(f)) #we can see the equivalence"
   ]
  },
  {
   "cell_type": "code",
   "execution_count": 6,
   "id": "c4fcf2b9-cf6f-4586-a2e5-7bf98f808853",
   "metadata": {},
   "outputs": [],
   "source": [
    "import splinv"
   ]
  },
  {
   "cell_type": "code",
   "execution_count": 7,
   "id": "ca83b700-3c3c-47bb-a0db-e6855ccf7ef8",
   "metadata": {},
   "outputs": [],
   "source": [
    "a = pyfftw.empty_aligned((5, 5), dtype='complex128')\n",
    "b = pyfftw.empty_aligned((5, 5), dtype='complex128')\n",
    "\n",
    "# Over the both axes\n",
    "fft_object_c = pyfftw.FFTW(a, b, axes=(0,1))"
   ]
  },
  {
   "cell_type": "code",
   "execution_count": 17,
   "id": "037a2de2-0072-4a46-8641-b3eef2e95ba0",
   "metadata": {},
   "outputs": [],
   "source": [
    "a = np.mgrid[:5, :5][0]\n",
    "a_trans = np.fft.fft2(a)"
   ]
  },
  {
   "cell_type": "code",
   "execution_count": 18,
   "id": "e26b9c99-8a8d-4ad1-86c2-6c77d34151fd",
   "metadata": {},
   "outputs": [
    {
     "name": "stdout",
     "output_type": "stream",
     "text": [
      "[[0.+0.j 0.+0.j 0.+0.j 0.+0.j 0.+0.j]\n",
      " [1.+0.j 1.+0.j 1.+0.j 1.+0.j 1.+0.j]\n",
      " [2.+0.j 2.+0.j 2.+0.j 2.+0.j 2.+0.j]\n",
      " [3.+0.j 3.+0.j 3.+0.j 3.+0.j 3.+0.j]\n",
      " [4.+0.j 4.+0.j 4.+0.j 4.+0.j 4.+0.j]]\n",
      "[[0 0 0 0 0]\n",
      " [1 1 1 1 1]\n",
      " [2 2 2 2 2]\n",
      " [3 3 3 3 3]\n",
      " [4 4 4 4 4]]\n"
     ]
    }
   ],
   "source": [
    "print(np.fft.ifft2(a_trans))\n",
    "print(a)"
   ]
  },
  {
   "cell_type": "code",
   "execution_count": 19,
   "id": "b5c4125c-5a33-458b-ad52-d61f9c046689",
   "metadata": {},
   "outputs": [
    {
     "name": "stdout",
     "output_type": "stream",
     "text": [
      "[[ 50.  +0.j           0.  +0.j           0.  +0.j\n",
      "    0.  +0.j           0.  +0.j        ]\n",
      " [-12.5+17.20477401j   0.  +0.j           0.  +0.j\n",
      "    0.  +0.j           0.  +0.j        ]\n",
      " [-12.5 +4.0614962j    0.  +0.j           0.  +0.j\n",
      "    0.  +0.j           0.  +0.j        ]\n",
      " [-12.5 -4.0614962j    0.  +0.j           0.  +0.j\n",
      "    0.  +0.j           0.  +0.j        ]\n",
      " [-12.5-17.20477401j   0.  +0.j           0.  +0.j\n",
      "    0.  +0.j           0.  +0.j        ]]\n"
     ]
    }
   ],
   "source": [
    "print(a_trans)"
   ]
  },
  {
   "cell_type": "code",
   "execution_count": 20,
   "id": "1dde2a63-d463-4adb-987d-2cd5852acf64",
   "metadata": {},
   "outputs": [
    {
     "name": "stdout",
     "output_type": "stream",
     "text": [
      "[[ 50.  +0.j           0.  +0.j           0.  +0.j\n",
      "    0.  +0.j           0.  +0.j        ]\n",
      " [-12.5+17.20477401j   0.  +0.j           0.  +0.j\n",
      "    0.  +0.j           0.  +0.j        ]\n",
      " [-12.5 +4.0614962j    0.  +0.j           0.  +0.j\n",
      "    0.  +0.j           0.  +0.j        ]\n",
      " [-12.5 -4.0614962j    0.  +0.j           0.  +0.j\n",
      "    0.  +0.j           0.  +0.j        ]\n",
      " [-12.5-17.20477401j   0.  +0.j           0.  +0.j\n",
      "    0.  +0.j           0.  +0.j        ]]\n"
     ]
    }
   ],
   "source": [
    "print(fft_object_c(a,b))"
   ]
  },
  {
   "cell_type": "code",
   "execution_count": 21,
   "id": "94daed8c-9627-48fe-af7b-67be64959ba0",
   "metadata": {},
   "outputs": [
    {
     "data": {
      "text/plain": [
       "array([[ 50.  +0.j        ,   0.  +0.j        ,   0.  +0.j        ,\n",
       "          0.  +0.j        ,   0.  +0.j        ],\n",
       "       [-12.5+17.20477401j,   0.  +0.j        ,   0.  +0.j        ,\n",
       "          0.  +0.j        ,   0.  +0.j        ],\n",
       "       [-12.5 +4.0614962j ,   0.  +0.j        ,   0.  +0.j        ,\n",
       "          0.  +0.j        ,   0.  +0.j        ],\n",
       "       [-12.5 -4.0614962j ,   0.  +0.j        ,   0.  +0.j        ,\n",
       "          0.  +0.j        ,   0.  +0.j        ],\n",
       "       [-12.5-17.20477401j,   0.  +0.j        ,   0.  +0.j        ,\n",
       "          0.  +0.j        ,   0.  +0.j        ]])"
      ]
     },
     "execution_count": 21,
     "metadata": {},
     "output_type": "execute_result"
    }
   ],
   "source": [
    "fft_object_c(a)"
   ]
  },
  {
   "cell_type": "markdown",
   "id": "2f267cd2-ad20-49ea-bd55-a18625826b9a",
   "metadata": {},
   "source": [
    "It seems you can run fft_object multiple times without having the input to interfere with the performance"
   ]
  },
  {
   "cell_type": "code",
   "execution_count": 22,
   "id": "85428315-a4ea-4d30-bca1-c5354654703f",
   "metadata": {},
   "outputs": [
    {
     "data": {
      "text/plain": [
       "array([[ 50.  +0.j        ,   0.  +0.j        ,   0.  +0.j        ,\n",
       "          0.  +0.j        ,   0.  +0.j        ],\n",
       "       [-12.5+17.20477401j,   0.  +0.j        ,   0.  +0.j        ,\n",
       "          0.  +0.j        ,   0.  +0.j        ],\n",
       "       [-12.5 +4.0614962j ,   0.  +0.j        ,   0.  +0.j        ,\n",
       "          0.  +0.j        ,   0.  +0.j        ],\n",
       "       [-12.5 -4.0614962j ,   0.  +0.j        ,   0.  +0.j        ,\n",
       "          0.  +0.j        ,   0.  +0.j        ],\n",
       "       [-12.5-17.20477401j,   0.  +0.j        ,   0.  +0.j        ,\n",
       "          0.  +0.j        ,   0.  +0.j        ]])"
      ]
     },
     "execution_count": 22,
     "metadata": {},
     "output_type": "execute_result"
    }
   ],
   "source": [
    "fft_object_c(a)"
   ]
  },
  {
   "cell_type": "code",
   "execution_count": null,
   "id": "bd81daf8-b196-4cfe-bcf1-8b78f6e18440",
   "metadata": {},
   "outputs": [],
   "source": []
  }
 ],
 "metadata": {
  "kernelspec": {
   "display_name": "Python 3 (ipykernel)",
   "language": "python",
   "name": "python3"
  },
  "language_info": {
   "codemirror_mode": {
    "name": "ipython",
    "version": 3
   },
   "file_extension": ".py",
   "mimetype": "text/x-python",
   "name": "python",
   "nbconvert_exporter": "python",
   "pygments_lexer": "ipython3",
   "version": "3.9.7"
  }
 },
 "nbformat": 4,
 "nbformat_minor": 5
}
