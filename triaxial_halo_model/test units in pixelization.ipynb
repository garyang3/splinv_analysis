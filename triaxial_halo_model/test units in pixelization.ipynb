{
 "cells": [
  {
   "cell_type": "code",
   "execution_count": 1,
   "id": "3f89f0ac-3023-41ff-bf8d-a55bb1d096ae",
   "metadata": {},
   "outputs": [],
   "source": [
    "import numpy as np\n",
    "from configparser import ConfigParser\n",
    "from splinv import hmod\n",
    "from splinv.grid import Cartesian\n",
    "import matplotlib.pyplot as plt"
   ]
  },
  {
   "cell_type": "code",
   "execution_count": 2,
   "id": "df8e9fed-a5da-44fc-8130-0bd20a1d52d8",
   "metadata": {},
   "outputs": [],
   "source": [
    "log_m = 14.2; zh = 0.08\n",
    "M_200=  10.**(log_m)\n",
    "conc =  6.02*(M_200/1.E13)**(-0.12)*(1.47/(1.+zh))**(0.16)\n",
    "\n",
    "# initialize halo\n",
    "halo =   hmod.nfwTJ03(mass=M_200,conc=conc,redshift=zh,ra=0.,dec=0.)\n",
    "# initialize pixel grids\n",
    "configName  =   'test_unit.ini' #only works in arcmin.\n",
    "parser      =   ConfigParser()\n",
    "parser.read(configName)\n",
    "Grid        =   Cartesian(parser)\n",
    "yy,xx=np.meshgrid(Grid.ycgrid,Grid.xcgrid,indexing='ij')\n",
    "haloSigma2  =   halo.Sigma(xx.flatten() * 3600, yy.flatten() * 3600).reshape((Grid.ny,Grid.nx))"
   ]
  },
  {
   "cell_type": "code",
   "execution_count": 14,
   "id": "1f5f1e1b-eccf-41c3-b974-df02ebcedf8f",
   "metadata": {},
   "outputs": [
    {
     "name": "stdout",
     "output_type": "stream",
     "text": [
      "[[-0.00355556 -0.00355    -0.00354444 ...  0.00353889  0.00354444\n",
      "   0.00355   ]\n",
      " [-0.00355556 -0.00355    -0.00354444 ...  0.00353889  0.00354444\n",
      "   0.00355   ]\n",
      " [-0.00355556 -0.00355    -0.00354444 ...  0.00353889  0.00354444\n",
      "   0.00355   ]\n",
      " ...\n",
      " [-0.00355556 -0.00355    -0.00354444 ...  0.00353889  0.00354444\n",
      "   0.00355   ]\n",
      " [-0.00355556 -0.00355    -0.00354444 ...  0.00353889  0.00354444\n",
      "   0.00355   ]\n",
      " [-0.00355556 -0.00355    -0.00354444 ...  0.00353889  0.00354444\n",
      "   0.00355   ]]\n"
     ]
    }
   ],
   "source": [
    "print(xx)"
   ]
  },
  {
   "cell_type": "code",
   "execution_count": 4,
   "id": "686776eb-7344-4489-81e4-3d5639a28e91",
   "metadata": {},
   "outputs": [],
   "source": [
    "nfwCS02_grid = hmod.nfwCS02_grid(parser)\n",
    "kappa_from_grid = nfwCS02_grid.add_halo(halo)[0]"
   ]
  },
  {
   "cell_type": "code",
   "execution_count": 5,
   "id": "b32b9bd7-a62a-4868-b07c-edaf7b96660c",
   "metadata": {},
   "outputs": [
    {
     "data": {
      "text/plain": [
       "<matplotlib.image.AxesImage at 0x7fbb10700b20>"
      ]
     },
     "execution_count": 5,
     "metadata": {},
     "output_type": "execute_result"
    },
    {
     "data": {
      "image/png": "[encoded data removed]",
      "text/plain": [
       "<Figure size 432x288 with 1 Axes>"
      ]
     },
     "metadata": {
      "needs_background": "light"
     },
     "output_type": "display_data"
    }
   ],
   "source": [
    "plt.imshow(kappa_from_grid[5])"
   ]
  },
  {
   "cell_type": "code",
   "execution_count": 6,
   "id": "df37cf79-7969-4716-a9c7-787ee6f6e69a",
   "metadata": {},
   "outputs": [
    {
     "name": "stdout",
     "output_type": "stream",
     "text": [
      "32173.173550868007\n",
      "323.1537028956213\n"
     ]
    }
   ],
   "source": [
    "print(np.sum(np.abs(kappa_from_grid[5])**2)**0.5)\n",
    "kappaSigma2 = haloSigma2 * halo.lensKernel(Grid.zcgrid[5])\n",
    "print(np.sum(np.abs( (kappaSigma2) ** 2)) **0.5)"
   ]
  },
  {
   "cell_type": "code",
   "execution_count": 12,
   "id": "00c99ecc-3317-417b-9cca-61a9398f135f",
   "metadata": {},
   "outputs": [
    {
     "name": "stdout",
     "output_type": "stream",
     "text": [
      "25.75013658430581\n"
     ]
    }
   ],
   "source": [
    "print(np.max(kappa_from_grid[5]))"
   ]
  },
  {
   "cell_type": "code",
   "execution_count": 8,
   "id": "ca7c009a-6309-488c-b4ef-01e5127d3f82",
   "metadata": {},
   "outputs": [],
   "source": [
    "# # The (0,0) point is unstable\n",
    "# haloSigma2[Grid.ny//2,Grid.nx//2]=0.\n",
    "# # l2 normalization\n",
    "# norm=   (np.sum(haloSigma2**2.))**0.5 #this is a large number, so normalizing is important. \n",
    "# haloSigma2=haloSigma2/norm\n",
    "# rpix    =   halo.rs_arcsec/Grid.scale/3600.\n",
    "# haloSigma1= np.fft.fftshift(hmod.haloCS02SigmaAtom(rpix,ny=Grid.ny,nx=Grid.nx,\\\n",
    "#         sigma_pix=-1,c=halo.c,fou=False))\n",
    "# # The (0,0) point is unstable\n",
    "# vmax    =   haloSigma1[Grid.ny//2,Grid.nx//2]\n",
    "# haloSigma1[Grid.ny//2,Grid.nx//2]=0.\n",
    "# # l2 normalization\n",
    "# norm    =   (np.sum(haloSigma1**2.))**0.5 #this is almost exactly 1.\n",
    "# haloSigma1= haloSigma1/norm\n",
    "# print(np.max(np.abs(haloSigma1-haloSigma2)))"
   ]
  },
  {
   "cell_type": "code",
   "execution_count": 9,
   "id": "d5807225-5df3-4cc8-b5ca-57cbd1277d1e",
   "metadata": {},
   "outputs": [
    {
     "ename": "NameError",
     "evalue": "name 'haloSigma1' is not defined",
     "output_type": "error",
     "traceback": [
      "\u001b[0;31m---------------------------------------------------------------------------\u001b[0m",
      "\u001b[0;31mNameError\u001b[0m                                 Traceback (most recent call last)",
      "\u001b[0;32m/var/folders/vc/1pffqvxd44q6_lz4rrdn58zh0000gn/T/ipykernel_29301/2134820565.py\u001b[0m in \u001b[0;36m<module>\u001b[0;34m\u001b[0m\n\u001b[0;32m----> 1\u001b[0;31m \u001b[0mplt\u001b[0m\u001b[0;34m.\u001b[0m\u001b[0mimshow\u001b[0m\u001b[0;34m(\u001b[0m\u001b[0mhaloSigma1\u001b[0m\u001b[0;34m)\u001b[0m\u001b[0;34m\u001b[0m\u001b[0;34m\u001b[0m\u001b[0m\n\u001b[0m",
      "\u001b[0;31mNameError\u001b[0m: name 'haloSigma1' is not defined"
     ]
    }
   ],
   "source": [
    "plt.imshow(haloSigma1)"
   ]
  },
  {
   "cell_type": "code",
   "execution_count": null,
   "id": "b3abbb4c-66d6-4441-a301-70fade35746e",
   "metadata": {},
   "outputs": [],
   "source": []
  },
  {
   "cell_type": "code",
   "execution_count": null,
   "id": "477a8134-abe2-4bef-9415-9d19930b152a",
   "metadata": {},
   "outputs": [],
   "source": []
  }
 ],
 "metadata": {
  "kernelspec": {
   "display_name": "Python 3 (ipykernel)",
   "language": "python",
   "name": "python3"
  },
  "language_info": {
   "codemirror_mode": {
    "name": "ipython",
    "version": 3
   },
   "file_extension": ".py",
   "mimetype": "text/x-python",
   "name": "python",
   "nbconvert_exporter": "python",
   "pygments_lexer": "ipython3",
   "version": "3.9.7"
  }
 },
 "nbformat": 4,
 "nbformat_minor": 5
}
