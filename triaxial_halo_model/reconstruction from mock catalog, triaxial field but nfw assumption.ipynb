{
 "cells": [
  {
   "cell_type": "code",
   "execution_count": 66,
   "id": "97bd6892-6513-44fc-b499-c9fca5da3415",
   "metadata": {},
   "outputs": [],
   "source": [
    "import numpy as np\n",
    "from splinv import detect\n",
    "from splinv import hmod\n",
    "from splinv import darkmapper\n",
    "from splinv.grid import Cartesian\n",
    "from configparser import ConfigParser\n",
    "import splinv\n",
    "splinv.hmod_v2\n",
    "\n",
    "\"\"\" Test sparse reconstruction of weak lensing dark map\n",
    "\"\"\"\n",
    "# configuration\n",
    "configName  =   'test_mock_catalog_atom.ini'\n",
    "parser      =   ConfigParser()\n",
    "parser.read(configName)\n",
    "\n",
    "# halo simulation\n",
    "z_h     =  0.36\n",
    "log_m   =  14.75\n",
    "M_200   =  10.**(log_m)\n",
    "conc    =  4.\n",
    "halo    =  splinv.hmod.triaxialJS02(mass=M_200,conc=conc,redshift=z_h,ra=0.,dec=0., a_over_b = 1, a_over_c = 1)"
   ]
  },
  {
   "cell_type": "code",
   "execution_count": 67,
   "id": "29fe95df-3770-4418-9e7c-cb08cf9f21b1",
   "metadata": {},
   "outputs": [],
   "source": [
    "# Reconstruction Init\n",
    "parser.set('sparse','mu','3e-4')            #step size for gradient descent\n",
    "parser.set('lens','resolve_lim','0.02')     #pix\n",
    "#parser.set('lens','rs_base','%s' %halo.rs)  #Mpc/h\n",
    "parser.set('sparse','nframe','4' )\n",
    "\n",
    "# Pixelation\n",
    "Grid    =   Cartesian(parser)\n",
    "lensKer1=   Grid.lensing_kernel(deltaIn=False)\n",
    "\n",
    "\n",
    "general_grid    =   splinv.hmod_v2.triaxialJS02_grid_mock(parser)\n",
    "data2   =   general_grid.add_halo(halo)[1]\n",
    "gErr    =   np.ones(Grid.shape)*0.05"
   ]
  },
  {
   "cell_type": "markdown",
   "id": "6f81c6ca-976f-4ba5-8276-1d308b94b585",
   "metadata": {},
   "source": [
    "I strangely encountered a divide by zero error on line 369 in sparse.py. This is because lambda is too large."
   ]
  },
  {
   "cell_type": "code",
   "execution_count": 68,
   "id": "1368789b-cd77-487c-9c9c-da0ae0b2e38f",
   "metadata": {},
   "outputs": [],
   "source": [
    "dmapper =   darkmapper(parser,data2.real,data2.imag,gErr,lensKer1)\n",
    "\n",
    "dmapper.lbd=4.      # Lasso penalty\n",
    "dmapper.lcd=0.      # Ridge penalty in Elastic net\n",
    "dmapper.nonNeg=True # using non-negative Lasso\n",
    "dmapper.clean_outcomes()\n",
    "dmapper.fista_gradient_descent(3000) # run 3000 steps\n",
    "w   =   dmapper.adaptive_lasso_weight(gamma=2.) # determine the apaptive weight\n",
    "dmapper.fista_gradient_descent(3000,w=w)        # run adaptive lasso"
   ]
  },
  {
   "cell_type": "code",
   "execution_count": 69,
   "id": "40155219-9e2c-44c8-a764-9b64296eadf7",
   "metadata": {},
   "outputs": [],
   "source": [
    "dmapper.mu=3e-3     # step size for gradient descent\n",
    "for _ in range(3):  # redo apaptive lasso\n",
    "    w   =   dmapper.adaptive_lasso_weight(gamma=2.)\n",
    "    dmapper.fista_gradient_descent(3000,w=w)\n",
    "dmapper.reconstruct()\n",
    "c1  =   detect.local_maxima_3D(dmapper.deltaR)\n"
   ]
  },
  {
   "cell_type": "code",
   "execution_count": 71,
   "id": "4981132b-861f-44f9-86a4-7f82a3472cef",
   "metadata": {},
   "outputs": [
    {
     "name": "stdout",
     "output_type": "stream",
     "text": [
      "(array([[ 6, 24, 24]]), array([31.72977772]))\n"
     ]
    }
   ],
   "source": [
    "print(c1)\n",
    "logm_est=   np.log10((dmapper.alphaR*dmapper._w)[6,2,Grid.ny//2,Grid.nx//2])+14."
   ]
  },
  {
   "cell_type": "code",
   "execution_count": 72,
   "id": "bf15a5df-e1b4-4c37-b526-e75068f154f9",
   "metadata": {},
   "outputs": [
    {
     "data": {
      "text/plain": [
       "array([0.0625, 0.1075, 0.1525, 0.1975, 0.2425, 0.2875, 0.3325, 0.3775,\n",
       "       0.4225, 0.4675])"
      ]
     },
     "execution_count": 72,
     "metadata": {},
     "output_type": "execute_result"
    }
   ],
   "source": [
    "Grid.zlcgrid"
   ]
  },
  {
   "cell_type": "markdown",
   "id": "1767f019-8521-424e-b249-7fb38bad008a",
   "metadata": {},
   "source": [
    "not that close but we didn't really expect it to succeed. "
   ]
  },
  {
   "cell_type": "code",
   "execution_count": 73,
   "id": "a32f8ced-84bb-4b5d-9d35-0c91189f9ec5",
   "metadata": {},
   "outputs": [
    {
     "name": "stdout",
     "output_type": "stream",
     "text": [
      "14.754981429171725\n",
      "14.75\n"
     ]
    }
   ],
   "source": [
    "print(logm_est)\n",
    "print(log_m)"
   ]
  },
  {
   "cell_type": "code",
   "execution_count": 74,
   "id": "660d4421-8bbc-4731-ae3a-d106691ec26d",
   "metadata": {},
   "outputs": [],
   "source": [
    "import matplotlib.pyplot as plt"
   ]
  },
  {
   "cell_type": "code",
   "execution_count": 76,
   "id": "a99a6089-9ce5-4c51-8296-208b1e520651",
   "metadata": {},
   "outputs": [
    {
     "data": {
      "text/plain": [
       "<matplotlib.image.AxesImage at 0x7fa9beff3760>"
      ]
     },
     "execution_count": 76,
     "metadata": {},
     "output_type": "execute_result"
    },
    {
     "data": {
      "image/png": "[encoded data removed]",
      "text/plain": [
       "<Figure size 432x288 with 1 Axes>"
      ]
     },
     "metadata": {
      "needs_background": "light"
     },
     "output_type": "display_data"
    }
   ],
   "source": [
    "plt.imshow(dmapper.alphaR[6,2]) "
   ]
  },
  {
   "cell_type": "code",
   "execution_count": 24,
   "id": "89f17aba-51f3-43fd-b49f-7b5d067d37b4",
   "metadata": {},
   "outputs": [
    {
     "name": "stdout",
     "output_type": "stream",
     "text": [
      "[2.45658340e-08 2.44921358e-08 3.12987017e-08 ... 3.78825869e-12\n",
      " 3.72203000e-12 3.64483853e-12]\n"
     ]
    }
   ],
   "source": [
    "print(dmapper.diff) #this difference is a lot larger than diff in nfw-nfw case. "
   ]
  },
  {
   "cell_type": "code",
   "execution_count": 29,
   "id": "3ae2865d-e628-4557-ab6b-31aceb74d138",
   "metadata": {},
   "outputs": [
    {
     "name": "stdout",
     "output_type": "stream",
     "text": [
      "(10, 48, 48)\n"
     ]
    },
    {
     "data": {
      "text/plain": [
       "<matplotlib.image.AxesImage at 0x7fa9dcc37c10>"
      ]
     },
     "execution_count": 29,
     "metadata": {},
     "output_type": "execute_result"
    },
    {
     "data": {
      "image/png": "[encoded data removed]",
      "text/plain": [
       "<Figure size 432x288 with 1 Axes>"
      ]
     },
     "metadata": {
      "needs_background": "light"
     },
     "output_type": "display_data"
    }
   ],
   "source": [
    "print(dmapper.deltaR.shape)\n",
    "plt.imshow(dmapper.deltaR[9]) # in the nfw-nfw case, almost all are zero except for one frame that looks like a kappa field\n",
    "# this looks like it's got multiple nonzero fields."
   ]
  },
  {
   "cell_type": "code",
   "execution_count": null,
   "id": "156813d4-9e26-47ff-8f63-642a4e4d7eb0",
   "metadata": {},
   "outputs": [],
   "source": []
  },
  {
   "cell_type": "code",
   "execution_count": null,
   "id": "44bb6305-976f-437f-98f4-1a756e9c8e22",
   "metadata": {},
   "outputs": [],
   "source": []
  }
 ],
 "metadata": {
  "kernelspec": {
   "display_name": "Python 3 (ipykernel)",
   "language": "python",
   "name": "python3"
  },
  "language_info": {
   "codemirror_mode": {
    "name": "ipython",
    "version": 3
   },
   "file_extension": ".py",
   "mimetype": "text/x-python",
   "name": "python",
   "nbconvert_exporter": "python",
   "pygments_lexer": "ipython3",
   "version": "3.9.7"
  }
 },
 "nbformat": 4,
 "nbformat_minor": 5
}
