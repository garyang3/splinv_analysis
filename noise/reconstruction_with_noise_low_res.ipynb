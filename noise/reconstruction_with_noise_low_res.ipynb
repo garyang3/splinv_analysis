{
 "cells": [
  {
   "cell_type": "code",
   "execution_count": 1,
   "id": "28d58dc2-2c9a-48ca-bda6-dd43094bd662",
   "metadata": {},
   "outputs": [],
   "source": [
    "import numpy as np\n",
    "from splinv import detect\n",
    "from splinv import hmod\n",
    "from splinv import darkmapper\n",
    "from splinv.grid import Cartesian\n",
    "from configparser import ConfigParser"
   ]
  },
  {
   "cell_type": "code",
   "execution_count": 2,
   "id": "ca65ed4c-26f5-49ad-b949-836d56569235",
   "metadata": {},
   "outputs": [],
   "source": [
    "\"\"\" Test sparse reconstruction of weak lensing dark map\n",
    "\"\"\"\n",
    "# configuration\n",
    "configName  =   'config_darkmapper.ini'\n",
    "parser      =   ConfigParser()\n",
    "parser.read(configName)\n",
    "\n",
    "# halo simulation\n",
    "z_h     =  0.2425\n",
    "log_m   =  15\n",
    "M_200   =  10.**(log_m)\n",
    "conc    =  4\n",
    "halo    =  hmod.triaxialJS02(mass=M_200,conc=conc,redshift=z_h,ra=0.,dec=0.,a_over_c = 1, a_over_b=1.0, tri_nfw = True)\n"
   ]
  },
  {
   "cell_type": "code",
   "execution_count": 3,
   "id": "7af39d74-b629-4183-9972-03a3f67595e8",
   "metadata": {},
   "outputs": [],
   "source": [
    "# Reconstruction Init\n",
    "parser.set('sparse','mu','3e-4')            #step size for gradient descent\n",
    "parser.set('lens','resolve_lim','0.02')     #pix\n",
    "parser.set('lens','rs_base','%s' %(halo.R0))  #Mpc/h\n",
    "parser.set('sparse','nframe','1' )\n",
    "parser.set('transPlane','scale','2' )\n",
    "parser.set('transPlane','nx','48' )\n",
    "parser.set('transPlane','ny','48' )\n",
    "parser.set('lens','SigmaFname','WB00Sigma_inf148_OLS03.fits')"
   ]
  },
  {
   "cell_type": "code",
   "execution_count": 4,
   "id": "7827601d-fdb5-41ac-8b82-4e46add6a36e",
   "metadata": {},
   "outputs": [
    {
     "data": {
      "text/plain": [
       "'0.44113821185751700416'"
      ]
     },
     "execution_count": 4,
     "metadata": {},
     "output_type": "execute_result"
    }
   ],
   "source": [
    "parser['lens']['rs_base']"
   ]
  },
  {
   "cell_type": "code",
   "execution_count": 5,
   "id": "4651a634-3412-4d68-b210-9017285da46b",
   "metadata": {},
   "outputs": [],
   "source": [
    "# Pixelation\n",
    "Grid    =   Cartesian(parser)\n",
    "lensKer1=   Grid.lensing_kernel(deltaIn=False)\n",
    "\n",
    "general_grid    =   hmod.triaxialJS02_grid_mock(parser)#hmod.nfwCS02_grid(parser)\n",
    "#data2  =   general_grid.add_halo_from_dsigma(halo,add_noise = False)\n",
    "data3,gErrval  =   general_grid.add_halo_from_dsigma(halo,add_noise = True)\n",
    "#gErr    =   np.ones(Grid.shape)*gErrval"
   ]
  },
  {
   "cell_type": "code",
   "execution_count": 6,
   "id": "4da979f6-885c-46de-aa09-4779e63a3f97",
   "metadata": {},
   "outputs": [],
   "source": [
    "# get noise std\n",
    "all_noise = np.zeros((100,10,48,48),dtype=np.complex64)\n",
    "for i in range(100):\n",
    "    all_noise[i,:,:,:] = general_grid.calc_noise(halo)\n",
    "dg1 = all_noise.real\n",
    "dg2 = all_noise.imag\n",
    "noise_std = np.zeros((10,48,48))\n",
    "for l in range(48):\n",
    "    for m in range(48):\n",
    "        for n in range(10):\n",
    "            noise_std[n,l,m] = np.sqrt(np.std(dg1[:,n,l,m])**2 + np.std(dg2[:,n,l,m])**2)"
   ]
  },
  {
   "cell_type": "code",
   "execution_count": 7,
   "id": "96750a4d-e2b4-477d-baaa-af537a49cdd0",
   "metadata": {},
   "outputs": [],
   "source": [
    "gErr    =   noise_std"
   ]
  },
  {
   "cell_type": "code",
   "execution_count": 8,
   "id": "2b2f1f24-b0e9-48ca-84ff-145619eec51d",
   "metadata": {},
   "outputs": [
    {
     "data": {
      "text/plain": [
       "<matplotlib.image.AxesImage at 0x7f7da91b0fd0>"
      ]
     },
     "execution_count": 8,
     "metadata": {},
     "output_type": "execute_result"
    },
    {
     "name": "stderr",
     "output_type": "stream",
     "text": [
      "/Users/a1/opt/anaconda3/lib/python3.9/site-packages/IPython/core/pylabtools.py:151: UserWarning: Casting input data from 'float128' to 'float64' for imshow\n",
      "  fig.canvas.print_figure(bytes_io, **kw)\n"
     ]
    },
    {
     "data": {
      "image/png": "[encoded data removed]",
      "text/plain": [
       "<Figure size 432x288 with 1 Axes>"
      ]
     },
     "metadata": {
      "needs_background": "light"
     },
     "output_type": "display_data"
    }
   ],
   "source": [
    "import matplotlib.pyplot as plt\n",
    "plt.imshow(data3[9].real)"
   ]
  },
  {
   "cell_type": "code",
   "execution_count": 9,
   "id": "02322952-d3b9-4efd-8108-b597c93e57dd",
   "metadata": {},
   "outputs": [
    {
     "name": "stdout",
     "output_type": "stream",
     "text": [
      "preparing numerical frames!!!!\n"
     ]
    }
   ],
   "source": [
    "dmapper =   darkmapper(parser,data3.real,data3.imag,gErr,lensKer1)\n",
    "\n",
    "dmapper.lbd=4.      # Lasso penalty\n",
    "dmapper.lcd=0.      # Ridge penalty in Elastic net\n",
    "dmapper.nonNeg=True # using non-negative Lasso\n",
    "dmapper.clean_outcomes()\n",
    "dmapper.fista_gradient_descent(3000) # run 3000 steps\n",
    "w   =   dmapper.adaptive_lasso_weight(gamma=2.) # determine the apaptive weight\n",
    "dmapper.fista_gradient_descent(3000,w=w)        # run adaptive lasso\n",
    "\n",
    "dmapper.mu=3e-3     # step size for gradient descent\n",
    "for _ in range(3):  # redo apaptive lasso\n",
    "    w   =   dmapper.adaptive_lasso_weight(gamma=2.)\n",
    "    dmapper.fista_gradient_descent(3000,w=w)\n",
    "dmapper.reconstruct()\n"
   ]
  },
  {
   "cell_type": "code",
   "execution_count": 10,
   "id": "74118dd8-6821-4b5a-a4ae-5795a9f53092",
   "metadata": {},
   "outputs": [
    {
     "name": "stdout",
     "output_type": "stream",
     "text": [
      "[ 4 23 24]\n"
     ]
    },
    {
     "name": "stderr",
     "output_type": "stream",
     "text": [
      "/var/folders/vc/1pffqvxd44q6_lz4rrdn58zh0000gn/T/ipykernel_80289/3747105969.py:4: RuntimeWarning: divide by zero encountered in log10\n",
      "  logm_est=   np.log10((dmapper.alphaR*dmapper._w)[3,0,24,24])+14.\n"
     ]
    }
   ],
   "source": [
    "c1  =   detect.local_maxima_3D(dmapper.deltaR)[0][0]\n",
    "print(c1)\n",
    "#np.testing.assert_equal(c1,np.array([4,Grid.ny//2,Grid.nx//2]))\n",
    "logm_est=   np.log10((dmapper.alphaR*dmapper._w)[3,0,24,24])+14.\n",
    "#np.testing.assert_almost_equal(logm_est,log_m,1)"
   ]
  },
  {
   "cell_type": "code",
   "execution_count": 11,
   "id": "9d73f6bb-35a6-4546-9536-2c0dc046c4db",
   "metadata": {},
   "outputs": [
    {
     "data": {
      "text/plain": [
       "-inf"
      ]
     },
     "execution_count": 11,
     "metadata": {},
     "output_type": "execute_result"
    }
   ],
   "source": [
    "logm_est"
   ]
  },
  {
   "cell_type": "code",
   "execution_count": 12,
   "id": "3ea63814-23a1-45c5-b34c-ead5c640f9fa",
   "metadata": {},
   "outputs": [],
   "source": [
    "#import matplotlib.pyplot as plt\n",
    "#plt.imshow(general_grid.add_halo(halo)[0][4])"
   ]
  },
  {
   "cell_type": "markdown",
   "id": "6ad8e45a-ee79-41d0-a5e8-52331d0edc7d",
   "metadata": {},
   "source": [
    "If the halo is to small/light to be detected, the situation can be redeemed by increasing the resolution of the grid. "
   ]
  }
 ],
 "metadata": {
  "kernelspec": {
   "display_name": "Python 3 (ipykernel)",
   "language": "python",
   "name": "python3"
  },
  "language_info": {
   "codemirror_mode": {
    "name": "ipython",
    "version": 3
   },
   "file_extension": ".py",
   "mimetype": "text/x-python",
   "name": "python",
   "nbconvert_exporter": "python",
   "pygments_lexer": "ipython3",
   "version": "3.9.7"
  }
 },
 "nbformat": 4,
 "nbformat_minor": 5
}
