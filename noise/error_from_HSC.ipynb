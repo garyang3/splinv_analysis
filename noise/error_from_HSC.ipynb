{
 "cells": [
  {
   "cell_type": "code",
   "execution_count": 2,
   "id": "d8ee7cad-0125-4dde-b81b-e38ff988b8ab",
   "metadata": {},
   "outputs": [],
   "source": [
    "import numpy as np\n",
    "def make_mock(dat):\n",
    "    \"\"\"Simulates shape noise and measurement error using HSC year1 shape catalog\n",
    "    Args:\n",
    "        dat (ndarray):  input year-1 shape catalog\n",
    "    Returns:\n",
    "        dg1 (ndarray):  noise on shear (first component)\n",
    "        dg2 (ndarray):  noise on shear (second component)\n",
    "    \"\"\"\n",
    "\n",
    "    def RotCatalog(e1, e2):\n",
    "        \"\"\"Rotates galaxy ellipticity\n",
    "        Args:\n",
    "            e1 (ndarray):  input ellipticity (first component)\n",
    "            e2 (ndarray):  input ellipticity (second component)\n",
    "        Returns:\n",
    "            e1_rot (ndarray):  rotated ellipticity (first component)\n",
    "            e2_rot (ndarray):  rotated ellipticity (second component)\n",
    "        \"\"\"\n",
    "        phi = 2.0 * np.pi * np.random.rand(len(e1))\n",
    "        cs = np.cos(phi)\n",
    "        ss = np.sin(phi)\n",
    "        e1_rot = e1 * cs + e2 * ss\n",
    "        e2_rot = (-1.0) * e1 * ss + e2 * cs\n",
    "        return e1_rot, e2_rot\n",
    "\n",
    "    e1_ini= dat['ishape_hsm_regauss_e1'] # shape\n",
    "    e2_ini= dat['ishape_hsm_regauss_e2']\n",
    "    erms =  dat['ishape_hsm_regauss_derived_rms_e'] # RMS of shape noise\n",
    "    sigma_e2 = (s19A_table['ishape_hsm_regauss_derived_shape_weight'])**(-1) - erms**2\n",
    "    esigma= np.sqrt(sigma_e2) * (2*np.random.randint(0,2,size=(sigma_e2.shape))-1) #my dataset does not have this dat['ishape_hsm_regauss_derived_sigma_e'] # 1 sigma of measurment error\n",
    "    eres =   1.-np.average(erms**2.) # shear response (no shape weight)\n",
    "\n",
    "    # rotate galaxy\n",
    "    e1_rot, e2_rot = RotCatalog(e1_ini, e2_ini)\n",
    "\n",
    "    # shape noise\n",
    "    # equation (23) of https://arxiv.org/pdf/1901.09488.pdf\n",
    "    f = np.sqrt( erms * erms / ( erms * erms + esigma * esigma ))\n",
    "    e1_shape = e1_rot * f; e2_shape = e2_rot * f\n",
    "    # measurment error\n",
    "    e1_n = esigma * np.random.randn(len(e1_ini))\n",
    "    e2_n = esigma * np.random.randn(len(e2_ini))\n",
    "\n",
    "    dg1 = (e1_n+e1_shape)/2./eres\n",
    "    dg2 = (e2_n+e2_shape)/2./eres\n",
    "    return dg1,dg2"
   ]
  },
  {
   "cell_type": "code",
   "execution_count": 3,
   "id": "ac6f106b-94d3-4d88-8a9c-17d6208dda7f",
   "metadata": {},
   "outputs": [],
   "source": [
    "import astropy\n",
    "from astropy.io import fits"
   ]
  },
  {
   "cell_type": "code",
   "execution_count": 4,
   "id": "d5c2b46c-b6b7-4e1e-ae61-ca7933b64dca",
   "metadata": {},
   "outputs": [],
   "source": [
    "s19A = fits.open('9347.fits')"
   ]
  },
  {
   "cell_type": "code",
   "execution_count": 5,
   "id": "c7006ce4-faa7-43c6-9306-35b0c867a208",
   "metadata": {},
   "outputs": [
    {
     "data": {
      "text/plain": [
       "XTENSION= 'BINTABLE'           / binary table extension                         \n",
       "BITPIX  =                    8 / array data type                                \n",
       "NAXIS   =                    2 / number of array dimensions                     \n",
       "NAXIS1  =                   97 / length of dimension 1                          \n",
       "NAXIS2  =               171260 / length of dimension 2                          \n",
       "PCOUNT  =                    0 / number of group parameters                     \n",
       "GCOUNT  =                    1 / number of groups                               \n",
       "TFIELDS =                   17 / number of table fields                         \n",
       "TTYPE1  = 'ishape_hsm_regauss_e1'                                               \n",
       "TFORM1  = 'E       '                                                            \n",
       "TTYPE2  = 'ishape_hsm_regauss_e2'                                               \n",
       "TFORM2  = 'E       '                                                            \n",
       "TTYPE3  = 'ishape_hsm_regauss_derived_rms_e'                                    \n",
       "TFORM3  = 'D       '                                                            \n",
       "TTYPE4  = 'ishape_hsm_regauss_derived_shape_weight'                             \n",
       "TFORM4  = 'D       '                                                            \n",
       "TTYPE5  = 'ishape_hsm_regauss_derived_shear_bias_m'                             \n",
       "TFORM5  = 'D       '                                                            \n",
       "TTYPE6  = 'ishape_hsm_regauss_derived_shear_bias_c1'                            \n",
       "TFORM6  = 'D       '                                                            \n",
       "TTYPE7  = 'ishape_hsm_regauss_derived_shear_bias_c2'                            \n",
       "TFORM7  = 'D       '                                                            \n",
       "TTYPE8  = 'ishape_hsm_regauss_resolution'                                       \n",
       "TFORM8  = 'E       '                                                            \n",
       "TTYPE9  = 'weak_lensing_flag'                                                   \n",
       "TFORM9  = 'L       '                                                            \n",
       "TTYPE10 = 'tract   '                                                            \n",
       "TFORM10 = 'J       '                                                            \n",
       "TTYPE11 = 'object_id'                                                           \n",
       "TFORM11 = 'K       '                                                            \n",
       "TTYPE12 = 'coord_ra'                                                            \n",
       "TFORM12 = 'D       '                                                            \n",
       "TTYPE13 = 'coord_dec'                                                           \n",
       "TFORM13 = 'D       '                                                            \n",
       "TTYPE14 = 'mlz_photoz_best'                                                     \n",
       "TFORM14 = 'E       '                                                            \n",
       "TTYPE15 = 'mlz_photoz_err95_min'                                                \n",
       "TFORM15 = 'E       '                                                            \n",
       "TTYPE16 = 'mlz_photoz_std_best'                                                 \n",
       "TFORM16 = 'E       '                                                            \n",
       "TTYPE17 = 'mlz_photoz_conf_best'                                                \n",
       "TFORM17 = 'E       '                                                            "
      ]
     },
     "execution_count": 5,
     "metadata": {},
     "output_type": "execute_result"
    }
   ],
   "source": [
    "s19A[1].header"
   ]
  },
  {
   "cell_type": "code",
   "execution_count": 6,
   "id": "06289366-5980-4e91-826a-742aae669d6a",
   "metadata": {},
   "outputs": [],
   "source": [
    "data = s19A[1].data"
   ]
  },
  {
   "cell_type": "code",
   "execution_count": 7,
   "id": "d8ee7f0a-e425-415d-91f8-4e18da27c82b",
   "metadata": {},
   "outputs": [],
   "source": [
    "from astropy.table import Table"
   ]
  },
  {
   "cell_type": "code",
   "execution_count": 8,
   "id": "1323c58b-f08b-48fc-8b2b-7e6066ead01f",
   "metadata": {},
   "outputs": [],
   "source": [
    "s19A_table = Table(data)"
   ]
  },
  {
   "cell_type": "code",
   "execution_count": 10,
   "id": "0c2203ab-95f9-4e71-8418-4520ffff2fda",
   "metadata": {},
   "outputs": [
    {
     "data": {
      "text/plain": [
       "171260"
      ]
     },
     "execution_count": 10,
     "metadata": {},
     "output_type": "execute_result"
    }
   ],
   "source": [
    "s19A_table['mlz_photoz_best'].size"
   ]
  },
  {
   "cell_type": "code",
   "execution_count": 130,
   "id": "19dc6c59-a6d5-4f2a-868d-91338aa4cdf7",
   "metadata": {},
   "outputs": [],
   "source": [
    "dg1, dg2 = make_mock(s19A_table)"
   ]
  },
  {
   "cell_type": "code",
   "execution_count": 131,
   "id": "2ad63f65-e696-4815-9e08-00483ac7617d",
   "metadata": {},
   "outputs": [],
   "source": [
    "import matplotlib.pyplot as plt"
   ]
  },
  {
   "cell_type": "code",
   "execution_count": 133,
   "id": "8964c2f2-e127-4aac-bc8c-00046ffdf297",
   "metadata": {},
   "outputs": [
    {
     "data": {
      "image/png": "[encoded data removed]",
      "text/plain": [
       "<Figure size 432x288 with 1 Axes>"
      ]
     },
     "metadata": {
      "needs_background": "light"
     },
     "output_type": "display_data"
    }
   ],
   "source": [
    "plt.hist(dg1,bins = 50)\n",
    "plt.show()"
   ]
  },
  {
   "cell_type": "code",
   "execution_count": 96,
   "id": "d7361ffb-3b11-425c-92f1-da6f34225eb9",
   "metadata": {},
   "outputs": [],
   "source": [
    "import statistics"
   ]
  },
  {
   "cell_type": "code",
   "execution_count": 98,
   "id": "ff47f0bc-e234-406f-9a8b-be118b02f2cc",
   "metadata": {},
   "outputs": [
    {
     "data": {
      "text/plain": [
       "0.25490816889615847"
      ]
     },
     "execution_count": 98,
     "metadata": {},
     "output_type": "execute_result"
    }
   ],
   "source": [
    "statistics.stdev(dg2)"
   ]
  },
  {
   "cell_type": "code",
   "execution_count": 134,
   "id": "22d90f66-d18e-41b7-9966-329641728e37",
   "metadata": {},
   "outputs": [],
   "source": [
    "error_mock = 0.255*np.random.randn(171260)"
   ]
  },
  {
   "cell_type": "code",
   "execution_count": 136,
   "id": "6278a439-44c8-4b60-b8d6-e0614fdaaafc",
   "metadata": {},
   "outputs": [
    {
     "data": {
      "image/png": "[encoded data removed]",
      "text/plain": [
       "<Figure size 432x288 with 1 Axes>"
      ]
     },
     "metadata": {
      "needs_background": "light"
     },
     "output_type": "display_data"
    }
   ],
   "source": [
    "plt.hist(error_mock,bins = 50)\n",
    "plt.show()"
   ]
  },
  {
   "cell_type": "code",
   "execution_count": 137,
   "id": "9ba13e93-7e08-417a-b8e4-50137033f239",
   "metadata": {},
   "outputs": [],
   "source": [
    "sigma_e2 = (s19A_table['ishape_hsm_regauss_derived_shape_weight'])**(-1) - s19A_table['ishape_hsm_regauss_derived_rms_e']**2"
   ]
  },
  {
   "cell_type": "code",
   "execution_count": 139,
   "id": "8eb50bd7-c2cf-44b9-b80d-ecfe689bd69f",
   "metadata": {},
   "outputs": [
    {
     "data": {
      "image/png": "[encoded data removed]",
      "text/plain": [
       "<Figure size 432x288 with 1 Axes>"
      ]
     },
     "metadata": {
      "needs_background": "light"
     },
     "output_type": "display_data"
    }
   ],
   "source": [
    "plt.hist(s19A_table['ishape_hsm_regauss_derived_shear_bias_m'],bins=1000)\n",
    "## this looks like a chisqured sitribution\n",
    "plt.show()"
   ]
  },
  {
   "cell_type": "code",
   "execution_count": 113,
   "id": "1a34aea3-7d19-44d5-9ce4-9c421d3e1031",
   "metadata": {},
   "outputs": [
    {
     "data": {
      "text/plain": [
       "array([-1,  1, -1, -1,  1, -1,  1,  1,  1,  1])"
      ]
     },
     "execution_count": 113,
     "metadata": {},
     "output_type": "execute_result"
    }
   ],
   "source": [
    "2*np.random.randint(0,2,size=(10))-1"
   ]
  },
  {
   "cell_type": "code",
   "execution_count": 118,
   "id": "487235f2-2ba9-4560-99c6-1e0ebbc90b46",
   "metadata": {},
   "outputs": [],
   "source": [
    "sigma_e = np.sqrt(sigma_e2) * (2*np.random.randint(0,2,size=(sigma_e2.shape))-1)"
   ]
  },
  {
   "cell_type": "code",
   "execution_count": 120,
   "id": "1c392237-8a22-4b44-bba3-cd240855ab9c",
   "metadata": {},
   "outputs": [
    {
     "data": {
      "image/png": "[encoded data removed]",
      "text/plain": [
       "<Figure size 432x288 with 1 Axes>"
      ]
     },
     "metadata": {
      "needs_background": "light"
     },
     "output_type": "display_data"
    }
   ],
   "source": [
    "plt.hist(sigma_e,bins=100)\n",
    "plt.show()"
   ]
  },
  {
   "cell_type": "code",
   "execution_count": 121,
   "id": "337d0637-2606-4725-ae01-aaa5dec30d1c",
   "metadata": {},
   "outputs": [
    {
     "data": {
      "text/plain": [
       "0.13710548544898707"
      ]
     },
     "execution_count": 121,
     "metadata": {},
     "output_type": "execute_result"
    }
   ],
   "source": [
    "statistics.stdev(sigma_e)"
   ]
  },
  {
   "cell_type": "code",
   "execution_count": 143,
   "id": "a3446569-089a-409f-a502-371ea2bd1cb6",
   "metadata": {},
   "outputs": [
    {
     "name": "stdout",
     "output_type": "stream",
     "text": [
      "171260\n"
     ]
    }
   ],
   "source": [
    "print(dg1.size)"
   ]
  },
  {
   "cell_type": "code",
   "execution_count": 147,
   "id": "98aef085-cb4b-4bb7-aacb-2e901316eb39",
   "metadata": {},
   "outputs": [
    {
     "name": "stdout",
     "output_type": "stream",
     "text": [
      "111605\n"
     ]
    }
   ],
   "source": [
    "import random\n",
    "print(random.randint(0, dg1.size-1))"
   ]
  },
  {
   "cell_type": "code",
   "execution_count": 155,
   "id": "742dc68d-56f1-446d-a17f-ef1b611aa230",
   "metadata": {},
   "outputs": [
    {
     "data": {
      "text/plain": [
       "(32+25j)"
      ]
     },
     "execution_count": 155,
     "metadata": {},
     "output_type": "execute_result"
    }
   ],
   "source": [
    "random.randint(0,10) + 30 +1j*15 + 1j* random.randint(0,10)"
   ]
  },
  {
   "cell_type": "code",
   "execution_count": 156,
   "id": "12fc994c-b79f-4589-a8f7-61f8807f9b9e",
   "metadata": {},
   "outputs": [
    {
     "data": {
      "text/html": [
       "&lt;Column name=&apos;ishape_hsm_regauss_derived_shape_weight&apos; dtype=&apos;float64&apos; shape=(85630,) length=2&gt;\n",
       "<table>\n",
       "<tr><td>-0.2215733556282535 .. 0.08740382821334632</td></tr>\n",
       "<tr><td>-0.23603334967111084 .. 0.13729486451569817</td></tr>\n",
       "</table>"
      ],
      "text/plain": [
       "<Column name='ishape_hsm_regauss_derived_shape_weight' dtype='float64' shape=(85630,) length=2>\n",
       " -0.2215733556282535 .. 0.08740382821334632\n",
       "-0.23603334967111084 .. 0.13729486451569817"
      ]
     },
     "execution_count": 156,
     "metadata": {},
     "output_type": "execute_result"
    }
   ],
   "source": [
    "dg1.reshape(2,85630)"
   ]
  },
  {
   "cell_type": "code",
   "execution_count": null,
   "id": "109ee9ec-17b3-4ce8-929b-fb814d567776",
   "metadata": {},
   "outputs": [],
   "source": []
  },
  {
   "cell_type": "code",
   "execution_count": 159,
   "id": "7dc47a86-5eed-44b4-abd3-f56eec967f31",
   "metadata": {},
   "outputs": [
    {
     "data": {
      "text/plain": [
       "(10, 96, 96)"
      ]
     },
     "execution_count": 159,
     "metadata": {},
     "output_type": "execute_result"
    }
   ],
   "source": [
    "np.ones((92160,)).reshape((10,96,96)).shape"
   ]
  },
  {
   "cell_type": "code",
   "execution_count": 160,
   "id": "04e7e844-d21e-49b6-a288-f30d451f7378",
   "metadata": {},
   "outputs": [
    {
     "name": "stdout",
     "output_type": "stream",
     "text": [
      "10\n"
     ]
    }
   ],
   "source": [
    "print(len(np.ones((92160,)).reshape((10,96,96))))"
   ]
  },
  {
   "cell_type": "code",
   "execution_count": null,
   "id": "65f632b9-eb9e-424e-b471-65c392224629",
   "metadata": {},
   "outputs": [],
   "source": []
  }
 ],
 "metadata": {
  "kernelspec": {
   "display_name": "Python 3 (ipykernel)",
   "language": "python",
   "name": "python3"
  },
  "language_info": {
   "codemirror_mode": {
    "name": "ipython",
    "version": 3
   },
   "file_extension": ".py",
   "mimetype": "text/x-python",
   "name": "python",
   "nbconvert_exporter": "python",
   "pygments_lexer": "ipython3",
   "version": "3.9.7"
  }
 },
 "nbformat": 4,
 "nbformat_minor": 5
}
