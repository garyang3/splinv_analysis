{
 "cells": [
  {
   "cell_type": "code",
   "execution_count": 1,
   "id": "581be1e4-82ca-40a8-a42c-281fd18948ab",
   "metadata": {},
   "outputs": [],
   "source": [
    "import numpy as np\n",
    "from astropy.table import Table\n",
    "from astropy.io import fits"
   ]
  },
  {
   "cell_type": "code",
   "execution_count": 2,
   "id": "d7507264-1474-45ac-979f-38ea244b8a7d",
   "metadata": {},
   "outputs": [],
   "source": [
    "arraytosave1 = np.zeros((10,10,48,48))\n",
    "arraytosave2 = np.zeros((10, 10, 2, 10, 48, 48),dtype=np.complex64)"
   ]
  },
  {
   "cell_type": "code",
   "execution_count": null,
   "id": "8cdf6993-ef73-4a55-abf9-52fa388ebc9e",
   "metadata": {},
   "outputs": [],
   "source": []
  },
  {
   "cell_type": "code",
   "execution_count": 3,
   "id": "b7f4b933-9664-4747-829e-007f1e993201",
   "metadata": {},
   "outputs": [
    {
     "data": {
      "text/plain": [
       "4608000"
      ]
     },
     "execution_count": 3,
     "metadata": {},
     "output_type": "execute_result"
    }
   ],
   "source": [
    "48*48*10*2*10*10"
   ]
  },
  {
   "cell_type": "code",
   "execution_count": 4,
   "id": "f2511d5f-348e-497c-95dd-4b3150401354",
   "metadata": {},
   "outputs": [
    {
     "name": "stderr",
     "output_type": "stream",
     "text": [
      "/Users/a1/opt/anaconda3/lib/python3.9/site-packages/astropy/io/fits/util.py:726: ComplexWarning: Casting complex values to real discards the imaginary part\n",
      "  return array.astype(dtype)\n"
     ]
    }
   ],
   "source": [
    "#c1 = fits.Column(name='a', array= arraytosave1, format='23040D',dim='(48,48,10)')\n",
    "c2 = fits.Column(name='b', array= arraytosave2, format='460800D',dim='(48, 48, 10, 2, 10)')\n",
    "# c3 = fits.Column(name='c', array=np.array([7, 8]), format='K')\n",
    "t = fits.BinTableHDU.from_columns([c2])\n",
    "t.writeto('table6.fits')"
   ]
  },
  {
   "cell_type": "code",
   "execution_count": 5,
   "id": "18540f09-e4ac-4477-9f68-7253bd9a0da1",
   "metadata": {},
   "outputs": [
    {
     "data": {
      "text/plain": [
       "(10, 10, 2, 10, 48, 48)"
      ]
     },
     "execution_count": 5,
     "metadata": {},
     "output_type": "execute_result"
    }
   ],
   "source": [
    "test = fits.open('table5.fits')\n",
    "test[1].header\n",
    "data = test[1].data\n",
    "data['b'].shape"
   ]
  },
  {
   "cell_type": "code",
   "execution_count": 6,
   "id": "2fa63783-629c-47a6-87b9-36ada9ffa374",
   "metadata": {},
   "outputs": [],
   "source": [
    "dtype = [\n",
    "    ('x', (str, 5)),        #- 1D column of 5-character strings\n",
    "    ('y', (str, 3), (4,)),  #- 2D column; each row is four 3-char strings\n",
    "]\n",
    "data = np.zeros(2, dtype=dtype)\n",
    "data['x'] = ['abcde', 'xyz']\n",
    "data['y'][0] = ['A', 'BC', 'DEF', '123']\n",
    "data['y'][1] = ['X', 'YZ', 'PQR', '999']"
   ]
  },
  {
   "cell_type": "code",
   "execution_count": 7,
   "id": "674d514d-5bd0-495a-9ddf-2fba8ad368cb",
   "metadata": {},
   "outputs": [
    {
     "name": "stderr",
     "output_type": "stream",
     "text": [
      "WARNING: AstropyDeprecationWarning: \"clobber\" was deprecated in version 2.0 and will be removed in a future version. Use argument \"overwrite\" instead. [warnings]\n"
     ]
    }
   ],
   "source": [
    "col1 = fits.Column(name='x', format='5A', array=data['x'])\n",
    "col2 = fits.Column(name='y', format='12A', array=data['y'], dim='(3,4)')\n",
    "cols = fits.ColDefs([col1, col2])\n",
    "tbhdu = fits.BinTableHDU.from_columns(cols)\n",
    "tbhdu.writeto('blat.fits', clobber=True)"
   ]
  },
  {
   "cell_type": "code",
   "execution_count": 8,
   "id": "75d527fa-671f-42b6-abd5-e5cd707ee6a9",
   "metadata": {},
   "outputs": [
    {
     "data": {
      "text/plain": [
       "(2, 4)"
      ]
     },
     "execution_count": 8,
     "metadata": {},
     "output_type": "execute_result"
    }
   ],
   "source": [
    "test = fits.open('blat.fits')\n",
    "test[1].header\n",
    "data = test[1].data\n",
    "data['y'].shape"
   ]
  },
  {
   "cell_type": "code",
   "execution_count": 15,
   "id": "8f90289b-edea-45d3-8d5b-fcf2c5aca5bb",
   "metadata": {},
   "outputs": [
    {
     "ename": "TypeError",
     "evalue": "__init__() got an unexpected keyword argument 'format'",
     "output_type": "error",
     "traceback": [
      "\u001b[0;31m---------------------------------------------------------------------------\u001b[0m",
      "\u001b[0;31mTypeError\u001b[0m                                 Traceback (most recent call last)",
      "\u001b[0;32m/var/folders/vc/1pffqvxd44q6_lz4rrdn58zh0000gn/T/ipykernel_82639/4106690583.py\u001b[0m in \u001b[0;36m<module>\u001b[0;34m\u001b[0m\n\u001b[0;32m----> 1\u001b[0;31m \u001b[0mhdu1\u001b[0m \u001b[0;34m=\u001b[0m \u001b[0mfits\u001b[0m\u001b[0;34m.\u001b[0m\u001b[0mPrimaryHDU\u001b[0m\u001b[0;34m(\u001b[0m\u001b[0marraytosave2\u001b[0m\u001b[0;34m,\u001b[0m\u001b[0mformat\u001b[0m\u001b[0;34m=\u001b[0m\u001b[0;34m'23040M'\u001b[0m\u001b[0;34m)\u001b[0m\u001b[0;34m\u001b[0m\u001b[0;34m\u001b[0m\u001b[0m\n\u001b[0m",
      "\u001b[0;31mTypeError\u001b[0m: __init__() got an unexpected keyword argument 'format'"
     ]
    }
   ],
   "source": [
    "hdu1 = fits.PrimaryHDU(arraytosave2.real)"
   ]
  },
  {
   "cell_type": "code",
   "execution_count": null,
   "id": "1c3c9a65-09ba-4d24-94ee-530fe6e200b1",
   "metadata": {},
   "outputs": [],
   "source": []
  }
 ],
 "metadata": {
  "kernelspec": {
   "display_name": "Python 3 (ipykernel)",
   "language": "python",
   "name": "python3"
  },
  "language_info": {
   "codemirror_mode": {
    "name": "ipython",
    "version": 3
   },
   "file_extension": ".py",
   "mimetype": "text/x-python",
   "name": "python",
   "nbconvert_exporter": "python",
   "pygments_lexer": "ipython3",
   "version": "3.9.7"
  }
 },
 "nbformat": 4,
 "nbformat_minor": 5
}
