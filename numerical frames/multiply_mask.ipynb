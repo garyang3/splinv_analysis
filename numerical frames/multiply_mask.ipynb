{
 "cells": [
  {
   "cell_type": "code",
   "execution_count": 1,
   "id": "2d8939ea-fff1-4d02-8a1c-fef691d74661",
   "metadata": {},
   "outputs": [],
   "source": [
    "import numpy as np"
   ]
  },
  {
   "cell_type": "code",
   "execution_count": 3,
   "id": "431dffef-ac1c-485a-8fe7-6bcecc6ba9fe",
   "metadata": {},
   "outputs": [],
   "source": [
    "a = [True,True,False,False]\n",
    "b = [False,True,True,False]"
   ]
  },
  {
   "cell_type": "code",
   "execution_count": 5,
   "id": "438c8d64-5142-43ca-b0a7-fffe16b7e8e7",
   "metadata": {},
   "outputs": [
    {
     "data": {
      "text/plain": [
       "array([False,  True, False, False])"
      ]
     },
     "execution_count": 5,
     "metadata": {},
     "output_type": "execute_result"
    }
   ],
   "source": [
    "np.logical_and(a,b)"
   ]
  },
  {
   "cell_type": "code",
   "execution_count": 12,
   "id": "503711b5-689c-4c7e-903b-100324ce9ca1",
   "metadata": {},
   "outputs": [
    {
     "name": "stdout",
     "output_type": "stream",
     "text": [
      "[False False  True  True False False]\n"
     ]
    }
   ],
   "source": [
    "x = [0.31, 1.2, 0.01, 0.3, -0.4, -1.1]\n",
    "x_mask = np.ma.masked_inside(x, -0.3, 0.3)\n",
    "print(x_mask.mask)"
   ]
  },
  {
   "cell_type": "code",
   "execution_count": 11,
   "id": "bc3b8778-763f-40f6-8aa5-55ea6c20ee0e",
   "metadata": {},
   "outputs": [
    {
     "data": {
      "text/plain": [
       "array([0, 0, 1, 1, 0, 0])"
      ]
     },
     "execution_count": 11,
     "metadata": {},
     "output_type": "execute_result"
    }
   ],
   "source": [
    "x_mask.mask.astype(int)"
   ]
  },
  {
   "cell_type": "code",
   "execution_count": 13,
   "id": "47856ab4-a6e9-48a5-82e7-4bef2bf8533a",
   "metadata": {},
   "outputs": [
    {
     "name": "stdout",
     "output_type": "stream",
     "text": [
      "src_z%02d_m%02d_n%03d.fits\n"
     ]
    }
   ],
   "source": [
    "print('src_z%02d_m%02d_n%03d.fits')"
   ]
  },
  {
   "cell_type": "code",
   "execution_count": null,
   "id": "a2dffc33-782c-43f6-8b9c-b05ea6e353c1",
   "metadata": {},
   "outputs": [],
   "source": []
  }
 ],
 "metadata": {
  "kernelspec": {
   "display_name": "Python 3 (ipykernel)",
   "language": "python",
   "name": "python3"
  },
  "language_info": {
   "codemirror_mode": {
    "name": "ipython",
    "version": 3
   },
   "file_extension": ".py",
   "mimetype": "text/x-python",
   "name": "python",
   "nbconvert_exporter": "python",
   "pygments_lexer": "ipython3",
   "version": "3.9.7"
  }
 },
 "nbformat": 4,
 "nbformat_minor": 5
}
