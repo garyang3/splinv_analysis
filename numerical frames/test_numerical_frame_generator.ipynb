{
 "cells": [
  {
   "cell_type": "code",
   "execution_count": 1,
   "id": "ed111bc3-140d-49f9-ab0e-bc10f898e8d3",
   "metadata": {},
   "outputs": [],
   "source": [
    "import numpy as np\n",
    "from splinv import detect\n",
    "from splinv import hmod\n",
    "from splinv import darkmapper\n",
    "from splinv.grid import Cartesian\n",
    "from configparser import ConfigParser\n",
    "import splinv\n",
    "import time\n",
    "import matplotlib.pyplot as plt\n",
    "from astropy.io import fits\n",
    "from astropy.cosmology import FlatLambdaCDM as Cosmo"
   ]
  },
  {
   "cell_type": "code",
   "execution_count": 2,
   "id": "a97e208e-b91c-4bc5-9500-36584d84ff6e",
   "metadata": {},
   "outputs": [],
   "source": [
    "configName  =   'simulator.ini'\n",
    "parser      =   ConfigParser()\n",
    "parser.read(configName)\n",
    "parser.set('sparse','mu','3e-4')            #step size for gradient descent\n",
    "parser.set('lens','resolve_lim','0.02')     #pix\n",
    "parser.set('lens','rs_base','%s' %(0.4))  #Mpc/h\n",
    "parser.set('sparse','nframe','1' )\n",
    "parser.set('transPlane','smooth_scale','1.5')\n",
    "parser.set('transPlane','nx','96')\n",
    "parser.set('transPlane','ny','96')#larger stamp size\n",
    "parser.set('transPlane','xmin','-97')\n",
    "parser.set('transPlane','ymin','-97')\n",
    "Grid        =   Cartesian(parser)"
   ]
  },
  {
   "cell_type": "code",
   "execution_count": 3,
   "id": "ba27bf96-1f04-4c04-988e-1beab9dd9d10",
   "metadata": {},
   "outputs": [
    {
     "data": {
      "text/plain": [
       "array([[[[1.69675826e-03, 1.71097749e-03, 1.73936356e-03, ...,\n",
       "          1.77517859e-03, 1.74011150e-03, 1.71119148e-03],\n",
       "         [1.71097432e-03, 1.72566230e-03, 1.75461296e-03, ...,\n",
       "          1.79098017e-03, 1.75526255e-03, 1.72569274e-03],\n",
       "         [1.73952887e-03, 1.75470510e-03, 1.78478590e-03, ...,\n",
       "          1.82214551e-03, 1.78538117e-03, 1.75482237e-03],\n",
       "         ...,\n",
       "         [1.77474801e-03, 1.79019174e-03, 1.82182839e-03, ...,\n",
       "          1.86088299e-03, 1.82216800e-03, 1.79067049e-03],\n",
       "         [1.73972398e-03, 1.75483202e-03, 1.78514795e-03, ...,\n",
       "          1.82220240e-03, 1.78534202e-03, 1.75511442e-03],\n",
       "         [1.71109665e-03, 1.72569483e-03, 1.75476182e-03, ...,\n",
       "          1.79108958e-03, 1.75553352e-03, 1.72590625e-03]]],\n",
       "\n",
       "\n",
       "       [[[6.62172315e-04, 6.68005065e-04, 6.79380960e-04, ...,\n",
       "          6.93267848e-04, 6.79209716e-04, 6.67877047e-04],\n",
       "         [6.67750961e-04, 6.73774032e-04, 6.85464031e-04, ...,\n",
       "          6.99596881e-04, 6.85266445e-04, 6.73608310e-04],\n",
       "         [6.79143181e-04, 6.85311180e-04, 6.97390408e-04, ...,\n",
       "          7.12210235e-04, 6.97382045e-04, 6.85262658e-04],\n",
       "         ...,\n",
       "         [6.93393602e-04, 6.99608678e-04, 7.12242119e-04, ...,\n",
       "          7.27383276e-04, 7.12177833e-04, 6.99701961e-04],\n",
       "         [6.79338823e-04, 6.85433372e-04, 6.97498468e-04, ...,\n",
       "          7.12236096e-04, 6.97436753e-04, 6.85361902e-04],\n",
       "         [6.67899930e-04, 6.73770012e-04, 6.85363116e-04, ...,\n",
       "          6.99629053e-04, 6.85212642e-04, 6.73661309e-04]]],\n",
       "\n",
       "\n",
       "       [[[3.70363666e-04, 3.73652632e-04, 3.80121851e-04, ...,\n",
       "          3.87974777e-04, 3.80053269e-04, 3.73547836e-04],\n",
       "         [3.73664855e-04, 3.77031694e-04, 3.83551843e-04, ...,\n",
       "          3.91511509e-04, 3.83562242e-04, 3.76965342e-04],\n",
       "         [3.80140021e-04, 3.83541667e-04, 3.90270612e-04, ...,\n",
       "          3.98481887e-04, 3.90319078e-04, 3.83595949e-04],\n",
       "         ...,\n",
       "         [3.88031826e-04, 3.91621086e-04, 3.98710553e-04, ...,\n",
       "          4.07269084e-04, 3.98530636e-04, 3.91518226e-04],\n",
       "         [3.80069499e-04, 3.83493423e-04, 3.90346790e-04, ...,\n",
       "          3.98585491e-04, 3.90249618e-04, 3.83434092e-04],\n",
       "         [3.73624359e-04, 3.76905426e-04, 3.83479343e-04, ...,\n",
       "          3.91508382e-04, 3.83430657e-04, 3.76824950e-04]]],\n",
       "\n",
       "\n",
       "       ...,\n",
       "\n",
       "\n",
       "       [[[9.95604176e-05, 1.00452611e-04, 1.02202687e-04, ...,\n",
       "          1.04341197e-04, 1.02218331e-04, 1.00470667e-04],\n",
       "         [1.00447042e-04, 1.01347961e-04, 1.03139033e-04, ...,\n",
       "          1.05341479e-04, 1.03166518e-04, 1.01377665e-04],\n",
       "         [1.02203229e-04, 1.03123046e-04, 1.04999120e-04, ...,\n",
       "          1.07265202e-04, 1.05009363e-04, 1.03154109e-04],\n",
       "         ...,\n",
       "         [1.04332179e-04, 1.05303680e-04, 1.07227384e-04, ...,\n",
       "          1.09593075e-04, 1.07235319e-04, 1.05303157e-04],\n",
       "         [1.02200594e-04, 1.03140135e-04, 1.04971849e-04, ...,\n",
       "          1.07227088e-04, 1.04954700e-04, 1.03105609e-04],\n",
       "         [1.00453396e-04, 1.01366648e-04, 1.03133376e-04, ...,\n",
       "          1.05308016e-04, 1.03109537e-04, 1.01344450e-04]]],\n",
       "\n",
       "\n",
       "       [[[8.70266988e-05, 8.77904055e-05, 8.93388743e-05, ...,\n",
       "          9.12020542e-05, 8.93305300e-05, 8.77925394e-05],\n",
       "         [8.77787774e-05, 8.85585890e-05, 9.01344059e-05, ...,\n",
       "          9.20383484e-05, 9.01172342e-05, 8.85575404e-05],\n",
       "         [8.93118125e-05, 9.01187707e-05, 9.17603512e-05, ...,\n",
       "          9.37265354e-05, 9.17372928e-05, 9.01202482e-05],\n",
       "         ...,\n",
       "         [9.11905235e-05, 9.20473850e-05, 9.37368664e-05, ...,\n",
       "          9.57950828e-05, 9.37415547e-05, 9.20458481e-05],\n",
       "         [8.93334928e-05, 9.01565532e-05, 9.17804636e-05, ...,\n",
       "          9.37411872e-05, 9.17704240e-05, 9.01458354e-05],\n",
       "         [8.77998540e-05, 8.85957529e-05, 9.01727722e-05, ...,\n",
       "          9.20551197e-05, 9.01531942e-05, 8.85844368e-05]]],\n",
       "\n",
       "\n",
       "       [[[7.76242085e-05, 7.83009568e-05, 7.96883066e-05, ...,\n",
       "          8.13922534e-05, 7.96940829e-05, 7.83086832e-05],\n",
       "         [7.83181866e-05, 7.90034359e-05, 8.04206280e-05, ...,\n",
       "          8.21346033e-05, 8.04189820e-05, 7.90233097e-05],\n",
       "         [7.97135102e-05, 8.04227603e-05, 8.18730340e-05, ...,\n",
       "          8.36469026e-05, 8.18655806e-05, 8.04307184e-05],\n",
       "         ...,\n",
       "         [8.13816967e-05, 8.21358379e-05, 8.36416555e-05, ...,\n",
       "          8.54670513e-05, 8.36507227e-05, 8.21524212e-05],\n",
       "         [7.97019461e-05, 8.04265592e-05, 8.18810533e-05, ...,\n",
       "          8.36425107e-05, 8.19063013e-05, 8.04490161e-05],\n",
       "         [7.83177427e-05, 7.90173805e-05, 8.04290728e-05, ...,\n",
       "          8.21554856e-05, 8.04473416e-05, 7.90338335e-05]]]])"
      ]
     },
     "execution_count": 3,
     "metadata": {},
     "output_type": "execute_result"
    }
   ],
   "source": [
    "nframe_gen1 = hmod.prepare_numerical_frame(parser,np.array([15.0]),'SmoothZero9696/NFW96_150.fits')\n",
    "nframe_gen1.create_frames(long_truncation = True, OLS03=True)"
   ]
  },
  {
   "cell_type": "code",
   "execution_count": 4,
   "id": "1c0c95b6-acb8-4d5e-a9f2-92b4627cc81a",
   "metadata": {},
   "outputs": [],
   "source": [
    "nframe_gen1 = hmod.prepare_numerical_frame(parser,np.array([14.6]),'SmoothZero128128/NFW128_146.fits')\n",
    "nframe_gen2 = hmod.prepare_numerical_frame(parser,np.array([14.8]),'SmoothZero128128/NFW128_148.fits')\n",
    "nframe_gen6 = hmod.prepare_numerical_frame(parser,np.array([15.2]),'SmoothZero128128/NFW128_152.fits')\n"
   ]
  },
  {
   "cell_type": "code",
   "execution_count": 5,
   "id": "c20c5847-3edd-4f8b-882a-16dea743e238",
   "metadata": {},
   "outputs": [
    {
     "data": {
      "text/plain": [
       "array([[[[9.43285317e-04, 9.53836155e-04, 9.68160193e-04, ...,\n",
       "          9.82932770e-04, 9.68315864e-04, 9.53715087e-04],\n",
       "         [9.53911902e-04, 9.64770674e-04, 9.79969391e-04, ...,\n",
       "          9.94697743e-04, 9.79534157e-04, 9.64847975e-04],\n",
       "         [9.68185951e-04, 9.79642244e-04, 9.94860243e-04, ...,\n",
       "          1.01026779e-03, 9.94845066e-04, 9.79585867e-04],\n",
       "         ...,\n",
       "         [9.83016066e-04, 9.94792541e-04, 1.01056130e-03, ...,\n",
       "          1.02612450e-03, 1.01013106e-03, 9.94647031e-04],\n",
       "         [9.68355704e-04, 9.79657355e-04, 9.95047659e-04, ...,\n",
       "          1.01018756e-03, 9.94846863e-04, 9.79711967e-04],\n",
       "         [9.53845676e-04, 9.64727536e-04, 9.79507540e-04, ...,\n",
       "          9.94705784e-04, 9.79398380e-04, 9.64462610e-04]]],\n",
       "\n",
       "\n",
       "       [[[3.66185629e-04, 3.70439022e-04, 3.76115613e-04, ...,\n",
       "          3.81964211e-04, 3.76218732e-04, 3.70497896e-04],\n",
       "         [3.70430581e-04, 3.74789422e-04, 3.80591850e-04, ...,\n",
       "          3.86572632e-04, 3.80618219e-04, 3.74823387e-04],\n",
       "         [3.76163884e-04, 3.80582770e-04, 3.86840814e-04, ...,\n",
       "          3.92726521e-04, 3.86607643e-04, 3.80705331e-04],\n",
       "         ...,\n",
       "         [3.82056001e-04, 3.86536774e-04, 3.92807518e-04, ...,\n",
       "          3.99115922e-04, 3.92835207e-04, 3.86553272e-04],\n",
       "         [3.76215113e-04, 3.80661437e-04, 3.86702967e-04, ...,\n",
       "          3.92761270e-04, 3.86687085e-04, 3.80592298e-04],\n",
       "         [3.70466980e-04, 3.74711199e-04, 3.80671502e-04, ...,\n",
       "          3.86573314e-04, 3.80665871e-04, 3.74771686e-04]]],\n",
       "\n",
       "\n",
       "       [[[2.04454781e-04, 2.06828615e-04, 2.10023936e-04, ...,\n",
       "          2.13300534e-04, 2.09967085e-04, 2.06826016e-04],\n",
       "         [2.06779260e-04, 2.09263166e-04, 2.12585651e-04, ...,\n",
       "          2.15892170e-04, 2.12529502e-04, 2.09261763e-04],\n",
       "         [2.10017388e-04, 2.12571434e-04, 2.15948729e-04, ...,\n",
       "          2.19369352e-04, 2.15997734e-04, 2.12544067e-04],\n",
       "         ...,\n",
       "         [2.13313345e-04, 2.15877886e-04, 2.19333595e-04, ...,\n",
       "          2.22935029e-04, 2.19415190e-04, 2.15849569e-04],\n",
       "         [2.10013894e-04, 2.12534325e-04, 2.15955566e-04, ...,\n",
       "          2.19354383e-04, 2.15915987e-04, 2.12545909e-04],\n",
       "         [2.06785064e-04, 2.09224482e-04, 2.12550063e-04, ...,\n",
       "          2.15897337e-04, 2.12543583e-04, 2.09179912e-04]]],\n",
       "\n",
       "\n",
       "       ...,\n",
       "\n",
       "\n",
       "       [[[5.47682827e-05, 5.54273552e-05, 5.63058670e-05, ...,\n",
       "          5.71911177e-05, 5.62893764e-05, 5.54360687e-05],\n",
       "         [5.54230307e-05, 5.60779810e-05, 5.69879471e-05, ...,\n",
       "          5.78777810e-05, 5.69757381e-05, 5.60877534e-05],\n",
       "         [5.62924014e-05, 5.69674683e-05, 5.78904244e-05, ...,\n",
       "          5.88099082e-05, 5.78991259e-05, 5.69623188e-05],\n",
       "         ...,\n",
       "         [5.71631169e-05, 5.79040626e-05, 5.88183842e-05, ...,\n",
       "          5.97868017e-05, 5.88359433e-05, 5.78772762e-05],\n",
       "         [5.63014274e-05, 5.69946773e-05, 5.78862498e-05, ...,\n",
       "          5.88342522e-05, 5.78887319e-05, 5.69780512e-05],\n",
       "         [5.54272283e-05, 5.60954736e-05, 5.69624904e-05, ...,\n",
       "          5.78847076e-05, 5.69803555e-05, 5.60903926e-05]]],\n",
       "\n",
       "\n",
       "       [[[4.78773648e-05, 4.84458053e-05, 4.91905181e-05, ...,\n",
       "          4.99540555e-05, 4.91998459e-05, 4.84414222e-05],\n",
       "         [4.84363276e-05, 4.90116695e-05, 4.97823012e-05, ...,\n",
       "          5.05767049e-05, 4.97770043e-05, 4.90135682e-05],\n",
       "         [4.91908706e-05, 4.97937768e-05, 5.05867487e-05, ...,\n",
       "          5.14135946e-05, 5.05805007e-05, 4.97969432e-05],\n",
       "         ...,\n",
       "         [4.99622139e-05, 5.05801370e-05, 5.13948646e-05, ...,\n",
       "          5.22394730e-05, 5.13951198e-05, 5.05646181e-05],\n",
       "         [4.91922375e-05, 4.97915720e-05, 5.05910568e-05, ...,\n",
       "          5.14139827e-05, 5.05811070e-05, 4.97836003e-05],\n",
       "         [4.84489523e-05, 4.90061250e-05, 4.97886820e-05, ...,\n",
       "          5.05870901e-05, 4.97915275e-05, 4.90116936e-05]]],\n",
       "\n",
       "\n",
       "       [[[4.27052200e-05, 4.32136963e-05, 4.38835041e-05, ...,\n",
       "          4.45710206e-05, 4.38792901e-05, 4.32000359e-05],\n",
       "         [4.31978128e-05, 4.37159546e-05, 4.44167338e-05, ...,\n",
       "          4.51127382e-05, 4.44131021e-05, 4.37333316e-05],\n",
       "         [4.38867821e-05, 4.44049053e-05, 4.51227140e-05, ...,\n",
       "          4.58639978e-05, 4.51316007e-05, 4.44160292e-05],\n",
       "         ...,\n",
       "         [4.45652003e-05, 4.51141631e-05, 4.58563289e-05, ...,\n",
       "          4.66036616e-05, 4.58639827e-05, 4.51227530e-05],\n",
       "         [4.38800905e-05, 4.44165332e-05, 4.51327821e-05, ...,\n",
       "          4.58604676e-05, 4.51276988e-05, 4.44120183e-05],\n",
       "         [4.32053342e-05, 4.37177257e-05, 4.44129133e-05, ...,\n",
       "          4.51208727e-05, 4.44055170e-05, 4.37207978e-05]]]])"
      ]
     },
     "execution_count": 5,
     "metadata": {},
     "output_type": "execute_result"
    }
   ],
   "source": [
    "nframe_gen1.create_frames(long_truncation = True, OLS03=True)\n",
    "nframe_gen2.create_frames(long_truncation = True, OLS03=True)\n",
    "nframe_gen6.create_frames(long_truncation = True, OLS03=True)\n"
   ]
  },
  {
   "cell_type": "code",
   "execution_count": 5,
   "id": "2daf5039-46b6-40bf-a62b-4ccecf2b2f16",
   "metadata": {},
   "outputs": [],
   "source": [
    "nframe_gen1 = hmod.prepare_numerical_frame(parser,np.array([14.8]),'SmoothZero4848/CUSPY_148_0.fits',alpha=1.5)\n",
    "nframe_gen2 = hmod.prepare_numerical_frame(parser,np.array([15.0]),'SmoothZero4848/CUSPY_150_0.fits',alpha=1.5)\n",
    "nframe_gen3 = hmod.prepare_numerical_frame(parser,np.array([15.2]),'SmoothZero4848/CUSPY_152_0.fits',alpha=1.5)\n",
    "nframe_gen4 = hmod.prepare_numerical_frame(parser,np.array([15.4]),'SmoothZero4848/CUSPY_154_0.fits',alpha=1.5)\n",
    "nframe_gen5 = hmod.prepare_numerical_frame(parser,np.array([15.6]),'SmoothZero4848/CUSPY_156_0.fits',alpha=1.5)\n",
    "\n",
    "\n",
    "\n",
    "nframe_gen6 = hmod.prepare_numerical_frame(parser,np.array([14.8]),'SmoothZero4848/NFW_148_0.fits')\n",
    "nframe_gen7 = hmod.prepare_numerical_frame(parser,np.array([15.0]),'SmoothZero4848/NFW_150_0.fits')\n",
    "nframe_gen8 = hmod.prepare_numerical_frame(parser,np.array([15.2]),'SmoothZero4848/NFW_152_0.fits')\n",
    "nframe_gen9 = hmod.prepare_numerical_frame(parser,np.array([15.4]),'SmoothZero4848/NFW_154_0.fits')\n",
    "nframe_gen10 = hmod.prepare_numerical_frame(parser,np.array([15.6]),'SmoothZero4848/NFW_156_0.fits')\n",
    "\n",
    "\n"
   ]
  },
  {
   "cell_type": "code",
   "execution_count": 6,
   "id": "9046ad31-fb60-4e74-bd4c-6df132c2798b",
   "metadata": {},
   "outputs": [
    {
     "name": "stdout",
     "output_type": "stream",
     "text": [
      "0.03333333333333333\n",
      "0.03333333333333333\n",
      "0.03333333333333333\n",
      "0.03333333333333333\n",
      "0.03333333333333333\n",
      "0.03333333333333333\n",
      "0.03333333333333333\n",
      "0.03333333333333333\n",
      "0.03333333333333333\n",
      "0.03333333333333333\n",
      "0.03333333333333333\n",
      "0.03333333333333333\n",
      "0.03333333333333333\n",
      "0.03333333333333333\n",
      "0.03333333333333333\n",
      "0.03333333333333333\n",
      "0.03333333333333333\n",
      "0.03333333333333333\n",
      "0.03333333333333333\n",
      "0.03333333333333333\n",
      "0.03333333333333333\n",
      "0.03333333333333333\n",
      "0.03333333333333333\n",
      "0.03333333333333333\n",
      "0.03333333333333333\n",
      "0.03333333333333333\n",
      "0.03333333333333333\n",
      "0.03333333333333333\n",
      "0.03333333333333333\n",
      "0.03333333333333333\n",
      "0.03333333333333333\n",
      "0.03333333333333333\n",
      "0.03333333333333333\n",
      "0.03333333333333333\n",
      "0.03333333333333333\n",
      "0.03333333333333333\n",
      "0.03333333333333333\n",
      "0.03333333333333333\n",
      "0.03333333333333333\n",
      "0.03333333333333333\n",
      "0.03333333333333333\n",
      "0.03333333333333333\n",
      "0.03333333333333333\n",
      "0.03333333333333333\n",
      "0.03333333333333333\n",
      "0.03333333333333333\n",
      "0.03333333333333333\n",
      "0.03333333333333333\n",
      "0.03333333333333333\n",
      "0.03333333333333333\n",
      "0.03333333333333333\n",
      "0.03333333333333333\n",
      "0.03333333333333333\n",
      "0.03333333333333333\n",
      "0.03333333333333333\n",
      "0.03333333333333333\n",
      "0.03333333333333333\n",
      "0.03333333333333333\n",
      "0.03333333333333333\n",
      "0.03333333333333333\n",
      "0.03333333333333333\n",
      "0.03333333333333333\n",
      "0.03333333333333333\n",
      "0.03333333333333333\n",
      "0.03333333333333333\n",
      "0.03333333333333333\n",
      "0.03333333333333333\n",
      "0.03333333333333333\n",
      "0.03333333333333333\n",
      "0.03333333333333333\n",
      "0.03333333333333333\n",
      "0.03333333333333333\n",
      "0.03333333333333333\n",
      "0.03333333333333333\n",
      "0.03333333333333333\n",
      "0.03333333333333333\n",
      "0.03333333333333333\n",
      "0.03333333333333333\n",
      "0.03333333333333333\n",
      "0.03333333333333333\n",
      "0.03333333333333333\n",
      "0.03333333333333333\n",
      "0.03333333333333333\n",
      "0.03333333333333333\n",
      "0.03333333333333333\n",
      "0.03333333333333333\n",
      "0.03333333333333333\n",
      "0.03333333333333333\n",
      "0.03333333333333333\n",
      "0.03333333333333333\n",
      "0.03333333333333333\n",
      "0.03333333333333333\n",
      "0.03333333333333333\n",
      "0.03333333333333333\n",
      "0.03333333333333333\n",
      "0.03333333333333333\n",
      "0.03333333333333333\n",
      "0.03333333333333333\n",
      "0.03333333333333333\n",
      "0.03333333333333333\n"
     ]
    },
    {
     "data": {
      "text/plain": [
       "array([[[[0.00554382, 0.00569729, 0.00590794, ..., 0.0061286 ,\n",
       "          0.00590994, 0.00569503],\n",
       "         [0.00569927, 0.00586019, 0.00608213, ..., 0.00631883,\n",
       "          0.00608171, 0.00585812],\n",
       "         [0.00590861, 0.00608333, 0.0063295 , ..., 0.00657916,\n",
       "          0.00633168, 0.00608614],\n",
       "         ...,\n",
       "         [0.00612027, 0.00631198, 0.00657985, ..., 0.00685063,\n",
       "          0.00657988, 0.00631553],\n",
       "         [0.0059094 , 0.00608259, 0.00632411, ..., 0.00658104,\n",
       "          0.00632888, 0.00608621],\n",
       "         [0.0056971 , 0.00586273, 0.00608562, ..., 0.00631888,\n",
       "          0.00608316, 0.00586017]]],\n",
       "\n",
       "\n",
       "       [[[0.00232377, 0.00239124, 0.00248391, ..., 0.00258218,\n",
       "          0.00248499, 0.00239314],\n",
       "         [0.00239159, 0.00246577, 0.00256337, ..., 0.00266645,\n",
       "          0.00256255, 0.00246467],\n",
       "         [0.00248423, 0.0025652 , 0.00267217, ..., 0.00278598,\n",
       "          0.00267344, 0.00256299],\n",
       "         ...,\n",
       "         [0.00258111, 0.00266612, 0.00278592, ..., 0.00290744,\n",
       "          0.00278402, 0.00266774],\n",
       "         [0.00248477, 0.00256479, 0.00267193, ..., 0.00278531,\n",
       "          0.00267193, 0.00256382],\n",
       "         [0.00239093, 0.0024648 , 0.00256467, ..., 0.00266602,\n",
       "          0.00256479, 0.00246416]]],\n",
       "\n",
       "\n",
       "       [[[0.00134188, 0.00138201, 0.00143663, ..., 0.00149466,\n",
       "          0.00143756, 0.00138043],\n",
       "         [0.00138159, 0.00142497, 0.00148345, ..., 0.00154451,\n",
       "          0.00148331, 0.00142441],\n",
       "         [0.00143694, 0.00148419, 0.00154916, ..., 0.00161439,\n",
       "          0.00154791, 0.00148369],\n",
       "         ...,\n",
       "         [0.00149337, 0.00154593, 0.00161582, ..., 0.00168794,\n",
       "          0.00161526, 0.00154542],\n",
       "         [0.00143702, 0.0014834 , 0.001548  , ..., 0.00161501,\n",
       "          0.00154819, 0.0014836 ],\n",
       "         [0.00138183, 0.00142513, 0.00148391, ..., 0.00154442,\n",
       "          0.00148457, 0.00142468]]],\n",
       "\n",
       "\n",
       "       ...,\n",
       "\n",
       "\n",
       "       [[[0.00037791, 0.00038974, 0.0004059 , ..., 0.00042291,\n",
       "          0.00040608, 0.0003899 ],\n",
       "         [0.00038964, 0.00040228, 0.00041964, ..., 0.00043799,\n",
       "          0.00041938, 0.00040231],\n",
       "         [0.00040598, 0.00041975, 0.00043851, ..., 0.00045823,\n",
       "          0.00043825, 0.00041956],\n",
       "         ...,\n",
       "         [0.00042275, 0.00043791, 0.0004584 , ..., 0.00048034,\n",
       "          0.00045798, 0.0004376 ],\n",
       "         [0.00040594, 0.00041968, 0.00043807, ..., 0.00045817,\n",
       "          0.00043838, 0.00041944],\n",
       "         [0.00038968, 0.00040214, 0.00041984, ..., 0.00043767,\n",
       "          0.00041939, 0.00040224]]],\n",
       "\n",
       "\n",
       "       [[[0.00033174, 0.00034184, 0.00035614, ..., 0.00037098,\n",
       "          0.00035654, 0.00034184],\n",
       "         [0.00034176, 0.00035316, 0.0003682 , ..., 0.00038397,\n",
       "          0.00036812, 0.00035286],\n",
       "         [0.00035595, 0.00036791, 0.00038485, ..., 0.00040208,\n",
       "          0.00038485, 0.00036812],\n",
       "         ...,\n",
       "         [0.00037089, 0.00038382, 0.00040215, ..., 0.00042095,\n",
       "          0.00040195, 0.00038395],\n",
       "         [0.00035628, 0.00036828, 0.0003847 , ..., 0.0004021 ,\n",
       "          0.00038471, 0.00036799],\n",
       "         [0.00034192, 0.00035258, 0.0003681 , ..., 0.00038409,\n",
       "          0.00036826, 0.00035273]]],\n",
       "\n",
       "\n",
       "       [[[0.00029679, 0.00030562, 0.0003188 , ..., 0.00033201,\n",
       "          0.00031867, 0.00030605],\n",
       "         [0.00030599, 0.00031578, 0.00032944, ..., 0.00034369,\n",
       "          0.00032938, 0.0003158 ],\n",
       "         [0.00031864, 0.00032966, 0.00034432, ..., 0.00036   ,\n",
       "          0.00034443, 0.00032969],\n",
       "         ...,\n",
       "         [0.00033195, 0.00034364, 0.00035986, ..., 0.00037702,\n",
       "          0.00036015, 0.00034362],\n",
       "         [0.00031899, 0.0003295 , 0.00034438, ..., 0.00035996,\n",
       "          0.00034442, 0.00032956],\n",
       "         [0.000306  , 0.00031581, 0.00032946, ..., 0.00034382,\n",
       "          0.00032938, 0.00031602]]]])"
      ]
     },
     "execution_count": 6,
     "metadata": {},
     "output_type": "execute_result"
    }
   ],
   "source": [
    "nframe_gen1.create_frames(long_truncation = True, OLS03=True)\n",
    "nframe_gen2.create_frames(long_truncation = True, OLS03=True)\n",
    "nframe_gen3.create_frames(long_truncation = True, OLS03=True)\n",
    "nframe_gen4.create_frames(long_truncation = True, OLS03=True)\n",
    "nframe_gen5.create_frames(long_truncation = True, OLS03=True)\n",
    "nframe_gen6.create_frames(long_truncation = True, OLS03=True)\n",
    "nframe_gen7.create_frames(long_truncation = True, OLS03=True)\n",
    "nframe_gen8.create_frames(long_truncation = True, OLS03=True)\n",
    "nframe_gen9.create_frames(long_truncation = True, OLS03=True)\n",
    "nframe_gen10.create_frames(long_truncation = True, OLS03=True)"
   ]
  },
  {
   "cell_type": "code",
   "execution_count": 6,
   "id": "87fb240b-8ff6-46d9-beb6-e725037a4503",
   "metadata": {},
   "outputs": [
    {
     "name": "stdout",
     "output_type": "stream",
     "text": [
      "0.016666666666666666\n",
      "0.016666666666666666\n",
      "0.016666666666666666\n",
      "0.016666666666666666\n",
      "0.016666666666666666\n",
      "0.016666666666666666\n",
      "0.016666666666666666\n",
      "0.016666666666666666\n",
      "0.016666666666666666\n",
      "0.016666666666666666\n"
     ]
    }
   ],
   "source": [
    "dictionary = nframe_gen.create_frames(long_truncation = True, OLS03=True)"
   ]
  },
  {
   "cell_type": "code",
   "execution_count": 18,
   "id": "f848715f-1365-4401-8b42-4c5ae8f1772c",
   "metadata": {},
   "outputs": [
    {
     "data": {
      "text/plain": [
       "0.03333333333333333"
      ]
     },
     "execution_count": 18,
     "metadata": {},
     "output_type": "execute_result"
    }
   ],
   "source": [
    "nframe_gen.scale"
   ]
  },
  {
   "cell_type": "code",
   "execution_count": 20,
   "id": "12b58ea5-9a8d-40d0-a404-57071e4097a3",
   "metadata": {},
   "outputs": [
    {
     "data": {
      "text/plain": [
       "0.03333333333333333"
      ]
     },
     "execution_count": 20,
     "metadata": {},
     "output_type": "execute_result"
    }
   ],
   "source": []
  },
  {
   "cell_type": "code",
   "execution_count": 22,
   "id": "2a889053-f978-4013-a806-c2b627192ff1",
   "metadata": {},
   "outputs": [],
   "source": [
    "z_h1     =  0.2425\n",
    "z_h2     =  0.5\n",
    "log_m1   =  14.4\n",
    "M_200_1   =  10.**(log_m1)\n",
    "conc = 4\n",
    "halo1    =  hmod.triaxialJS02(mass=M_200_1,conc=conc,redshift=z_h1,ra=0.,dec=0,a_over_c=1,a_over_b=1, tri_nfw = False, long_truncation = True, OLS03 = True) #33,16\n",
    "# halo2    =  hmod.triaxialJS02(mass=M_200_1,conc=conc,redshift=z_h1,ra=0.,dec=0,a_over_c=1,a_over_b=1, tri_nfw = False, long_truncation = True, OLS03 = True) #33,16\n",
    "# halo3    =  hmod.triaxialJS02(mass=M_200_1,conc=conc,redshift=z_h1,ra=0.,dec=0,a_over_c=1,a_over_b=1, tri_nfw = True, long_truncation = True, OLS03 = False) #33,16\n",
    "# halo4    =  hmod.triaxialJS02(mass=M_200_1,conc=conc,redshift=z_h1,ra=0.,dec=0,a_over_c=1,a_over_b=1, tri_nfw = True, long_truncation = True, OLS03 = True) #33,16\n"
   ]
  },
  {
   "cell_type": "code",
   "execution_count": 45,
   "id": "9d94c6d5-5a8f-4cfd-b103-78c31c250e71",
   "metadata": {},
   "outputs": [],
   "source": [
    "sigma1, ra1, dec1, nsamp1 = hmod.haloJS02SigmaAtom_mock_catalog(halo1, 2/60, 48, 48,\n",
    "                                                                       normalize=False)"
   ]
  },
  {
   "cell_type": "code",
   "execution_count": 55,
   "id": "8e00a861-c59e-4e52-a066-73854e2e755e",
   "metadata": {},
   "outputs": [
    {
     "data": {
      "text/plain": [
       "-0.7999996621298715"
      ]
     },
     "execution_count": 55,
     "metadata": {},
     "output_type": "execute_result"
    }
   ],
   "source": [
    "np.min(ra1)"
   ]
  },
  {
   "cell_type": "code",
   "execution_count": 46,
   "id": "db83ec53-833e-43ae-83d5-7cead51ab6a0",
   "metadata": {},
   "outputs": [],
   "source": [
    "sigma1 = nframe_gen.pixelize_data(ra1, dec1, np.ones(nsamp1) / 10., sigma1, method='FFT')[0]"
   ]
  },
  {
   "cell_type": "code",
   "execution_count": 58,
   "id": "256cbd64-743b-4d1e-89dc-9fcbc2f31b38",
   "metadata": {},
   "outputs": [],
   "source": [
    "sigma2, ra2, dec2, nsamp2 = hmod.haloJS02SigmaAtom_mock_catalog(halo1, 1/60, 48, 48,\n",
    "                                                                       normalize=False)\n"
   ]
  },
  {
   "cell_type": "code",
   "execution_count": 59,
   "id": "4434aa96-4656-4fae-868f-df1998685c31",
   "metadata": {},
   "outputs": [],
   "source": [
    "configName  =   'simulator.ini'\n",
    "parser      =   ConfigParser()\n",
    "parser.read(configName)\n",
    "parser.set('sparse','mu','3e-4')            #step size for gradient descent\n",
    "parser.set('lens','resolve_lim','0.02')     #pix\n",
    "parser.set('lens','rs_base','%s' %(0.4))  #Mpc/h\n",
    "parser.set('sparse','nframe','1' )\n",
    "parser.set('transPlane','smooth_scale','1.5')\n",
    "parser.set('transPlane', 'scale','1')\n",
    "parser.set('transPlane','xmin','-25')\n",
    "parser.set('transPlane','ymin','-25')\n",
    "# parser.set('transPlane','nx','96')\n",
    "# parser.set('transPlane','ny','96')#larger stamp size\n",
    "# parser.set('transPlane','xmin','-98')\n",
    "# parser.set('transPlane','ymin','-98')\n",
    "Grid        =   Cartesian(parser)\n",
    "sigma2 = Grid.pixelize_data(ra2, dec2, np.ones(nsamp2) / 10., sigma2, method='FFT')[0]"
   ]
  },
  {
   "cell_type": "code",
   "execution_count": 60,
   "id": "2c52429c-cdf5-46f6-98ba-dc095f5a6b9f",
   "metadata": {},
   "outputs": [
    {
     "data": {
      "text/plain": [
       "-0.3999997977941891"
      ]
     },
     "execution_count": 60,
     "metadata": {},
     "output_type": "execute_result"
    }
   ],
   "source": [
    "np.min(ra2)"
   ]
  },
  {
   "cell_type": "code",
   "execution_count": 61,
   "id": "a16b04e7-fb16-4d85-bf08-508f60a708fc",
   "metadata": {},
   "outputs": [
    {
     "data": {
      "text/plain": [
       "<matplotlib.image.AxesImage at 0x7fad6a1f8d60>"
      ]
     },
     "execution_count": 61,
     "metadata": {},
     "output_type": "execute_result"
    },
    {
     "data": {
      "image/png": "[encoded data removed]",
      "text/plain": [
       "<Figure size 432x288 with 1 Axes>"
      ]
     },
     "metadata": {
      "needs_background": "light"
     },
     "output_type": "display_data"
    }
   ],
   "source": [
    "import matplotlib.pyplot as plt \n",
    "plt.imshow(sigma2)"
   ]
  },
  {
   "cell_type": "code",
   "execution_count": 44,
   "id": "0e21e051-1718-4e8d-9f6c-4ffb78c2d4d6",
   "metadata": {},
   "outputs": [
    {
     "data": {
      "text/plain": [
       "<matplotlib.image.AxesImage at 0x7fad6a9f0a30>"
      ]
     },
     "execution_count": 44,
     "metadata": {},
     "output_type": "execute_result"
    },
    {
     "data": {
      "image/png": "[encoded data removed]",
      "text/plain": [
       "<Figure size 432x288 with 1 Axes>"
      ]
     },
     "metadata": {
      "needs_background": "light"
     },
     "output_type": "display_data"
    }
   ],
   "source": [
    "plt.imshow(dictionary[2,0])"
   ]
  },
  {
   "cell_type": "code",
   "execution_count": null,
   "id": "2e1a97e5-2f28-48bc-9ad1-bd975abe23e3",
   "metadata": {},
   "outputs": [],
   "source": [
    "# plt.plot(ra,sigma1,label='gary1.5')\n",
    "# plt.plot(ra,sigma2,label='OLS1.5')\n",
    "# plt.plot(ra,sigma3,label = 'gary1')\n",
    "plt.plot(sigma2/sigma1)\n",
    "plt.plot(sigma4/sigma3)\n",
    "#plt.legend()\n",
    "plt.show()"
   ]
  },
  {
   "cell_type": "code",
   "execution_count": null,
   "id": "61aa6b58-aa7a-4776-9cf2-3c8b7da89884",
   "metadata": {},
   "outputs": [],
   "source": [
    "# fou_frame = np.fft.fft2(shifted_frame)\n",
    "# fou_original_frame = np.fft.fft2(original_frame)"
   ]
  },
  {
   "cell_type": "code",
   "execution_count": null,
   "id": "31b6d756-1ebd-4652-af52-877a8fe14214",
   "metadata": {},
   "outputs": [],
   "source": [
    "# original_frame[0,0]\n",
    "break"
   ]
  },
  {
   "cell_type": "code",
   "execution_count": null,
   "id": "7177215a-99d8-4732-b99d-73c3108af51e",
   "metadata": {},
   "outputs": [],
   "source": [
    "lensKer1=   Grid.lensing_kernel(deltaIn=False)\n",
    "modelDict = hmod.nfwShearlet2D(parser, lensKer1)"
   ]
  },
  {
   "cell_type": "code",
   "execution_count": null,
   "id": "176f6b2c-5946-4821-b1fc-470e9c580dc3",
   "metadata": {},
   "outputs": [],
   "source": [
    "modelDict.fouaframesInter[0,0,0,0]"
   ]
  },
  {
   "cell_type": "code",
   "execution_count": null,
   "id": "aab3169b-ec43-4b72-b71a-80978ddffbf9",
   "metadata": {},
   "outputs": [],
   "source": [
    "plt.imshow(np.fft.fftshift(modelDict.fouaframesInter[0,0].real))"
   ]
  },
  {
   "cell_type": "code",
   "execution_count": null,
   "id": "233f8a1a-d580-4266-abcc-dab0a3075b20",
   "metadata": {},
   "outputs": [],
   "source": [
    "#difference = np.fft.fftshift(modelDict.fouaframesInter[0,0].real) - np.fft.fftshift(original_frame)"
   ]
  },
  {
   "cell_type": "code",
   "execution_count": null,
   "id": "175d5ee1-f6cd-43fa-af57-cc355f96249d",
   "metadata": {},
   "outputs": [],
   "source": [
    "np.sort(modelDict.fouaframesInter[0,0].real)"
   ]
  },
  {
   "cell_type": "code",
   "execution_count": null,
   "id": "47180f70-7b71-46cb-8a04-9777470a03fa",
   "metadata": {},
   "outputs": [],
   "source": [
    "np.sort(original_frame)"
   ]
  },
  {
   "cell_type": "code",
   "execution_count": null,
   "id": "45a7e94c-e8e0-4f98-960c-f22c5ccc7df7",
   "metadata": {},
   "outputs": [],
   "source": [
    "ks2d = hmod.ksmap(Grid.ny,Grid.nx)"
   ]
  },
  {
   "cell_type": "code",
   "execution_count": null,
   "id": "775a2f07-9f0d-4643-90c0-9dde01dbdcb0",
   "metadata": {},
   "outputs": [],
   "source": [
    "entire_modelDict = ks2d.transform(modelDict.fouaframesInter.real) #test if can KS2d all frames at the same time"
   ]
  },
  {
   "cell_type": "code",
   "execution_count": null,
   "id": "1381f91e-e091-4fa4-b0a8-273ae7021f26",
   "metadata": {},
   "outputs": [],
   "source": [
    "potential_aframes = np.fft.ifft2(entire_modelDict)#test if can fourier entire frame at once"
   ]
  },
  {
   "cell_type": "code",
   "execution_count": null,
   "id": "7dbbbd88-b685-4616-beee-c7ff938d732c",
   "metadata": {},
   "outputs": [],
   "source": [
    "plt.imshow(modelDict.aframes[0,0].real)"
   ]
  },
  {
   "cell_type": "code",
   "execution_count": null,
   "id": "295e8dcb-7a75-4a52-9405-e6b46e6feb85",
   "metadata": {},
   "outputs": [],
   "source": [
    "plt.imshow(potential_aframes[0,0].real)"
   ]
  },
  {
   "cell_type": "code",
   "execution_count": null,
   "id": "7c9904a4-1b78-4589-b5d9-b39ab8f91a29",
   "metadata": {},
   "outputs": [],
   "source": [
    "np.max(np.abs(potential_aframes[0,0].real-modelDict.aframes[0,0].real))"
   ]
  },
  {
   "cell_type": "code",
   "execution_count": null,
   "id": "9e8dbffb-2f76-476b-80db-27c74d498390",
   "metadata": {},
   "outputs": [],
   "source": [
    "np.average(potential_aframes[0,0].real)"
   ]
  },
  {
   "cell_type": "code",
   "execution_count": null,
   "id": "ca02f4e3-5015-4c91-9338-ddf4d09ea55f",
   "metadata": {},
   "outputs": [],
   "source": [
    "\n",
    "\n",
    "cosmo =  Cosmo(H0=1 * 100., Om0=0.315)\n",
    "halo = hmod.nfwTJ03(mass=10**14,conc=4,redshift=0.0625,ra=0.,dec=0)\n",
    "Grid        =   Cartesian(parser)\n",
    "rz    =   halo.rs_arcsec/Grid.scale/3600.\n",
    "rpix = cosmo.angular_diameter_distance(0.0625).value / 180. * np.pi * Grid.scale\n",
    "\n",
    "general_grid    =   hmod.triaxialJS02_grid_mock(parser)\n",
    "sigma   =   general_grid.add_halo(halo)[2]/10**14\n",
    "fou_sigma = np.fft.fft2(np.fft.fftshift(sigma))\n",
    "\n",
    "\n"
   ]
  },
  {
   "cell_type": "code",
   "execution_count": null,
   "id": "033f74eb-d8ba-42bd-b64a-9ec89815680a",
   "metadata": {},
   "outputs": [],
   "source": [
    "np.log10(fou_sigma[0,0])"
   ]
  },
  {
   "cell_type": "code",
   "execution_count": null,
   "id": "c16e428e-96c4-4828-bab8-3e93ebf8ce70",
   "metadata": {},
   "outputs": [],
   "source": [
    "complex_sigma = hmod.haloCS02SigmaAtom(rz,48,48,c=4,fou=True)"
   ]
  },
  {
   "cell_type": "code",
   "execution_count": null,
   "id": "39024398-058b-4b6e-9c00-68c681a0f801",
   "metadata": {},
   "outputs": [],
   "source": [
    "complex_sigma[0,0]"
   ]
  },
  {
   "cell_type": "code",
   "execution_count": null,
   "id": "31e52253-e7c6-40c5-a399-4dc42eca57e6",
   "metadata": {},
   "outputs": [],
   "source": [
    "plt.imshow(np.fft.fftshift(complex_sigma))"
   ]
  },
  {
   "cell_type": "code",
   "execution_count": null,
   "id": "4d8cb554-e50c-4346-a8d4-1463ab089a63",
   "metadata": {},
   "outputs": [],
   "source": [
    "plt.imshow(np.fft.ifft2(complex_sigma).real)"
   ]
  },
  {
   "cell_type": "code",
   "execution_count": null,
   "id": "9bb95a84-7b44-4c49-a0d1-fb577522435d",
   "metadata": {},
   "outputs": [],
   "source": [
    "real_sigma = np.fft.ifft2(complex_sigma).real"
   ]
  },
  {
   "cell_type": "code",
   "execution_count": null,
   "id": "b83315ee-9871-4a6b-bd1b-d23f52558683",
   "metadata": {},
   "outputs": [],
   "source": [
    "#np.sort(real_sigma)"
   ]
  },
  {
   "cell_type": "code",
   "execution_count": null,
   "id": "5b8a95be-c9f1-4b0e-bcae-4ad028162278",
   "metadata": {},
   "outputs": [],
   "source": [
    "plt.imshow(np.fft.fftshift(real_sigma))"
   ]
  },
  {
   "cell_type": "code",
   "execution_count": null,
   "id": "17465dc0-3e4a-4e7b-949e-f2749b1a3148",
   "metadata": {},
   "outputs": [],
   "source": [
    "#np.sort(np.fft.fft2(real_sigma))"
   ]
  },
  {
   "cell_type": "code",
   "execution_count": null,
   "id": "214be147-2bd2-4973-9ea0-32b4497e349f",
   "metadata": {},
   "outputs": [],
   "source": [
    "from astropy.cosmology import FlatLambdaCDM as Cosmo"
   ]
  },
  {
   "cell_type": "code",
   "execution_count": null,
   "id": "4fb0ca84-cefa-463e-9c16-f9cc4cb44258",
   "metadata": {},
   "outputs": [],
   "source": [
    "omega_m =   0.315\n",
    "h0 = 1"
   ]
  },
  {
   "cell_type": "code",
   "execution_count": null,
   "id": "2e4dc710-b1fc-4f8d-a774-9b36a754abc0",
   "metadata": {},
   "outputs": [],
   "source": [
    "sigma = np.fft.fftshift(np.fft.fft2(frames[0,0]).real)"
   ]
  },
  {
   "cell_type": "code",
   "execution_count": null,
   "id": "dec923e4-f98f-44da-8f07-64bef3f105b3",
   "metadata": {},
   "outputs": [],
   "source": [
    "plt.imshow(sigma)"
   ]
  },
  {
   "cell_type": "code",
   "execution_count": null,
   "id": "979c9c0d-b01d-4674-92fc-ac10f6fe890c",
   "metadata": {},
   "outputs": [],
   "source": [
    "halo1 = hmod.nfwWB00(mass=10**14.6,conc=4,redshift=0.0625,ra=0.,dec=0)\n",
    "print('rs1: ',halo1.rs)"
   ]
  },
  {
   "cell_type": "code",
   "execution_count": null,
   "id": "fdf68b62-5a41-4cbd-85c2-fb2399d50e82",
   "metadata": {},
   "outputs": [],
   "source": [
    "halo2 = hmod.nfwWB00(mass=10**14,conc=4*0.630957,redshift=0.0625,ra=0.,dec=0)\n",
    "print('rs1: ',halo1.rs)"
   ]
  },
  {
   "cell_type": "code",
   "execution_count": null,
   "id": "9d64b7d0-c047-4321-b265-54a22c3b91fd",
   "metadata": {},
   "outputs": [],
   "source": [
    "ra,dec = np.linspace(10,500,1000),np.linspace(10,500,1000)"
   ]
  },
  {
   "cell_type": "code",
   "execution_count": null,
   "id": "50965142-0a58-4f8d-8717-6ee27e0df88e",
   "metadata": {},
   "outputs": [],
   "source": [
    "halo1sigma = halo1.Sigma(ra,dec)\n",
    "halo2sigma = halo2.Sigma(ra,dec)\n",
    "plt.plot(ra,halo1sigma)"
   ]
  },
  {
   "cell_type": "code",
   "execution_count": 10,
   "id": "5313ea0d-74a3-42dd-bd5e-fed4627c6d1b",
   "metadata": {},
   "outputs": [
    {
     "data": {
      "text/plain": [
       "array([2. , 2.1, 2.2, 2.3, 2.4, 2.5, 2.6, 2.7, 2.8, 2.9, 3. ])"
      ]
     },
     "execution_count": 10,
     "metadata": {},
     "output_type": "execute_result"
    }
   ],
   "source": [
    "np.linspace(2,3,11)"
   ]
  },
  {
   "cell_type": "code",
   "execution_count": null,
   "id": "d7701635-a712-4d12-bb3f-ab5bb6b8fd54",
   "metadata": {},
   "outputs": [],
   "source": []
  }
 ],
 "metadata": {
  "kernelspec": {
   "display_name": "Python 3 (ipykernel)",
   "language": "python",
   "name": "python3"
  },
  "language_info": {
   "codemirror_mode": {
    "name": "ipython",
    "version": 3
   },
   "file_extension": ".py",
   "mimetype": "text/x-python",
   "name": "python",
   "nbconvert_exporter": "python",
   "pygments_lexer": "ipython3",
   "version": "3.9.7"
  }
 },
 "nbformat": 4,
 "nbformat_minor": 5
}
