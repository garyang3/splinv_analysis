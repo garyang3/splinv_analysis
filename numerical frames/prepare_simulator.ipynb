{
 "cells": [
  {
   "cell_type": "code",
   "execution_count": 1,
   "id": "3bf2ede6-2301-4e96-8b46-a42cfa262254",
   "metadata": {},
   "outputs": [],
   "source": [
    "import splinv\n",
    "import numpy as np\n",
    "import h5py\n",
    "from configparser import ConfigParser\n",
    "from splinv import utility\n",
    "from astropy.io import fits"
   ]
  },
  {
   "cell_type": "code",
   "execution_count": 2,
   "id": "f65ae331-0c29-43e9-8b4d-263ea9ff08cf",
   "metadata": {},
   "outputs": [
    {
     "data": {
      "text/plain": [
       "['prepare_simulator.ini']"
      ]
     },
     "execution_count": 2,
     "metadata": {},
     "output_type": "execute_result"
    }
   ],
   "source": [
    "configName  =   'prepare_simulator.ini'\n",
    "parser      =   ConfigParser()\n",
    "parser.read(configName)"
   ]
  },
  {
   "cell_type": "code",
   "execution_count": 3,
   "id": "de24027c-37d7-4217-a0ed-09ec08470674",
   "metadata": {},
   "outputs": [
    {
     "name": "stdout",
     "output_type": "stream",
     "text": [
      "400\n"
     ]
    }
   ],
   "source": [
    "simulator = utility.Simulator(parser)\n",
    "print(len(simulator.prepare_argument(np.array([14.8,14.8]), ['nfw','cuspy'], np.array([4,4]), [True, False])))"
   ]
  },
  {
   "cell_type": "code",
   "execution_count": 4,
   "id": "d87454c4-82f7-454f-903e-8bbcce47a4b7",
   "metadata": {},
   "outputs": [],
   "source": [
    "arg1 = simulator.prepare_argument(np.array([14.8,14.8]), ['nfw','cuspy'], np.array([4,4]), [True, False])[0]\n",
    "arg2 = simulator.prepare_argument(np.array([14.8,14.8]), ['nfw','cuspy'], np.array([4,4]), [True, False])[210]"
   ]
  },
  {
   "cell_type": "code",
   "execution_count": 5,
   "id": "cc06f112-9103-4933-979a-c66b55a656c0",
   "metadata": {},
   "outputs": [],
   "source": [
    "#simulator.create_files()"
   ]
  },
  {
   "cell_type": "code",
   "execution_count": 6,
   "id": "3cb811cf-da4a-450b-8481-28b4e012e6e5",
   "metadata": {},
   "outputs": [
    {
     "name": "stdout",
     "output_type": "stream",
     "text": [
      "nfw\n",
      "noisy reconstruction\n",
      "preparing numerical frames!!!!\n"
     ]
    },
    {
     "ename": "KeyboardInterrupt",
     "evalue": "",
     "output_type": "error",
     "traceback": [
      "\u001b[0;31m---------------------------------------------------------------------------\u001b[0m",
      "\u001b[0;31mKeyboardInterrupt\u001b[0m                         Traceback (most recent call last)",
      "\u001b[0;32m/var/folders/vc/1pffqvxd44q6_lz4rrdn58zh0000gn/T/ipykernel_87223/1641125766.py\u001b[0m in \u001b[0;36m<module>\u001b[0;34m\u001b[0m\n\u001b[0;32m----> 1\u001b[0;31m \u001b[0mresult1\u001b[0m \u001b[0;34m=\u001b[0m \u001b[0msimulator\u001b[0m\u001b[0;34m.\u001b[0m\u001b[0msimulate\u001b[0m\u001b[0;34m(\u001b[0m\u001b[0marg1\u001b[0m\u001b[0;34m)\u001b[0m\u001b[0;34m\u001b[0m\u001b[0;34m\u001b[0m\u001b[0m\n\u001b[0m\u001b[1;32m      2\u001b[0m \u001b[0mresult2\u001b[0m \u001b[0;34m=\u001b[0m \u001b[0msimulator\u001b[0m\u001b[0;34m.\u001b[0m\u001b[0msimulate\u001b[0m\u001b[0;34m(\u001b[0m\u001b[0marg2\u001b[0m\u001b[0;34m)\u001b[0m\u001b[0;34m\u001b[0m\u001b[0;34m\u001b[0m\u001b[0m\n",
      "\u001b[0;32m~/PycharmProjects/GravitationalLensing/splinv/splinv/utility.py\u001b[0m in \u001b[0;36msimulate\u001b[0;34m(self, args)\u001b[0m\n\u001b[1;32m    251\u001b[0m         \u001b[0mdmapper\u001b[0m\u001b[0;34m.\u001b[0m\u001b[0mnonNeg\u001b[0m \u001b[0;34m=\u001b[0m \u001b[0;32mTrue\u001b[0m  \u001b[0;31m# using non-negative Lasso\u001b[0m\u001b[0;34m\u001b[0m\u001b[0;34m\u001b[0m\u001b[0m\n\u001b[1;32m    252\u001b[0m         \u001b[0mdmapper\u001b[0m\u001b[0;34m.\u001b[0m\u001b[0mclean_outcomes\u001b[0m\u001b[0;34m(\u001b[0m\u001b[0;34m)\u001b[0m\u001b[0;34m\u001b[0m\u001b[0;34m\u001b[0m\u001b[0m\n\u001b[0;32m--> 253\u001b[0;31m         \u001b[0mdmapper\u001b[0m\u001b[0;34m.\u001b[0m\u001b[0mfista_gradient_descent\u001b[0m\u001b[0;34m(\u001b[0m\u001b[0;36m3000\u001b[0m\u001b[0;34m)\u001b[0m  \u001b[0;31m# run 3000 steps\u001b[0m\u001b[0;34m\u001b[0m\u001b[0;34m\u001b[0m\u001b[0m\n\u001b[0m\u001b[1;32m    254\u001b[0m         \u001b[0mw\u001b[0m \u001b[0;34m=\u001b[0m \u001b[0mdmapper\u001b[0m\u001b[0;34m.\u001b[0m\u001b[0madaptive_lasso_weight\u001b[0m\u001b[0;34m(\u001b[0m\u001b[0mgamma\u001b[0m\u001b[0;34m=\u001b[0m\u001b[0;36m2.\u001b[0m\u001b[0;34m)\u001b[0m  \u001b[0;31m# determine the apaptive weight\u001b[0m\u001b[0;34m\u001b[0m\u001b[0;34m\u001b[0m\u001b[0m\n\u001b[1;32m    255\u001b[0m         \u001b[0mdmapper\u001b[0m\u001b[0;34m.\u001b[0m\u001b[0mfista_gradient_descent\u001b[0m\u001b[0;34m(\u001b[0m\u001b[0;36m3000\u001b[0m\u001b[0;34m,\u001b[0m \u001b[0mw\u001b[0m\u001b[0;34m=\u001b[0m\u001b[0mw\u001b[0m\u001b[0;34m)\u001b[0m  \u001b[0;31m# run adaptive lasso\u001b[0m\u001b[0;34m\u001b[0m\u001b[0;34m\u001b[0m\u001b[0m\n",
      "\u001b[0;32m~/PycharmProjects/GravitationalLensing/splinv/splinv/sparse.py\u001b[0m in \u001b[0;36mfista_gradient_descent\u001b[0;34m(self, niter, w, tn0)\u001b[0m\n\u001b[1;32m    363\u001b[0m         \u001b[0;32mfor\u001b[0m \u001b[0m_\u001b[0m \u001b[0;32min\u001b[0m \u001b[0mrange\u001b[0m\u001b[0;34m(\u001b[0m\u001b[0mniter\u001b[0m\u001b[0;34m)\u001b[0m\u001b[0;34m:\u001b[0m\u001b[0;34m\u001b[0m\u001b[0;34m\u001b[0m\u001b[0m\n\u001b[1;32m    364\u001b[0m             \u001b[0;31m# (.real means no B-mode)\u001b[0m\u001b[0;34m\u001b[0m\u001b[0;34m\u001b[0m\u001b[0m\n\u001b[0;32m--> 365\u001b[0;31m             \u001b[0mdalphaR\u001b[0m \u001b[0;34m=\u001b[0m   \u001b[0;34m-\u001b[0m\u001b[0mself\u001b[0m\u001b[0;34m.\u001b[0m\u001b[0mmu\u001b[0m\u001b[0;34m*\u001b[0m\u001b[0mself\u001b[0m\u001b[0;34m.\u001b[0m\u001b[0mgradient_Quad\u001b[0m\u001b[0;34m(\u001b[0m\u001b[0mself\u001b[0m\u001b[0;34m.\u001b[0m\u001b[0malphaR\u001b[0m\u001b[0;34m)\u001b[0m\u001b[0;34m.\u001b[0m\u001b[0mreal\u001b[0m\u001b[0;34m\u001b[0m\u001b[0;34m\u001b[0m\u001b[0m\n\u001b[0m\u001b[1;32m    366\u001b[0m             \u001b[0mXp1\u001b[0m \u001b[0;34m=\u001b[0m   \u001b[0mself\u001b[0m\u001b[0;34m.\u001b[0m\u001b[0malphaR\u001b[0m\u001b[0;34m+\u001b[0m\u001b[0mdalphaR\u001b[0m\u001b[0;34m\u001b[0m\u001b[0;34m\u001b[0m\u001b[0m\n\u001b[1;32m    367\u001b[0m             \u001b[0;32mif\u001b[0m \u001b[0mself\u001b[0m\u001b[0;34m.\u001b[0m\u001b[0mnonNeg\u001b[0m\u001b[0;34m:\u001b[0m\u001b[0;34m\u001b[0m\u001b[0;34m\u001b[0m\u001b[0m\n",
      "\u001b[0;32m~/PycharmProjects/GravitationalLensing/splinv/splinv/sparse.py\u001b[0m in \u001b[0;36mgradient_Quad\u001b[0;34m(self, alphaR)\u001b[0m\n\u001b[1;32m    237\u001b[0m \u001b[0;34m\u001b[0m\u001b[0m\n\u001b[1;32m    238\u001b[0m         \"\"\"\n\u001b[0;32m--> 239\u001b[0;31m         \u001b[0mgCh2\u001b[0m    \u001b[0;34m=\u001b[0m   \u001b[0mself\u001b[0m\u001b[0;34m.\u001b[0m\u001b[0mgradient_chi2\u001b[0m\u001b[0;34m(\u001b[0m\u001b[0malphaR\u001b[0m\u001b[0;34m)\u001b[0m\u001b[0;34m\u001b[0m\u001b[0;34m\u001b[0m\u001b[0m\n\u001b[0m\u001b[1;32m    240\u001b[0m         \u001b[0;32mif\u001b[0m \u001b[0mself\u001b[0m\u001b[0;34m.\u001b[0m\u001b[0mtau\u001b[0m\u001b[0;34m>\u001b[0m\u001b[0;36m0.\u001b[0m\u001b[0;34m:\u001b[0m\u001b[0;34m\u001b[0m\u001b[0;34m\u001b[0m\u001b[0m\n\u001b[1;32m    241\u001b[0m             \u001b[0mgTSV\u001b[0m    \u001b[0;34m=\u001b[0m   \u001b[0mself\u001b[0m\u001b[0;34m.\u001b[0m\u001b[0mgradient_TSV\u001b[0m\u001b[0;34m(\u001b[0m\u001b[0malphaR\u001b[0m\u001b[0;34m)\u001b[0m\u001b[0;34m\u001b[0m\u001b[0;34m\u001b[0m\u001b[0m\n",
      "\u001b[0;32m~/PycharmProjects/GravitationalLensing/splinv/splinv/sparse.py\u001b[0m in \u001b[0;36mgradient_chi2\u001b[0;34m(self, alphaR)\u001b[0m\n\u001b[1;32m    188\u001b[0m         \u001b[0mshearRTmp\u001b[0m       \u001b[0;34m=\u001b[0m   \u001b[0mself\u001b[0m\u001b[0;34m.\u001b[0m\u001b[0mmain_forward\u001b[0m\u001b[0;34m(\u001b[0m\u001b[0malphaR\u001b[0m\u001b[0;34m)\u001b[0m\u001b[0;34m*\u001b[0m\u001b[0;34m(\u001b[0m\u001b[0;36m1\u001b[0m\u001b[0;34m-\u001b[0m\u001b[0mpp\u001b[0m\u001b[0;34m)\u001b[0m\u001b[0;34m\u001b[0m\u001b[0;34m\u001b[0m\u001b[0m\n\u001b[1;32m    189\u001b[0m         \u001b[0;31m# (y_i-(1-p)A_{ij} x_j)/sigma_{ii}    [normalized residual]\u001b[0m\u001b[0;34m\u001b[0m\u001b[0;34m\u001b[0m\u001b[0m\n\u001b[0;32m--> 190\u001b[0;31m         \u001b[0mself\u001b[0m\u001b[0;34m.\u001b[0m\u001b[0mshearRRes\u001b[0m  \u001b[0;34m=\u001b[0m   \u001b[0;34m(\u001b[0m\u001b[0mself\u001b[0m\u001b[0;34m.\u001b[0m\u001b[0mshearR\u001b[0m\u001b[0;34m-\u001b[0m\u001b[0mshearRTmp\u001b[0m\u001b[0;34m)\u001b[0m\u001b[0;34m*\u001b[0m\u001b[0mself\u001b[0m\u001b[0;34m.\u001b[0m\u001b[0msigmaSInv\u001b[0m\u001b[0;34m\u001b[0m\u001b[0;34m\u001b[0m\u001b[0m\n\u001b[0m\u001b[1;32m    191\u001b[0m         \u001b[0;31m# (-A_{i\\alpha}y_i+(1-p)A_{i\\alpha}A_{ij}x_j)/sigma^2_{ii}\u001b[0m\u001b[0;34m\u001b[0m\u001b[0;34m\u001b[0m\u001b[0m\n\u001b[1;32m    192\u001b[0m         \u001b[0mout\u001b[0m \u001b[0;34m=\u001b[0m   \u001b[0;34m-\u001b[0m\u001b[0mself\u001b[0m\u001b[0;34m.\u001b[0m\u001b[0mchi2_transpose\u001b[0m\u001b[0;34m(\u001b[0m\u001b[0mself\u001b[0m\u001b[0;34m.\u001b[0m\u001b[0mshearRRes\u001b[0m\u001b[0;34m*\u001b[0m\u001b[0mself\u001b[0m\u001b[0;34m.\u001b[0m\u001b[0msigmaSInv\u001b[0m\u001b[0;34m)\u001b[0m\u001b[0;34m\u001b[0m\u001b[0;34m\u001b[0m\u001b[0m\n",
      "\u001b[0;31mKeyboardInterrupt\u001b[0m: "
     ]
    }
   ],
   "source": [
    "result1 = simulator.simulate(arg1)\n",
    "result2 = simulator.simulate(arg2)"
   ]
  },
  {
   "cell_type": "code",
   "execution_count": 7,
   "id": "1d2618c8-1e7d-4ab1-a44d-3341a26a3642",
   "metadata": {},
   "outputs": [],
   "source": [
    "input_redshift = np.zeros(simulator.shape_basic_input)\n",
    "input_a_over_c = np.zeros(simulator.shape_basic_input)\n",
    "true_mass      = np.zeros(simulator.shape_basic_input)\n",
    "simulated_mass = np.zeros(simulator.shape_basic_simulation_result)\n",
    "same_redshift  = np.zeros(simulator.shape_basic_simulation_result,dtype=bool)\n",
    "mass_bias = np.zeros(simulator.shape_basic_simulation_result)\n",
    "simulated_redshift = np.zeros(simulator.shape_basic_simulation_result)\n",
    "dmapper_w = np.zeros(simulator.shape_detail_simulation_result)\n",
    "alpha_R = np.zeros(simulator.shape_detail_simulation_result)\n",
    "input_shear = np.zeros(simulator.shape_detail_input,dtype=np.complex64)"
   ]
  },
  {
   "cell_type": "code",
   "execution_count": 8,
   "id": "e035b61f-35b2-4457-baf2-3bd16d23f8f0",
   "metadata": {},
   "outputs": [],
   "source": [
    "# z_index = result1[0]\n",
    "# a_over_c_index = result1[1]\n",
    "# trial_index = result1[2]\n",
    "# input_redshift[z_index,a_over_c_index] = simulator.z_samp[z_index]\n",
    "# simulated_mass[z_index,a_over_c_index,trial_index] = result1[7]\n",
    "# alpha_R[z_index,a_over_c_index,trial_index,:,:,:] = result1[9]\n",
    "\n",
    "\n",
    "\n",
    "\n",
    "\n",
    "\n",
    "\n"
   ]
  },
  {
   "cell_type": "code",
   "execution_count": null,
   "id": "36fab343-b8d1-4647-8eda-e4f0d88df4fd",
   "metadata": {},
   "outputs": [],
   "source": []
  },
  {
   "cell_type": "code",
   "execution_count": 10,
   "id": "71cc4608-e340-441b-a18f-dc70cc3f9b6a",
   "metadata": {},
   "outputs": [
    {
     "data": {
      "text/plain": [
       "'460800D'"
      ]
     },
     "execution_count": 10,
     "metadata": {},
     "output_type": "execute_result"
    }
   ],
   "source": [
    "str(np.prod(input_shear.shape[1:][::-1]))+'D'"
   ]
  },
  {
   "cell_type": "code",
   "execution_count": 11,
   "id": "9daeedc3-075f-4b04-ac0c-602ebe2cf648",
   "metadata": {},
   "outputs": [
    {
     "data": {
      "text/plain": [
       "(10, 10, 2, 10, 48, 48)"
      ]
     },
     "execution_count": 11,
     "metadata": {},
     "output_type": "execute_result"
    }
   ],
   "source": [
    "input_shear.shape"
   ]
  },
  {
   "cell_type": "code",
   "execution_count": 13,
   "id": "10b2603d-92e6-4aaa-96c6-6a404b0e9660",
   "metadata": {},
   "outputs": [],
   "source": [
    "dim_basic_input = str(simulator.shape_basic_input[1:][::-1])\n",
    "n_basic_input  = str(np.prod(simulator.shape_basic_input[1:]))\n",
    "dim_basic_simulation_result = str(simulator.shape_basic_simulation_result[1:][::-1])\n",
    "n_basic_simulation_result  = str(np.prod(simulator.shape_basic_simulation_result[1:]))\n",
    "dim_detail_input = str(simulator.shape_detail_input[1:][::-1])\n",
    "n_detail_input = str(np.prod(simulator.shape_detail_input[1:]))\n",
    "dim_detail_simulation_result = str(simulator.shape_detail_simulation_result[1:][::-1])\n",
    "n_detail_simulation_result = str(np.prod(simulator.shape_detail_simulation_result[1:]))\n",
    "\n",
    "c1 = fits.Column(name='input_redshift',      array= input_redshift,      format=n_basic_input+'E',dim=dim_basic_input)\n",
    "c2 = fits.Column(name='input_a_over_c',      array= input_a_over_c,      format=n_basic_input+'E',dim=dim_basic_input)\n",
    "c3 = fits.Column(name='true_mass',           array= true_mass,           format=n_basic_input+'D',dim=dim_basic_input)\n",
    "c4 = fits.Column(name='simulated_mass',      array= simulated_mass,      format=n_basic_simulation_result+'D',dim=dim_basic_simulation_result)\n",
    "c5 = fits.Column(name='same_redshift',       array= same_redshift,       format=n_basic_simulation_result+'L',dim=dim_basic_simulation_result)\n",
    "c6 = fits.Column(name='mass_bias',           array= mass_bias,           format=n_basic_simulation_result+'D',dim=dim_basic_simulation_result)\n",
    "c7 = fits.Column(name='simulated_redshift',  array= simulated_redshift,  format=n_basic_simulation_result+'E',dim=dim_basic_simulation_result)\n",
    "c8 = fits.Column(name='dmapper_w',           array= dmapper_w,           format=n_detail_simulation_result+'D',dim=dim_detail_simulation_result)\n",
    "c9 = fits.Column(name='alpha_R',             array= alpha_R,             format=n_detail_simulation_result+'D',dim=dim_detail_simulation_result)\n",
    "c10 = fits.Column(name='input_shear',        array= input_shear,         format=n_detail_input+'C',dim=dim_detail_input)"
   ]
  },
  {
   "cell_type": "code",
   "execution_count": 14,
   "id": "a0173a30-5bb2-4db0-9096-a5679669139c",
   "metadata": {},
   "outputs": [],
   "source": [
    "t = fits.BinTableHDU.from_columns([c1,c2,c3,c4,c5,c6,c7,c8,c9,c10])\n",
    "t.writeto('table3.fits')"
   ]
  },
  {
   "cell_type": "code",
   "execution_count": 19,
   "id": "faf1633a-2b9e-496d-b96a-e119c8cd2905",
   "metadata": {},
   "outputs": [
    {
     "data": {
      "text/plain": [
       "array([[0., 0., 0., 0., 0., 0., 0., 0., 0., 0.],\n",
       "       [0., 0., 0., 0., 0., 0., 0., 0., 0., 0.],\n",
       "       [0., 0., 0., 0., 0., 0., 0., 0., 0., 0.],\n",
       "       [0., 0., 0., 0., 0., 0., 0., 0., 0., 0.],\n",
       "       [0., 0., 0., 0., 0., 0., 0., 0., 0., 0.],\n",
       "       [0., 0., 0., 0., 0., 0., 0., 0., 0., 0.],\n",
       "       [0., 0., 0., 0., 0., 0., 0., 0., 0., 0.],\n",
       "       [0., 0., 0., 0., 0., 0., 0., 0., 0., 0.],\n",
       "       [0., 0., 0., 0., 0., 0., 0., 0., 0., 0.],\n",
       "       [0., 0., 0., 0., 0., 0., 0., 0., 0., 0.]])"
      ]
     },
     "execution_count": 19,
     "metadata": {},
     "output_type": "execute_result"
    }
   ],
   "source": [
    "test = fits.open('table3.fits',mode='update')\n",
    "data = test[1].data\n",
    "data['true_mass']"
   ]
  },
  {
   "cell_type": "code",
   "execution_count": 20,
   "id": "bf97df78-6635-4f9e-8dd4-726cc0f8c68b",
   "metadata": {},
   "outputs": [],
   "source": [
    "data['true_mass'][3,5] = 1"
   ]
  },
  {
   "cell_type": "code",
   "execution_count": 21,
   "id": "d6fda29b-16d8-45d9-8bc5-d23ad3ce206c",
   "metadata": {},
   "outputs": [
    {
     "data": {
      "text/plain": [
       "array([[0., 0., 0., 0., 0., 0., 0., 0., 0., 0.],\n",
       "       [0., 0., 0., 0., 0., 0., 0., 0., 0., 0.],\n",
       "       [0., 0., 0., 0., 0., 0., 0., 0., 0., 0.],\n",
       "       [0., 0., 0., 0., 0., 1., 0., 0., 0., 0.],\n",
       "       [0., 0., 0., 0., 0., 0., 0., 0., 0., 0.],\n",
       "       [0., 0., 0., 0., 0., 0., 0., 0., 0., 0.],\n",
       "       [0., 0., 0., 0., 0., 0., 0., 0., 0., 0.],\n",
       "       [0., 0., 0., 0., 0., 0., 0., 0., 0., 0.],\n",
       "       [0., 0., 0., 0., 0., 0., 0., 0., 0., 0.],\n",
       "       [0., 0., 0., 0., 0., 0., 0., 0., 0., 0.]])"
      ]
     },
     "execution_count": 21,
     "metadata": {},
     "output_type": "execute_result"
    }
   ],
   "source": [
    "data['true_mass']"
   ]
  },
  {
   "cell_type": "code",
   "execution_count": 22,
   "id": "2a8d2bd1-3157-4623-84ce-b2c9846ede5f",
   "metadata": {},
   "outputs": [],
   "source": [
    "test.close()"
   ]
  },
  {
   "cell_type": "code",
   "execution_count": 23,
   "id": "2dd92d75-cc36-4bb5-b9ae-53b5ad316e75",
   "metadata": {},
   "outputs": [
    {
     "data": {
      "text/plain": [
       "array([[0., 0., 0., 0., 0., 0., 0., 0., 0., 0.],\n",
       "       [0., 0., 0., 0., 0., 0., 0., 0., 0., 0.],\n",
       "       [0., 0., 0., 0., 0., 0., 0., 0., 0., 0.],\n",
       "       [0., 0., 0., 0., 0., 1., 0., 0., 0., 0.],\n",
       "       [0., 0., 0., 0., 0., 0., 0., 0., 0., 0.],\n",
       "       [0., 0., 0., 0., 0., 0., 0., 0., 0., 0.],\n",
       "       [0., 0., 0., 0., 0., 0., 0., 0., 0., 0.],\n",
       "       [0., 0., 0., 0., 0., 0., 0., 0., 0., 0.],\n",
       "       [0., 0., 0., 0., 0., 0., 0., 0., 0., 0.],\n",
       "       [0., 0., 0., 0., 0., 0., 0., 0., 0., 0.]])"
      ]
     },
     "execution_count": 23,
     "metadata": {},
     "output_type": "execute_result"
    }
   ],
   "source": [
    "test = fits.open('table3.fits')\n",
    "data = test[1].data\n",
    "data['true_mass']"
   ]
  },
  {
   "cell_type": "code",
   "execution_count": null,
   "id": "93546d9d-e094-494a-bfc2-5400ed1a3bf3",
   "metadata": {},
   "outputs": [],
   "source": []
  }
 ],
 "metadata": {
  "kernelspec": {
   "display_name": "Python 3 (ipykernel)",
   "language": "python",
   "name": "python3"
  },
  "language_info": {
   "codemirror_mode": {
    "name": "ipython",
    "version": 3
   },
   "file_extension": ".py",
   "mimetype": "text/x-python",
   "name": "python",
   "nbconvert_exporter": "python",
   "pygments_lexer": "ipython3",
   "version": "3.9.7"
  }
 },
 "nbformat": 4,
 "nbformat_minor": 5
}
