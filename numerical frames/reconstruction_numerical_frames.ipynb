{
 "cells": [
  {
   "cell_type": "code",
   "execution_count": 1,
   "id": "f2cdf242-3956-463e-8c18-2ca03e6742f2",
   "metadata": {},
   "outputs": [],
   "source": [
    "import numpy as np\n",
    "from splinv import detect\n",
    "from splinv import hmod\n",
    "from splinv import darkmapper\n",
    "from splinv.grid import Cartesian\n",
    "from configparser import ConfigParser\n",
    "import splinv\n",
    "import time\n"
   ]
  },
  {
   "cell_type": "markdown",
   "id": "72bf9628-5967-4ebf-ac91-470b6332e9df",
   "metadata": {},
   "source": [
    "Check if halo itself accounts for difference in different length scale in redshifts. "
   ]
  },
  {
   "cell_type": "code",
   "execution_count": 2,
   "id": "5d1c6451-b82e-45f2-a1e9-5f48fc764e54",
   "metadata": {},
   "outputs": [],
   "source": [
    "\"\"\" Test sparse reconstruction of weak lensing dark map\n",
    "\"\"\"\n",
    "# configuration\n",
    "configName  =   'simulator.ini'\n",
    "parser      =   ConfigParser()\n",
    "parser.read(configName)\n",
    "\n",
    "# halo simulation\n",
    "z_h1     =  0.2425\n",
    "log_m1   =  15.0\n",
    "M_200_1   =  10.**(log_m1)\n",
    "\n",
    "conc    =  4.\n",
    "# halo1    =  hmod.triaxialJS02(mass=M_200_1,conc=conc,redshift=z_h1,ra=0.,dec=0,a_over_c=0.5,a_over_b=1, tri_nfw = True, theta_prime = 3*np.pi/6, long_truncation = True, OLS03 = True) #33,16\n",
    "# halo2    =  hmod.triaxialJS02(mass=M_200_1,conc=conc,redshift=z_h1,ra=0.,dec=0,a_over_c=0.5,a_over_b=1, tri_nfw = True, theta_prime = 2*np.pi/6, long_truncation = True, OLS03 = True) #33,16\n",
    "# halo3    =  hmod.triaxialJS02(mass=M_200_1,conc=conc,redshift=z_h1,ra=0.,dec=0,a_over_c=0.5,a_over_b=1, tri_nfw = True, theta_prime = 1*np.pi/6, long_truncation = True, OLS03 = True) #33,16\n",
    "# halo4    =  hmod.triaxialJS02(mass=M_200_1,conc=conc,redshift=z_h1,ra=0.,dec=0,a_over_c=0.5,a_over_b=1, tri_nfw = True, long_truncation = True, OLS03 = True) #33,16\n",
    "\n",
    "halo1    =  hmod.triaxialJS02(mass=10**14.6,conc=conc,redshift=0.1975,ra=0.,dec=0,a_over_c=1,a_over_b=1, tri_nfw = True, long_truncation = True, OLS03 = True) #33,16\n",
    "halo2    =  hmod.triaxialJS02(mass=M_200_1,conc=conc,redshift=z_h1,ra=0.,dec=0,a_over_c=np.linspace(0.5,1,10)[7],a_over_b=1, tri_nfw = False, long_truncation = True, OLS03 = True) #33,16\n",
    "halo3    =  hmod.triaxialJS02(mass=10**14.6,conc=conc,redshift=0.3325,ra=0.,dec=0,a_over_c=1,a_over_b=1, tri_nfw = True, long_truncation = True, OLS03 = True) #33,16\n",
    "halo4    =  hmod.triaxialJS02(mass=10**14.9,conc=conc,redshift=0.3325,ra=0.,dec=0,a_over_c=1,a_over_b=1, tri_nfw = True, long_truncation = True, OLS03 = True) #33,16\n",
    "\n",
    "# halo2    =  hmod.triaxialJS02(mass=10**15,conc=conc,redshift=0.3325,ra=0.,dec=0,a_over_c=1,a_over_b=1, tri_nfw = False, long_truncation = True, OLS03 = True) #33,16\n",
    "# halo3    =  hmod.triaxialJS02(mass=10**14.8,conc=conc,redshift=0.3325,ra=0.,dec=0,a_over_c=1,a_over_b=1, tri_nfw = False, long_truncation = True, OLS03 = True) #33,16\n",
    "# halo4    =  hmod.triaxialJS02(mass=10**15,conc=conc,redshift=0.1975,ra=0.,dec=0,a_over_c=1,a_over_b=1, tri_nfw = False, long_truncation = True, OLS03 = True) #33,16\n"
   ]
  },
  {
   "cell_type": "code",
   "execution_count": 3,
   "id": "4bc645eb-4680-4884-9cbb-e9eacd7128fc",
   "metadata": {},
   "outputs": [
    {
     "name": "stdout",
     "output_type": "stream",
     "text": [
      "[3, 5, 3, ['sb']]\n"
     ]
    }
   ],
   "source": [
    "args = [3,5,3]\n",
    "args.append(['sb'])\n",
    "print(args)"
   ]
  },
  {
   "cell_type": "code",
   "execution_count": null,
   "id": "698df038-c1a4-4afe-8069-32c509c3b722",
   "metadata": {},
   "outputs": [],
   "source": []
  },
  {
   "cell_type": "markdown",
   "id": "61c8b350-e5a6-4767-8a26-6751d1276b2c",
   "metadata": {},
   "source": [
    "We want frames to include both of these..."
   ]
  },
  {
   "cell_type": "code",
   "execution_count": 4,
   "id": "af67c43a-20b1-4037-bd10-ecc1fd93b94a",
   "metadata": {},
   "outputs": [],
   "source": [
    "#Grid.zlcgrid"
   ]
  },
  {
   "cell_type": "code",
   "execution_count": 5,
   "id": "368ae475-19d5-44b1-a19a-425aaad77fec",
   "metadata": {},
   "outputs": [],
   "source": [
    "# print(halo1.rs)\n",
    "# print(halo2.rs)"
   ]
  },
  {
   "cell_type": "markdown",
   "id": "cc4c3186-5dca-429f-962a-648f64b4bfd9",
   "metadata": {},
   "source": [
    "generating mock catalog this way has the freedom of moving the halo around. "
   ]
  },
  {
   "cell_type": "code",
   "execution_count": 6,
   "id": "2463d3f7-9525-4a86-850b-23df158e7eb3",
   "metadata": {},
   "outputs": [],
   "source": [
    "# Reconstruction Init\n",
    "parser.set('sparse','mu','3e-4')            #step size for gradient descent\n",
    "parser.set('lens','resolve_lim','0.02')     #pix\n",
    "parser.set('lens','rs_base','%s' %(halo1.rs))  #Mpc/h\n",
    "parser.set('sparse','nframe','1' )\n",
    "parser.set('transPlane','nx','48')\n",
    "parser.set('transPlane','ny','48')#larger stamp size\n",
    "parser.set('transPlane','xmin','-49')\n",
    "parser.set('transPlane','ymin','-49')\n",
    "parser.set('transPlane','smooth_scale','0')\n",
    "parser.set('lens','SigmaFname','SmoothZero4848/CUSPY_150_0.fits')\n",
    "\n",
    "# Pixelation\n",
    "Grid    =   Cartesian(parser)\n",
    "lensKer1=   Grid.lensing_kernel(deltaIn=False)\n",
    "\n",
    "general_grid    =   hmod.triaxialJS02_grid_mock(parser)\n",
    "# kappa1   =   general_grid.add_halo(halo1)[0]\n",
    "# kappa2   =   general_grid.add_halo(halo2)[0]\n",
    "# shear1   =   general_grid.add_halo_from_dsigma(halo1, add_noise = True) #from dsigma\n",
    "#shear2   =   general_grid.add_halo(halo2)[1]\n",
    "kappa1, shear1   =   general_grid.add_halo(halo1)[0:2]\n",
    "kappa2, shear2   =   general_grid.add_halo(halo2)[0:2]\n",
    "kappa3, shear3   =   general_grid.add_halo(halo3)[0:2]\n",
    "kappa4, shear4   =   general_grid.add_halo(halo4)[0:2]\n",
    "#sigma2   =   general_grid.add_halo(halo2)[2]\n",
    "gErr    =   np.ones(Grid.shape)*0.05\n",
    "\n",
    "#totalshear = shear1 + shear2 #shear1 + shear2"
   ]
  },
  {
   "cell_type": "code",
   "execution_count": 7,
   "id": "c1ed33ad-a58b-4771-8f27-aeffea1233d8",
   "metadata": {},
   "outputs": [],
   "source": [
    "shear2 = general_grid.add_halo(halo2)[1]"
   ]
  },
  {
   "cell_type": "code",
   "execution_count": 8,
   "id": "c2f487f0-ce4d-432f-bc88-7c69cb964af0",
   "metadata": {},
   "outputs": [
    {
     "data": {
      "image/png": "[encoded data removed]",
      "text/plain": [
       "<Figure size 432x288 with 1 Axes>"
      ]
     },
     "metadata": {
      "needs_background": "light"
     },
     "output_type": "display_data"
    },
    {
     "data": {
      "image/png": "[encoded data removed]",
      "text/plain": [
       "<Figure size 432x288 with 1 Axes>"
      ]
     },
     "metadata": {
      "needs_background": "light"
     },
     "output_type": "display_data"
    },
    {
     "data": {
      "image/png": "[encoded data removed]",
      "text/plain": [
       "<Figure size 432x288 with 1 Axes>"
      ]
     },
     "metadata": {
      "needs_background": "light"
     },
     "output_type": "display_data"
    },
    {
     "data": {
      "image/png": "[encoded data removed]",
      "text/plain": [
       "<Figure size 432x288 with 1 Axes>"
      ]
     },
     "metadata": {
      "needs_background": "light"
     },
     "output_type": "display_data"
    }
   ],
   "source": [
    "import matplotlib.pyplot as plt\n",
    "plt.imshow(kappa1[1])\n",
    "plt.show()\n",
    "plt.imshow(kappa2[1])\n",
    "plt.show()\n",
    "plt.imshow(kappa3[1])\n",
    "plt.show()\n",
    "plt.imshow(kappa4[1])\n",
    "plt.show()"
   ]
  },
  {
   "cell_type": "code",
   "execution_count": 9,
   "id": "74db39ee-b5ba-4597-8235-71cd508e36d9",
   "metadata": {},
   "outputs": [],
   "source": [
    "from astropy.io import  fits\n",
    "real = fits.getdata('z5aoc70_shear_real.fits')\n",
    "imag = fits.getdata('z5aoc70_shear_imag.fits')"
   ]
  },
  {
   "cell_type": "code",
   "execution_count": 10,
   "id": "78c01774-640a-48a1-b7e9-70617f9acfe7",
   "metadata": {},
   "outputs": [
    {
     "data": {
      "text/plain": [
       "<matplotlib.image.AxesImage at 0x7f7e18e4efd0>"
      ]
     },
     "execution_count": 10,
     "metadata": {},
     "output_type": "execute_result"
    },
    {
     "data": {
      "image/png": "[encoded data removed]",
      "text/plain": [
       "<Figure size 432x288 with 1 Axes>"
      ]
     },
     "metadata": {
      "needs_background": "light"
     },
     "output_type": "display_data"
    }
   ],
   "source": [
    "import matplotlib.pyplot as plt\n",
    "plt.imshow(shear2[3].imag)"
   ]
  },
  {
   "cell_type": "code",
   "execution_count": 11,
   "id": "d60db5cb-c60d-467b-ab45-864e71cc336e",
   "metadata": {},
   "outputs": [
    {
     "data": {
      "text/plain": [
       "<matplotlib.image.AxesImage at 0x7f7de8ae9c10>"
      ]
     },
     "execution_count": 11,
     "metadata": {},
     "output_type": "execute_result"
    },
    {
     "data": {
      "image/png": "[encoded data removed]",
      "text/plain": [
       "<Figure size 432x288 with 1 Axes>"
      ]
     },
     "metadata": {
      "needs_background": "light"
     },
     "output_type": "display_data"
    }
   ],
   "source": [
    "plt.imshow(imag[3]-shear2[3].imag)"
   ]
  },
  {
   "cell_type": "code",
   "execution_count": 12,
   "id": "e0fc4d40-6c65-4f39-a3b3-2ea891c8683b",
   "metadata": {},
   "outputs": [],
   "source": [
    "# #z = np.array([0.05,0.36,0.47,0.56,0.69,0.80,0.91,1.03,1.22,1.50,2.50])\n",
    "# plt.plot(halo1.lensKernel(z)*M_200_1,label='14.8,0.1975')\n",
    "# plt.plot(halo2.lensKernel(z)*M_200_1,label='14.8,0.2425')\n",
    "# plt.plot(halo3.lensKernel(z)*10**14.8,label='14.9,0.3325')\n",
    "# #plt.plot(halo4.lensKernel(z)*10**14.9,label='14.9.0.3325')\n",
    "# # plt.axvline(0.2425)\n",
    "# plt.legend()"
   ]
  },
  {
   "cell_type": "code",
   "execution_count": 13,
   "id": "ef4c25eb-c4d7-41e9-ac21-3f9a15429868",
   "metadata": {},
   "outputs": [],
   "source": [
    "# plt.plot(halo2.lensKernel(z))\n",
    "#del darkmapper"
   ]
  },
  {
   "cell_type": "code",
   "execution_count": 14,
   "id": "f03e7aa5-684e-472c-97db-50b344c2887c",
   "metadata": {},
   "outputs": [
    {
     "name": "stdout",
     "output_type": "stream",
     "text": [
      "preparing numerical frames!!!!\n"
     ]
    },
    {
     "ename": "NameError",
     "evalue": "name 'lbd' is not defined",
     "output_type": "error",
     "traceback": [
      "\u001b[0;31m---------------------------------------------------------------------------\u001b[0m",
      "\u001b[0;31mNameError\u001b[0m                                 Traceback (most recent call last)",
      "\u001b[0;32m/var/folders/tn/t7f1zc4n47g4wsjd6njxbp0r0000gn/T/ipykernel_39373/1251191352.py\u001b[0m in \u001b[0;36m<module>\u001b[0;34m\u001b[0m\n\u001b[1;32m      3\u001b[0m \u001b[0mdmapper\u001b[0m \u001b[0;34m=\u001b[0m   \u001b[0mdarkmapper\u001b[0m\u001b[0;34m(\u001b[0m\u001b[0mparser\u001b[0m\u001b[0;34m,\u001b[0m\u001b[0mshear2\u001b[0m\u001b[0;34m.\u001b[0m\u001b[0mreal\u001b[0m\u001b[0;34m,\u001b[0m \u001b[0mshear2\u001b[0m\u001b[0;34m.\u001b[0m\u001b[0mimag\u001b[0m\u001b[0;34m,\u001b[0m \u001b[0mgErr\u001b[0m\u001b[0;34m,\u001b[0m\u001b[0mlensKer1\u001b[0m\u001b[0;34m)\u001b[0m\u001b[0;34m\u001b[0m\u001b[0;34m\u001b[0m\u001b[0m\n\u001b[1;32m      4\u001b[0m \u001b[0;34m\u001b[0m\u001b[0m\n\u001b[0;32m----> 5\u001b[0;31m \u001b[0mdmapper\u001b[0m\u001b[0;34m.\u001b[0m\u001b[0mlbd\u001b[0m\u001b[0;34m=\u001b[0m\u001b[0mlbd\u001b[0m      \u001b[0;31m# Lasso penalty. was 8\u001b[0m\u001b[0;34m\u001b[0m\u001b[0;34m\u001b[0m\u001b[0m\n\u001b[0m\u001b[1;32m      6\u001b[0m \u001b[0mdmapper\u001b[0m\u001b[0;34m.\u001b[0m\u001b[0mlcd\u001b[0m\u001b[0;34m=\u001b[0m\u001b[0;36m0.\u001b[0m      \u001b[0;31m# Ridge penalty in Elastic net\u001b[0m\u001b[0;34m\u001b[0m\u001b[0;34m\u001b[0m\u001b[0m\n\u001b[1;32m      7\u001b[0m \u001b[0mdmapper\u001b[0m\u001b[0;34m.\u001b[0m\u001b[0mnonNeg\u001b[0m\u001b[0;34m=\u001b[0m\u001b[0;32mTrue\u001b[0m \u001b[0;31m# using non-negative Lasso\u001b[0m\u001b[0;34m\u001b[0m\u001b[0;34m\u001b[0m\u001b[0m\n",
      "\u001b[0;31mNameError\u001b[0m: name 'lbd' is not defined"
     ]
    }
   ],
   "source": [
    "s = time.time()\n",
    "nstep = 4000\n",
    "dmapper =   darkmapper(parser,shear2.real, shear2.imag, gErr,lensKer1)\n",
    "\n",
    "dmapper.lbd=lbd      # Lasso penalty. was 8\n",
    "dmapper.lcd=0.      # Ridge penalty in Elastic net\n",
    "dmapper.nonNeg=True # using non-negative Lasso\n",
    "dmapper.clean_outcomes()\n",
    "dmapper.fista_gradient_descent_fast(nstep) # run nsteps\n",
    "w   =   dmapper.adaptive_lasso_weight(gamma=2.) # determine the apaptive weight\n",
    "dmapper.fista_gradient_descent(nstep,w=w)   \n",
    "e = time.time()# run adaptive lasso\n",
    "print(e-s)"
   ]
  },
  {
   "cell_type": "code",
   "execution_count": null,
   "id": "811038ec-55e4-4f98-8810-d3e72aaeb453",
   "metadata": {},
   "outputs": [],
   "source": [
    "s = time.time()\n",
    "dmapper.mu=3e-3     # step size for gradient descent\n",
    "for _ in range(3):  # redo apaptive lasso, letting it run for more iteration\n",
    "    w   =   dmapper.adaptive_lasso_weight(gamma=2.)\n",
    "    dmapper.fista_gradient_descent_fast(nstep,w=w)\n",
    "dmapper.reconstruct()\n",
    "e = time.time()\n",
    "print(e-s)"
   ]
  },
  {
   "cell_type": "code",
   "execution_count": 65,
   "id": "961583f2-7f38-44f7-a0e0-205d3c7c6849",
   "metadata": {},
   "outputs": [
    {
     "data": {
      "text/plain": [
       "array([0.0625, 0.1075, 0.1525, 0.1975, 0.2425, 0.2875, 0.3325, 0.3775,\n",
       "       0.4225, 0.4675])"
      ]
     },
     "execution_count": 65,
     "metadata": {},
     "output_type": "execute_result"
    }
   ],
   "source": [
    "Grid.zlcgrid"
   ]
  },
  {
   "cell_type": "code",
   "execution_count": 68,
   "id": "8108dd22-f20f-41dd-a365-ebbfe5ab5acf",
   "metadata": {},
   "outputs": [
    {
     "name": "stdout",
     "output_type": "stream",
     "text": [
      "(array([[ 4, 24, 24]]), array([31.74326593]))\n"
     ]
    }
   ],
   "source": [
    "c1  =   detect.local_maxima_3D(dmapper.deltaR)\n",
    "print(c1)\n",
    "logm_est1=   np.log10((dmapper.alphaR*dmapper._w)[4,0,24,24])+14. # first halo\n",
    "#logm_est2=   np.log10((dmapper.alphaR*dmapper._w)[4,1,48,48])+14. # first halo, different frame\n",
    "#logm_est2=   np.log10((dmapper.alphaR*dmapper._w)[7,0,24,24])+14. #second halo"
   ]
  },
  {
   "cell_type": "code",
   "execution_count": 69,
   "id": "417cb435-95ba-4692-9f71-0301b8886c3d",
   "metadata": {},
   "outputs": [
    {
     "data": {
      "text/plain": [
       "14.999698734881905"
      ]
     },
     "execution_count": 69,
     "metadata": {},
     "output_type": "execute_result"
    }
   ],
   "source": [
    "logm_est1"
   ]
  },
  {
   "cell_type": "code",
   "execution_count": 16,
   "id": "dbf08eba-ed6d-4530-b80f-43421b2138e7",
   "metadata": {},
   "outputs": [
    {
     "data": {
      "text/plain": [
       "array([0.0625, 0.1075, 0.1525, 0.1975, 0.2425, 0.2875, 0.3325, 0.3775,\n",
       "       0.4225, 0.4675])"
      ]
     },
     "execution_count": 16,
     "metadata": {},
     "output_type": "execute_result"
    }
   ],
   "source": [
    "Grid.zlcgrid"
   ]
  },
  {
   "cell_type": "markdown",
   "id": "02db89ec-7b52-458c-b6c9-1df5cd6033c4",
   "metadata": {},
   "source": [
    "it worked i guess"
   ]
  },
  {
   "cell_type": "code",
   "execution_count": 17,
   "id": "f98c85da-87b7-45fb-8442-fdd5e10acde9",
   "metadata": {},
   "outputs": [
    {
     "name": "stdout",
     "output_type": "stream",
     "text": [
      "mass 1: 14.927186633886318\n",
      "true mass 1: 14.9\n",
      "true mass 2: 14.9\n"
     ]
    }
   ],
   "source": [
    "print(\"mass 1:\", logm_est1)\n",
    "#print(\"mass 2:\", logm_est2)\n",
    "print(\"true mass 1:\", log_m1)\n",
    "print(\"true mass 2:\", log_m2)\n",
    "#when c=4, the result only agrees to unit digit"
   ]
  },
  {
   "cell_type": "code",
   "execution_count": 18,
   "id": "05409a16-6cb0-4ce0-8410-cd4ac675a6df",
   "metadata": {},
   "outputs": [
    {
     "data": {
      "text/plain": [
       "<matplotlib.image.AxesImage at 0x7fc3f57d0850>"
      ]
     },
     "execution_count": 18,
     "metadata": {},
     "output_type": "execute_result"
    },
    {
     "data": {
      "image/png": "[encoded data removed]",
      "text/plain": [
       "<Figure size 432x288 with 1 Axes>"
      ]
     },
     "metadata": {
      "needs_background": "light"
     },
     "output_type": "display_data"
    }
   ],
   "source": [
    "plt.imshow(dmapper.alphaR[5,0])"
   ]
  },
  {
   "cell_type": "code",
   "execution_count": 19,
   "id": "1007e97e-3956-40d5-9ea6-71d1f3ef3777",
   "metadata": {},
   "outputs": [
    {
     "data": {
      "text/plain": [
       "<matplotlib.image.AxesImage at 0x7fc3f461f0d0>"
      ]
     },
     "execution_count": 19,
     "metadata": {},
     "output_type": "execute_result"
    },
    {
     "data": {
      "image/png": "[encoded data removed]",
      "text/plain": [
       "<Figure size 432x288 with 1 Axes>"
      ]
     },
     "metadata": {
      "needs_background": "light"
     },
     "output_type": "display_data"
    }
   ],
   "source": [
    "plt.imshow(dmapper.deltaR[5])"
   ]
  },
  {
   "cell_type": "code",
   "execution_count": 20,
   "id": "ef172221-3131-479e-90c6-2558b3adf7e8",
   "metadata": {},
   "outputs": [
    {
     "data": {
      "text/plain": [
       "5.381960140146092"
      ]
     },
     "execution_count": 20,
     "metadata": {},
     "output_type": "execute_result"
    }
   ],
   "source": [
    "np.max(dmapper.deltaR)"
   ]
  },
  {
   "cell_type": "code",
   "execution_count": 21,
   "id": "ef24f057-b226-48b8-acb0-3e87e0e7b90e",
   "metadata": {},
   "outputs": [
    {
     "data": {
      "image/png": "[encoded data removed]",
      "text/plain": [
       "<Figure size 432x288 with 1 Axes>"
      ]
     },
     "metadata": {
      "needs_background": "light"
     },
     "output_type": "display_data"
    }
   ],
   "source": [
    "plt.hist(np.ravel(dmapper.deltaR),bins=100)\n",
    "plt.show()"
   ]
  },
  {
   "cell_type": "code",
   "execution_count": 22,
   "id": "233a27e1-7e3b-412e-bd31-8d52c55d2298",
   "metadata": {},
   "outputs": [
    {
     "data": {
      "text/plain": [
       "<matplotlib.image.AxesImage at 0x7fc3f4391ca0>"
      ]
     },
     "execution_count": 22,
     "metadata": {},
     "output_type": "execute_result"
    },
    {
     "data": {
      "image/png": "[encoded data removed]",
      "text/plain": [
       "<Figure size 432x288 with 1 Axes>"
      ]
     },
     "metadata": {
      "needs_background": "light"
     },
     "output_type": "display_data"
    }
   ],
   "source": [
    "plt.imshow(np.fft.fftshift(np.fft.fft2(dmapper.modelDict.fouaframesInter[9,0]).real))"
   ]
  },
  {
   "cell_type": "code",
   "execution_count": 23,
   "id": "0504fce2-69b9-4b5f-b843-294f60a820c0",
   "metadata": {},
   "outputs": [
    {
     "data": {
      "text/plain": [
       "<matplotlib.image.AxesImage at 0x7fc3f4727400>"
      ]
     },
     "execution_count": 23,
     "metadata": {},
     "output_type": "execute_result"
    },
    {
     "data": {
      "image/png": "[encoded data removed]",
      "text/plain": [
       "<Figure size 432x288 with 1 Axes>"
      ]
     },
     "metadata": {
      "needs_background": "light"
     },
     "output_type": "display_data"
    }
   ],
   "source": [
    "import matplotlib.pyplot as plt\n",
    "plt.imshow(dmapper.deltaR[4])"
   ]
  },
  {
   "cell_type": "code",
   "execution_count": 24,
   "id": "b82c9478-884c-4d02-a6b0-3f834d4dd9b1",
   "metadata": {},
   "outputs": [
    {
     "name": "stdout",
     "output_type": "stream",
     "text": [
      "(10, 1, 48, 48)\n"
     ]
    },
    {
     "data": {
      "text/plain": [
       "<matplotlib.image.AxesImage at 0x7fc3f58c2d60>"
      ]
     },
     "execution_count": 24,
     "metadata": {},
     "output_type": "execute_result"
    },
    {
     "data": {
      "image/png": "[encoded data removed]",
      "text/plain": [
       "<Figure size 432x288 with 1 Axes>"
      ]
     },
     "metadata": {
      "needs_background": "light"
     },
     "output_type": "display_data"
    }
   ],
   "source": [
    "print(dmapper.alphaR.shape)\n",
    "plt.imshow(dmapper.alphaR[5,0])"
   ]
  },
  {
   "cell_type": "code",
   "execution_count": 25,
   "id": "37497ff5-5dd0-4dfe-a095-b4ac27eba1c8",
   "metadata": {},
   "outputs": [
    {
     "name": "stdout",
     "output_type": "stream",
     "text": [
      "1.0277352458020784e-09\n"
     ]
    }
   ],
   "source": [
    "print(np.max(dmapper.diff))"
   ]
  },
  {
   "cell_type": "code",
   "execution_count": 3,
   "id": "ac69b593-dd58-4bda-8de5-52fdc656d3e5",
   "metadata": {},
   "outputs": [
    {
     "data": {
      "text/plain": [
       "array([2.])"
      ]
     },
     "execution_count": 3,
     "metadata": {},
     "output_type": "execute_result"
    }
   ],
   "source": [
    "np.linspace(2,2,1)"
   ]
  },
  {
   "cell_type": "code",
   "execution_count": null,
   "id": "8b869fe9-ad3e-4632-aad0-8e75face24cd",
   "metadata": {},
   "outputs": [],
   "source": [
    "['CUSPY_150_0.fits', 15.0, 4, 'Apr19_cuspy_150_2_0', 'cuspy', 7, 9, 0, False, 1]"
   ]
  }
 ],
 "metadata": {
  "kernelspec": {
   "display_name": "Python 3 (ipykernel)",
   "language": "python",
   "name": "python3"
  },
  "language_info": {
   "codemirror_mode": {
    "name": "ipython",
    "version": 3
   },
   "file_extension": ".py",
   "mimetype": "text/x-python",
   "name": "python",
   "nbconvert_exporter": "python",
   "pygments_lexer": "ipython3",
   "version": "3.9.7"
  }
 },
 "nbformat": 4,
 "nbformat_minor": 5
}
