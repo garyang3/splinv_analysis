{
 "cells": [
  {
   "cell_type": "code",
   "execution_count": 15,
   "id": "f2cdf242-3956-463e-8c18-2ca03e6742f2",
   "metadata": {},
   "outputs": [],
   "source": [
    "import numpy as np\n",
    "from splinv import detect\n",
    "from splinv import hmod\n",
    "from splinv import darkmapper\n",
    "from splinv.grid import Cartesian\n",
    "from configparser import ConfigParser\n",
    "import splinv\n",
    "import time\n",
    "\n",
    "\"\"\" Test sparse reconstruction of weak lensing dark map\n",
    "\"\"\"\n",
    "# configuration\n",
    "configName  =   'test_mock_catalog_atom_more_z_bins.ini'\n",
    "parser      =   ConfigParser()\n",
    "parser.read(configName)\n",
    "\n",
    "# halo simulation\n",
    "z_h1     =  0.13\n",
    "z_h2     =  0.25\n",
    "log_m1   =  14.745\n",
    "M_200   =  10.**(log_m1)\n",
    "conc    =  4.\n",
    "halo1    =  hmod.nfwTJ03(mass=M_200,conc=conc,redshift=z_h1,ra=-935.,dec=1100.)\n",
    "halo2    =  hmod.nfwTJ03(mass=M_200,conc=conc,redshift=z_h2,ra=800,dec=-1200)"
   ]
  },
  {
   "cell_type": "markdown",
   "id": "cc4c3186-5dca-429f-962a-648f64b4bfd9",
   "metadata": {},
   "source": [
    "generating mock catalog this way has the freedom of moving the halo around. "
   ]
  },
  {
   "cell_type": "code",
   "execution_count": 1,
   "id": "2463d3f7-9525-4a86-850b-23df158e7eb3",
   "metadata": {},
   "outputs": [
    {
     "ename": "NameError",
     "evalue": "name 'parser' is not defined",
     "output_type": "error",
     "traceback": [
      "\u001b[0;31m---------------------------------------------------------------------------\u001b[0m",
      "\u001b[0;31mNameError\u001b[0m                                 Traceback (most recent call last)",
      "\u001b[0;32m/var/folders/vc/1pffqvxd44q6_lz4rrdn58zh0000gn/T/ipykernel_36727/4047779004.py\u001b[0m in \u001b[0;36m<module>\u001b[0;34m\u001b[0m\n\u001b[1;32m      1\u001b[0m \u001b[0;31m# Reconstruction Init\u001b[0m\u001b[0;34m\u001b[0m\u001b[0;34m\u001b[0m\u001b[0m\n\u001b[0;32m----> 2\u001b[0;31m \u001b[0mparser\u001b[0m\u001b[0;34m.\u001b[0m\u001b[0mset\u001b[0m\u001b[0;34m(\u001b[0m\u001b[0;34m'sparse'\u001b[0m\u001b[0;34m,\u001b[0m\u001b[0;34m'mu'\u001b[0m\u001b[0;34m,\u001b[0m\u001b[0;34m'3e-4'\u001b[0m\u001b[0;34m)\u001b[0m            \u001b[0;31m#step size for gradient descent\u001b[0m\u001b[0;34m\u001b[0m\u001b[0;34m\u001b[0m\u001b[0m\n\u001b[0m\u001b[1;32m      3\u001b[0m \u001b[0mparser\u001b[0m\u001b[0;34m.\u001b[0m\u001b[0mset\u001b[0m\u001b[0;34m(\u001b[0m\u001b[0;34m'lens'\u001b[0m\u001b[0;34m,\u001b[0m\u001b[0;34m'resolve_lim'\u001b[0m\u001b[0;34m,\u001b[0m\u001b[0;34m'0.02'\u001b[0m\u001b[0;34m)\u001b[0m     \u001b[0;31m#pix\u001b[0m\u001b[0;34m\u001b[0m\u001b[0;34m\u001b[0m\u001b[0m\n\u001b[1;32m      4\u001b[0m \u001b[0mparser\u001b[0m\u001b[0;34m.\u001b[0m\u001b[0mset\u001b[0m\u001b[0;34m(\u001b[0m\u001b[0;34m'lens'\u001b[0m\u001b[0;34m,\u001b[0m\u001b[0;34m'rs_base'\u001b[0m\u001b[0;34m,\u001b[0m\u001b[0;34m'%s'\u001b[0m \u001b[0;34m%\u001b[0m\u001b[0mhalo1\u001b[0m\u001b[0;34m.\u001b[0m\u001b[0mrs\u001b[0m\u001b[0;34m)\u001b[0m  \u001b[0;31m#Mpc/h\u001b[0m\u001b[0;34m\u001b[0m\u001b[0;34m\u001b[0m\u001b[0m\n\u001b[1;32m      5\u001b[0m \u001b[0mparser\u001b[0m\u001b[0;34m.\u001b[0m\u001b[0mset\u001b[0m\u001b[0;34m(\u001b[0m\u001b[0;34m'sparse'\u001b[0m\u001b[0;34m,\u001b[0m\u001b[0;34m'nframe'\u001b[0m\u001b[0;34m,\u001b[0m\u001b[0;34m'1'\u001b[0m \u001b[0;34m)\u001b[0m\u001b[0;34m\u001b[0m\u001b[0;34m\u001b[0m\u001b[0m\n",
      "\u001b[0;31mNameError\u001b[0m: name 'parser' is not defined"
     ]
    }
   ],
   "source": [
    "# Reconstruction Init\n",
    "parser.set('sparse','mu','3e-4')            #step size for gradient descent\n",
    "parser.set('lens','resolve_lim','0.02')     #pix\n",
    "parser.set('lens','rs_base','%s' %halo1.rs)  #Mpc/h\n",
    "parser.set('sparse','nframe','1' )\n",
    "\n",
    "# Pixelation\n",
    "Grid    =   Cartesian(parser)\n",
    "lensKer1=   Grid.lensing_kernel(deltaIn=False)\n",
    "\n",
    "\n",
    "general_grid    =   hmod.triaxialJS02_grid_mock(parser)\n",
    "kappa1   =   general_grid.add_halo(halo1)[0]\n",
    "kappa2   =   general_grid.add_halo(halo2)[0]\n",
    "shear1   =   general_grid.add_halo(halo1)[1]\n",
    "shear2   =   general_grid.add_halo(halo2)[1]\n",
    "gErr    =   np.ones(Grid.shape)*0.05\n",
    "\n",
    "totalshear = shear1 + shear2"
   ]
  },
  {
   "cell_type": "code",
   "execution_count": 17,
   "id": "78c01774-640a-48a1-b7e9-70617f9acfe7",
   "metadata": {},
   "outputs": [
    {
     "data": {
      "text/plain": [
       "<matplotlib.image.AxesImage at 0x7fc729a09220>"
      ]
     },
     "execution_count": 17,
     "metadata": {},
     "output_type": "execute_result"
    },
    {
     "data": {
      "image/png": "[encoded data removed]",
      "text/plain": [
       "<Figure size 432x288 with 1 Axes>"
      ]
     },
     "metadata": {
      "needs_background": "light"
     },
     "output_type": "display_data"
    }
   ],
   "source": [
    "import matplotlib.pyplot as plt\n",
    "plt.imshow(totalshear[4].real)"
   ]
  },
  {
   "cell_type": "code",
   "execution_count": 18,
   "id": "f03e7aa5-684e-472c-97db-50b344c2887c",
   "metadata": {},
   "outputs": [
    {
     "name": "stdout",
     "output_type": "stream",
     "text": [
      "35.311777114868164\n"
     ]
    }
   ],
   "source": [
    "s = time.time()\n",
    "dmapper =   darkmapper(parser,totalshear.real, totalshear.imag, gErr,lensKer1)\n",
    "\n",
    "dmapper.lbd=8.      # Lasso penalty\n",
    "dmapper.lcd=0.      # Ridge penalty in Elastic net\n",
    "dmapper.nonNeg=True # using non-negative Lasso\n",
    "dmapper.clean_outcomes()\n",
    "dmapper.fista_gradient_descent_fast(3000) # run 3000 steps\n",
    "#w   =   dmapper.adaptive_lasso_weight(gamma=2.) # determine the apaptive weight\n",
    "#dmapper.fista_gradient_descent(3000,w=w)   \n",
    "e = time.time()# run adaptive lasso\n",
    "print(e-s)"
   ]
  },
  {
   "cell_type": "code",
   "execution_count": 19,
   "id": "811038ec-55e4-4f98-8810-d3e72aaeb453",
   "metadata": {},
   "outputs": [
    {
     "name": "stdout",
     "output_type": "stream",
     "text": [
      "270.41483068466187\n"
     ]
    }
   ],
   "source": [
    "s = time.time()\n",
    "dmapper.mu=3e-3     # step size for gradient descent\n",
    "for _ in range(8):  # redo apaptive lasso, letting it run for more iteration\n",
    "    w   =   dmapper.adaptive_lasso_weight(gamma=2.)\n",
    "    dmapper.fista_gradient_descent_fast(3000,w=w)\n",
    "dmapper.reconstruct()\n",
    "e = time.time()\n",
    "print(e-s)"
   ]
  },
  {
   "cell_type": "code",
   "execution_count": 20,
   "id": "961583f2-7f38-44f7-a0e0-205d3c7c6849",
   "metadata": {},
   "outputs": [
    {
     "data": {
      "text/plain": [
       "array([0.05, 0.07, 0.09, 0.11, 0.13, 0.15, 0.17, 0.19, 0.21, 0.23, 0.25,\n",
       "       0.27, 0.29, 0.31, 0.33, 0.35, 0.37, 0.39, 0.41, 0.43])"
      ]
     },
     "execution_count": 20,
     "metadata": {},
     "output_type": "execute_result"
    }
   ],
   "source": [
    "Grid.zlcgrid"
   ]
  },
  {
   "cell_type": "code",
   "execution_count": 22,
   "id": "8108dd22-f20f-41dd-a365-ebbfe5ab5acf",
   "metadata": {},
   "outputs": [
    {
     "name": "stdout",
     "output_type": "stream",
     "text": [
      "(array([[ 4, 33, 16],\n",
      "       [10, 14, 31]]), array([73.03130164, 40.15732271]))\n"
     ]
    }
   ],
   "source": [
    "c1  =   detect.local_maxima_3D(dmapper.deltaR)\n",
    "print(c1)\n",
    "logm_est1=   np.log10((dmapper.alphaR*dmapper._w)[4,0,33,16])+14.\n",
    "logm_est2=   np.log10((dmapper.alphaR*dmapper._w)[10,0,14,31])+14."
   ]
  },
  {
   "cell_type": "code",
   "execution_count": 23,
   "id": "417cb435-95ba-4692-9f71-0301b8886c3d",
   "metadata": {},
   "outputs": [
    {
     "name": "stdout",
     "output_type": "stream",
     "text": [
      "First z interval: 0.13 0.14999999999999997\n",
      "second z interval: 0.24999999999999994 0.26999999999999996\n"
     ]
    }
   ],
   "source": [
    "print(\"First z interval:\", Grid.zlcgrid[4],Grid.zlcgrid[4+1])\n",
    "print(\"second z interval:\", Grid.zlcgrid[10],Grid.zlcgrid[10+1])"
   ]
  },
  {
   "cell_type": "markdown",
   "id": "02db89ec-7b52-458c-b6c9-1df5cd6033c4",
   "metadata": {},
   "source": [
    "it worked i guess"
   ]
  },
  {
   "cell_type": "code",
   "execution_count": 24,
   "id": "f98c85da-87b7-45fb-8442-fdd5e10acde9",
   "metadata": {},
   "outputs": [
    {
     "name": "stdout",
     "output_type": "stream",
     "text": [
      "mass 1: 14.74075258201004\n",
      "mass 2: 14.752890702712662\n",
      "true mass: 14.745\n"
     ]
    }
   ],
   "source": [
    "print(\"mass 1:\", logm_est1)\n",
    "print(\"mass 2:\", logm_est2)\n",
    "print(\"true mass:\", log_m1)\n",
    "#when c=4, the result only agrees to unit digit"
   ]
  },
  {
   "cell_type": "code",
   "execution_count": 25,
   "id": "05409a16-6cb0-4ce0-8410-cd4ac675a6df",
   "metadata": {},
   "outputs": [
    {
     "name": "stdout",
     "output_type": "stream",
     "text": [
      "(20, 48, 48)\n"
     ]
    }
   ],
   "source": [
    "print(dmapper.deltaR.shape)"
   ]
  },
  {
   "cell_type": "code",
   "execution_count": null,
   "id": "0504fce2-69b9-4b5f-b843-294f60a820c0",
   "metadata": {},
   "outputs": [],
   "source": [
    "import matplotlib.pyplot as plt\n",
    "plt.imshow(dmapper.deltaR[4])"
   ]
  },
  {
   "cell_type": "code",
   "execution_count": null,
   "id": "995114ca-2a41-40b5-9a4a-ad0a98a063f4",
   "metadata": {},
   "outputs": [],
   "source": []
  },
  {
   "cell_type": "code",
   "execution_count": null,
   "id": "b82c9478-884c-4d02-a6b0-3f834d4dd9b1",
   "metadata": {},
   "outputs": [],
   "source": [
    "print(dmapper.alphaR.shape)\n",
    "plt.imshow(dmapper.alphaR[4,0])"
   ]
  },
  {
   "cell_type": "code",
   "execution_count": null,
   "id": "adad728f-fb59-4051-9279-a25040909194",
   "metadata": {},
   "outputs": [],
   "source": []
  },
  {
   "cell_type": "code",
   "execution_count": null,
   "id": "37497ff5-5dd0-4dfe-a095-b4ac27eba1c8",
   "metadata": {},
   "outputs": [],
   "source": [
    "print(np.max(dmapper.diff))"
   ]
  },
  {
   "cell_type": "code",
   "execution_count": null,
   "id": "571b93ad-2255-44fa-9756-65d6bee8d01c",
   "metadata": {},
   "outputs": [],
   "source": []
  },
  {
   "cell_type": "code",
   "execution_count": null,
   "id": "21750917-c245-4319-aee2-2f3542d697d5",
   "metadata": {},
   "outputs": [],
   "source": []
  }
 ],
 "metadata": {
  "kernelspec": {
   "display_name": "Python 3 (ipykernel)",
   "language": "python",
   "name": "python3"
  },
  "language_info": {
   "codemirror_mode": {
    "name": "ipython",
    "version": 3
   },
   "file_extension": ".py",
   "mimetype": "text/x-python",
   "name": "python",
   "nbconvert_exporter": "python",
   "pygments_lexer": "ipython3",
   "version": "3.9.7"
  }
 },
 "nbformat": 4,
 "nbformat_minor": 5
}
