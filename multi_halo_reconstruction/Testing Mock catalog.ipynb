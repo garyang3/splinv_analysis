{
 "cells": [
  {
   "cell_type": "code",
   "execution_count": 1,
   "id": "1d7bf527-947b-4161-bde8-5d7d43e1c0c0",
   "metadata": {},
   "outputs": [],
   "source": [
    "import numpy as np\n",
    "from splinv import detect\n",
    "from splinv import hmod\n",
    "from splinv import darkmapper\n",
    "from splinv.grid import Cartesian\n",
    "from configparser import ConfigParser\n",
    "import splinv\n",
    "import time"
   ]
  },
  {
   "cell_type": "code",
   "execution_count": 2,
   "id": "b3374dce-4b63-46cf-b403-baccfa0f4742",
   "metadata": {},
   "outputs": [],
   "source": [
    "configName  =   'test_mock_catalog_atom.ini'\n",
    "parser      =   ConfigParser()\n",
    "parser.read(configName)\n",
    "\n",
    "# halo simulation\n",
    "z_h1     =  0.25\n",
    "z_h2     =  0.25\n",
    "log_m   =  14.745\n",
    "M_200   =  10.**(log_m)\n",
    "conc    =  4.\n",
    "halo1    =  hmod.nfwTJ03(mass=M_200,conc=conc,redshift=z_h1,ra=0.,dec=0.)\n",
    "halo2    =  hmod.nfwTJ03(mass=M_200,conc=conc,redshift=z_h2,ra=800,dec=-1200)"
   ]
  },
  {
   "cell_type": "code",
   "execution_count": 3,
   "id": "cbaa7322-cc55-403a-9fad-5476e1c974f2",
   "metadata": {},
   "outputs": [],
   "source": [
    "general_grid    =   hmod.triaxialJS02_grid_mock(parser)\n",
    "shear1   =   general_grid.add_halo(halo1)[1]"
   ]
  },
  {
   "cell_type": "code",
   "execution_count": 4,
   "id": "29f547ba-2c39-44b4-8f23-1287a6b064ee",
   "metadata": {},
   "outputs": [
    {
     "name": "stdout",
     "output_type": "stream",
     "text": [
      "(0.03658835914357633-8.933465786926064e-05j)\n",
      "(-1.4456028966473392e-20+9.03501810404587e-22j)\n"
     ]
    }
   ],
   "source": [
    "print(np.max(shear1))\n",
    "print(np.average(shear1))"
   ]
  },
  {
   "cell_type": "code",
   "execution_count": 5,
   "id": "57956e5d-526c-43d8-8ca6-14fc8c6b5469",
   "metadata": {},
   "outputs": [],
   "source": [
    "CS02    =   hmod.nfwCS02_grid(parser)\n",
    "shear2   =   CS02.add_halo(halo1)[1]"
   ]
  },
  {
   "cell_type": "code",
   "execution_count": 6,
   "id": "dd9d04d1-fddd-462e-a981-24590acaedf9",
   "metadata": {},
   "outputs": [
    {
     "name": "stdout",
     "output_type": "stream",
     "text": [
      "(0.03794598232755718+2.1684553435096622e-06j)\n",
      "(-2.6502719771867888e-20-5.11984359229266e-21j)\n"
     ]
    }
   ],
   "source": [
    "print(np.max(shear2))\n",
    "print(np.average(shear2))"
   ]
  },
  {
   "cell_type": "code",
   "execution_count": 8,
   "id": "53771eb6-7403-4a2b-858a-7008033a24bf",
   "metadata": {},
   "outputs": [
    {
     "name": "stdout",
     "output_type": "stream",
     "text": [
      "0.003126167592384663\n"
     ]
    }
   ],
   "source": [
    "print(np.max(np.abs(shear1-shear2))) #how large the difference is"
   ]
  },
  {
   "cell_type": "code",
   "execution_count": null,
   "id": "e6d16de1-0be9-44a2-8f3f-e9e29983cfe7",
   "metadata": {},
   "outputs": [],
   "source": []
  }
 ],
 "metadata": {
  "kernelspec": {
   "display_name": "Python 3 (ipykernel)",
   "language": "python",
   "name": "python3"
  },
  "language_info": {
   "codemirror_mode": {
    "name": "ipython",
    "version": 3
   },
   "file_extension": ".py",
   "mimetype": "text/x-python",
   "name": "python",
   "nbconvert_exporter": "python",
   "pygments_lexer": "ipython3",
   "version": "3.9.7"
  }
 },
 "nbformat": 4,
 "nbformat_minor": 5
}
