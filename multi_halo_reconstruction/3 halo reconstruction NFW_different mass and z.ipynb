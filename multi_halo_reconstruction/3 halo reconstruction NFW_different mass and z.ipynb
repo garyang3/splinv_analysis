{
 "cells": [
  {
   "cell_type": "code",
   "execution_count": 1,
   "id": "f2cdf242-3956-463e-8c18-2ca03e6742f2",
   "metadata": {},
   "outputs": [],
   "source": [
    "import numpy as np\n",
    "from splinv import detect\n",
    "from splinv import hmod\n",
    "from splinv import darkmapper\n",
    "from splinv.grid import Cartesian\n",
    "from configparser import ConfigParser\n",
    "import splinv\n",
    "import time"
   ]
  },
  {
   "cell_type": "code",
   "execution_count": 2,
   "id": "5d1c6451-b82e-45f2-a1e9-5f48fc764e54",
   "metadata": {},
   "outputs": [],
   "source": [
    "\"\"\" Test sparse reconstruction of weak lensing dark map\n",
    "\"\"\"\n",
    "# configuration\n",
    "configName  =   'test_mock_catalog_atom.ini'\n",
    "parser      =   ConfigParser()\n",
    "parser.read(configName)\n",
    "\n",
    "# halo simulation\n",
    "z_h1     =  0.2425\n",
    "z_h2     =  0.1975\n",
    "z_h3     =  0.0625\n",
    "log_m1   =  14.745\n",
    "log_m2   =  14.79\n",
    "log_m3   =  14.79\n",
    "M_200_1   =  10.**(log_m1)\n",
    "M_200_2  = 10.**(log_m2)\n",
    "M_200_3  = 10.**(log_m3)\n",
    "conc    =  4.\n",
    "halo1    =  hmod.nfwTJ03(mass=M_200_1,conc=conc,redshift=z_h1,ra=-935*2.3,dec=0)\n",
    "halo2    =  hmod.nfwTJ03(mass=M_200_2,conc=conc,redshift=z_h2,ra=0,dec=0)\n",
    "halo3    =  hmod.nfwTJ03(mass=M_200_3,conc=conc,redshift=z_h3,ra=0,dec=0)"
   ]
  },
  {
   "cell_type": "markdown",
   "id": "61c8b350-e5a6-4767-8a26-6751d1276b2c",
   "metadata": {},
   "source": [
    "We want frames to include both of these..."
   ]
  },
  {
   "cell_type": "code",
   "execution_count": 3,
   "id": "368ae475-19d5-44b1-a19a-425aaad77fec",
   "metadata": {},
   "outputs": [
    {
     "name": "stdout",
     "output_type": "stream",
     "text": [
      "0.36272265231063705\n",
      "0.3853700399183\n",
      "0.41710813558670545\n"
     ]
    }
   ],
   "source": [
    "print(halo1.rs)\n",
    "print(halo2.rs)\n",
    "print(halo3.rs)"
   ]
  },
  {
   "cell_type": "markdown",
   "id": "cc4c3186-5dca-429f-962a-648f64b4bfd9",
   "metadata": {},
   "source": [
    "generating mock catalog this way has the freedom of moving the halo around. "
   ]
  },
  {
   "cell_type": "code",
   "execution_count": 4,
   "id": "2463d3f7-9525-4a86-850b-23df158e7eb3",
   "metadata": {},
   "outputs": [],
   "source": [
    "# Reconstruction Init\n",
    "parser.set('sparse','mu','3e-4')            #step size for gradient descent\n",
    "parser.set('lens','resolve_lim','0.02')     #pix\n",
    "parser.set('lens','rs_base','%s' %(halo1.rs))  #Mpc/h\n",
    "parser.set('sparse','nframe','1' )\n",
    "\n",
    "# Pixelation\n",
    "Grid    =   Cartesian(parser)\n",
    "lensKer1=   Grid.lensing_kernel(deltaIn=False)\n",
    "\n",
    "general_grid    =   hmod.triaxialJS02_grid_mock(parser)\n",
    "kappa1   =   general_grid.add_halo(halo1)[0]\n",
    "kappa2   =   general_grid.add_halo(halo2)[0]\n",
    "shear1   =   general_grid.add_halo(halo1)[1]\n",
    "shear2   =   general_grid.add_halo(halo2)[1]\n",
    "shear3   =   general_grid.add_halo(halo3)[1]\n",
    "gErr    =   np.ones(Grid.shape)*0.05\n",
    "\n",
    "totalshear = shear1 + shear2 + shear3"
   ]
  },
  {
   "cell_type": "code",
   "execution_count": 5,
   "id": "c2f487f0-ce4d-432f-bc88-7c69cb964af0",
   "metadata": {},
   "outputs": [
    {
     "data": {
      "text/plain": [
       "array([0.0625, 0.1075, 0.1525, 0.1975, 0.2425, 0.2875, 0.3325, 0.3775,\n",
       "       0.4225, 0.4675])"
      ]
     },
     "execution_count": 5,
     "metadata": {},
     "output_type": "execute_result"
    }
   ],
   "source": [
    "Grid.zlcgrid"
   ]
  },
  {
   "cell_type": "code",
   "execution_count": 6,
   "id": "78c01774-640a-48a1-b7e9-70617f9acfe7",
   "metadata": {},
   "outputs": [
    {
     "data": {
      "text/plain": [
       "<matplotlib.image.AxesImage at 0x7ff63bb37ac0>"
      ]
     },
     "execution_count": 6,
     "metadata": {},
     "output_type": "execute_result"
    },
    {
     "data": {
      "image/png": "[encoded data removed]",
      "text/plain": [
       "<Figure size 432x288 with 1 Axes>"
      ]
     },
     "metadata": {
      "needs_background": "light"
     },
     "output_type": "display_data"
    }
   ],
   "source": [
    "import matplotlib.pyplot as plt\n",
    "plt.imshow(totalshear[4].imag)"
   ]
  },
  {
   "cell_type": "code",
   "execution_count": 7,
   "id": "f03e7aa5-684e-472c-97db-50b344c2887c",
   "metadata": {},
   "outputs": [
    {
     "name": "stdout",
     "output_type": "stream",
     "text": [
      "140.2621021270752\n"
     ]
    }
   ],
   "source": [
    "s = time.time()\n",
    "dmapper =   darkmapper(parser,totalshear.real, totalshear.imag, gErr,lensKer1)\n",
    "\n",
    "dmapper.lbd=4.      # Lasso penalty. was 8\n",
    "dmapper.lcd=0.      # Ridge penalty in Elastic net\n",
    "dmapper.nonNeg=True # using non-negative Lasso\n",
    "dmapper.clean_outcomes()\n",
    "dmapper.fista_gradient_descent_fast(3000) # run 3000 steps\n",
    "w   =   dmapper.adaptive_lasso_weight(gamma=2.) # determine the apaptive weight\n",
    "dmapper.fista_gradient_descent(3000,w=w)   \n",
    "e = time.time()# run adaptive lasso\n",
    "print(e-s)"
   ]
  },
  {
   "cell_type": "code",
   "execution_count": 8,
   "id": "811038ec-55e4-4f98-8810-d3e72aaeb453",
   "metadata": {},
   "outputs": [
    {
     "name": "stdout",
     "output_type": "stream",
     "text": [
      "320.0096871852875\n"
     ]
    }
   ],
   "source": [
    "s = time.time()\n",
    "dmapper.mu=3e-3     # step size for gradient descent\n",
    "for _ in range(3):  # redo apaptive lasso, letting it run for more iteration\n",
    "    w   =   dmapper.adaptive_lasso_weight(gamma=2.)\n",
    "    dmapper.fista_gradient_descent_fast(3000,w=w)\n",
    "dmapper.reconstruct()\n",
    "e = time.time()\n",
    "print(e-s)"
   ]
  },
  {
   "cell_type": "code",
   "execution_count": 9,
   "id": "961583f2-7f38-44f7-a0e0-205d3c7c6849",
   "metadata": {},
   "outputs": [
    {
     "data": {
      "text/plain": [
       "array([0.0625, 0.1075, 0.1525, 0.1975, 0.2425, 0.2875, 0.3325, 0.3775,\n",
       "       0.4225, 0.4675])"
      ]
     },
     "execution_count": 9,
     "metadata": {},
     "output_type": "execute_result"
    }
   ],
   "source": [
    "Grid.zlcgrid"
   ]
  },
  {
   "cell_type": "code",
   "execution_count": 10,
   "id": "8108dd22-f20f-41dd-a365-ebbfe5ab5acf",
   "metadata": {},
   "outputs": [
    {
     "name": "stdout",
     "output_type": "stream",
     "text": [
      "(array([[ 0, 48, 48],\n",
      "       [ 2, 47, 47],\n",
      "       [ 4, 47, 30]]), array([137.31033445,  63.73173441,  40.33485854]))\n"
     ]
    },
    {
     "name": "stderr",
     "output_type": "stream",
     "text": [
      "/var/folders/vc/1pffqvxd44q6_lz4rrdn58zh0000gn/T/ipykernel_78595/1575318540.py:3: RuntimeWarning: divide by zero encountered in log10\n",
      "  logm_est1=   np.log10((dmapper.alphaR*dmapper._w)[4,0,69,30])+14. # first halo\n"
     ]
    }
   ],
   "source": [
    "c1  =   detect.local_maxima_3D(dmapper.deltaR)\n",
    "print(c1)\n",
    "logm_est1=   np.log10((dmapper.alphaR*dmapper._w)[4,0,69,30])+14. # first halo\n",
    "#logm_est2=   np.log10((dmapper.alphaR*dmapper._w)[3,2,24,63])+14. #second halo\n",
    "#logm_est3=   np.log10((dmapper.alphaR*dmapper._w)[0,2,70,63])+14. #third halo"
   ]
  },
  {
   "cell_type": "markdown",
   "id": "02db89ec-7b52-458c-b6c9-1df5cd6033c4",
   "metadata": {},
   "source": [
    "it worked i guess"
   ]
  },
  {
   "cell_type": "code",
   "execution_count": 11,
   "id": "f98c85da-87b7-45fb-8442-fdd5e10acde9",
   "metadata": {},
   "outputs": [
    {
     "name": "stdout",
     "output_type": "stream",
     "text": [
      "mass 1: -inf\n",
      "true mass 1: 14.745\n",
      "true mass 2: 14.79\n",
      "true mass 2: 14.79\n"
     ]
    }
   ],
   "source": [
    "print(\"mass 1:\", logm_est1)\n",
    "# print(\"mass 2:\", logm_est2)\n",
    "# print(\"mass 3:\", logm_est3)\n",
    "print(\"true mass 1:\", log_m1)\n",
    "print(\"true mass 2:\", log_m2)\n",
    "print(\"true mass 2:\", log_m3)\n",
    "#when c=4, the result only agrees to unit digit"
   ]
  },
  {
   "cell_type": "code",
   "execution_count": 12,
   "id": "05409a16-6cb0-4ce0-8410-cd4ac675a6df",
   "metadata": {},
   "outputs": [
    {
     "name": "stdout",
     "output_type": "stream",
     "text": [
      "(10, 96, 96)\n"
     ]
    }
   ],
   "source": [
    "print(dmapper.deltaR.shape)"
   ]
  },
  {
   "cell_type": "code",
   "execution_count": 13,
   "id": "0504fce2-69b9-4b5f-b843-294f60a820c0",
   "metadata": {},
   "outputs": [
    {
     "data": {
      "text/plain": [
       "<matplotlib.image.AxesImage at 0x7ff63def15e0>"
      ]
     },
     "execution_count": 13,
     "metadata": {},
     "output_type": "execute_result"
    },
    {
     "data": {
      "image/png": "[encoded data removed]",
      "text/plain": [
       "<Figure size 432x288 with 1 Axes>"
      ]
     },
     "metadata": {
      "needs_background": "light"
     },
     "output_type": "display_data"
    }
   ],
   "source": [
    "import matplotlib.pyplot as plt\n",
    "plt.imshow(dmapper.deltaR[4])"
   ]
  },
  {
   "cell_type": "code",
   "execution_count": 14,
   "id": "b82c9478-884c-4d02-a6b0-3f834d4dd9b1",
   "metadata": {},
   "outputs": [
    {
     "name": "stdout",
     "output_type": "stream",
     "text": [
      "(10, 1, 96, 96)\n"
     ]
    },
    {
     "data": {
      "text/plain": [
       "<matplotlib.image.AxesImage at 0x7ff63dea3880>"
      ]
     },
     "execution_count": 14,
     "metadata": {},
     "output_type": "execute_result"
    },
    {
     "data": {
      "image/png": "[encoded data removed]",
      "text/plain": [
       "<Figure size 432x288 with 1 Axes>"
      ]
     },
     "metadata": {
      "needs_background": "light"
     },
     "output_type": "display_data"
    }
   ],
   "source": [
    "print(dmapper.alphaR.shape)\n",
    "plt.imshow(dmapper.alphaR[4,0])"
   ]
  },
  {
   "cell_type": "code",
   "execution_count": 15,
   "id": "37497ff5-5dd0-4dfe-a095-b4ac27eba1c8",
   "metadata": {},
   "outputs": [
    {
     "name": "stdout",
     "output_type": "stream",
     "text": [
      "0.0002109315401937268\n"
     ]
    }
   ],
   "source": [
    "print(np.max(dmapper.diff))"
   ]
  }
 ],
 "metadata": {
  "kernelspec": {
   "display_name": "Python 3 (ipykernel)",
   "language": "python",
   "name": "python3"
  },
  "language_info": {
   "codemirror_mode": {
    "name": "ipython",
    "version": 3
   },
   "file_extension": ".py",
   "mimetype": "text/x-python",
   "name": "python",
   "nbconvert_exporter": "python",
   "pygments_lexer": "ipython3",
   "version": "3.9.7"
  }
 },
 "nbformat": 4,
 "nbformat_minor": 5
}
