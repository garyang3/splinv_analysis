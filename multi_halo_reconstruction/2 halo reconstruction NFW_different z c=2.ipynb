{
 "cells": [
  {
   "cell_type": "code",
   "execution_count": 1,
   "id": "f2cdf242-3956-463e-8c18-2ca03e6742f2",
   "metadata": {},
   "outputs": [],
   "source": [
    "import numpy as np\n",
    "from splinv import detect\n",
    "from splinv import hmod\n",
    "from splinv import darkmapper\n",
    "from splinv.grid import Cartesian\n",
    "from configparser import ConfigParser\n",
    "import splinv\n",
    "import time\n",
    "\n",
    "\"\"\" Test sparse reconstruction of weak lensing dark map\n",
    "\"\"\"\n",
    "# configuration\n",
    "configName  =   'test_mock_catalog_atom.ini'\n",
    "parser      =   ConfigParser()\n",
    "parser.read(configName)\n",
    "\n",
    "# halo simulation\n",
    "z_h1     =  0.2425\n",
    "z_h2     =  0.1\n",
    "log_m   =  14.745\n",
    "M_200   =  10.**(log_m)\n",
    "conc    =  2.\n",
    "halo1    =  hmod.nfwTJ03(mass=M_200,conc=conc,redshift=z_h1,ra=-935.,dec=1100.)\n",
    "halo2    =  hmod.nfwTJ03(mass=M_200,conc=conc,redshift=z_h2,ra=800,dec=-1200)"
   ]
  },
  {
   "cell_type": "markdown",
   "id": "cc4c3186-5dca-429f-962a-648f64b4bfd9",
   "metadata": {},
   "source": [
    "generating mock catalog this way has the freedom of moving the halo around. "
   ]
  },
  {
   "cell_type": "code",
   "execution_count": 2,
   "id": "2463d3f7-9525-4a86-850b-23df158e7eb3",
   "metadata": {},
   "outputs": [],
   "source": [
    "# Reconstruction Init\n",
    "parser.set('sparse','mu','3e-4')            #step size for gradient descent\n",
    "parser.set('lens','resolve_lim','0.02')     #pix\n",
    "parser.set('lens','rs_base','%s' %halo1.rs)  #Mpc/h\n",
    "parser.set('sparse','nframe','2' )\n",
    "\n",
    "# Pixelation\n",
    "Grid    =   Cartesian(parser)\n",
    "lensKer1=   Grid.lensing_kernel(deltaIn=False)\n",
    "\n",
    "\n",
    "general_grid    =   splinv.hmod_v2.triaxialJS02_grid_mock(parser)\n",
    "kappa1   =   general_grid.add_halo(halo1)[0]\n",
    "kappa2   =   general_grid.add_halo(halo2)[0]\n",
    "shear1   =   general_grid.add_halo(halo1)[1]\n",
    "shear2   =   general_grid.add_halo(halo2)[1]\n",
    "gErr    =   np.ones(Grid.shape)*0.05\n",
    "\n",
    "totalshear = shear1 + shear2"
   ]
  },
  {
   "cell_type": "code",
   "execution_count": 3,
   "id": "78c01774-640a-48a1-b7e9-70617f9acfe7",
   "metadata": {},
   "outputs": [
    {
     "data": {
      "text/plain": [
       "<matplotlib.image.AxesImage at 0x7f8c13f7a400>"
      ]
     },
     "execution_count": 3,
     "metadata": {},
     "output_type": "execute_result"
    },
    {
     "data": {
      "image/png": "[encoded data removed]",
      "text/plain": [
       "<Figure size 432x288 with 1 Axes>"
      ]
     },
     "metadata": {
      "needs_background": "light"
     },
     "output_type": "display_data"
    }
   ],
   "source": [
    "import matplotlib.pyplot as plt\n",
    "plt.imshow(shear1[2].imag+shear2[2].imag)"
   ]
  },
  {
   "cell_type": "code",
   "execution_count": 4,
   "id": "f03e7aa5-684e-472c-97db-50b344c2887c",
   "metadata": {},
   "outputs": [
    {
     "name": "stdout",
     "output_type": "stream",
     "text": [
      "25.436212062835693\n"
     ]
    }
   ],
   "source": [
    "s = time.time()\n",
    "dmapper =   darkmapper(parser,totalshear.real, totalshear.imag, gErr,lensKer1)\n",
    "\n",
    "dmapper.lbd=8.      # Lasso penalty\n",
    "dmapper.lcd=0.      # Ridge penalty in Elastic net\n",
    "dmapper.nonNeg=True # using non-negative Lasso\n",
    "dmapper.clean_outcomes()\n",
    "dmapper.fista_gradient_descent_fast(3000) # run 3000 steps\n",
    "#w   =   dmapper.adaptive_lasso_weight(gamma=2.) # determine the apaptive weight\n",
    "#dmapper.fista_gradient_descent(3000,w=w)   \n",
    "e = time.time()# run adaptive lasso\n",
    "print(e-s)"
   ]
  },
  {
   "cell_type": "code",
   "execution_count": 5,
   "id": "811038ec-55e4-4f98-8810-d3e72aaeb453",
   "metadata": {},
   "outputs": [
    {
     "name": "stdout",
     "output_type": "stream",
     "text": [
      "74.91858100891113\n"
     ]
    }
   ],
   "source": [
    "s = time.time()\n",
    "dmapper.mu=3e-3     # step size for gradient descent\n",
    "for _ in range(3):  # redo apaptive lasso\n",
    "    w   =   dmapper.adaptive_lasso_weight(gamma=2.)\n",
    "    dmapper.fista_gradient_descent_fast(3000,w=w)\n",
    "dmapper.reconstruct()\n",
    "e = time.time()\n",
    "print(e-s)"
   ]
  },
  {
   "cell_type": "code",
   "execution_count": 6,
   "id": "961583f2-7f38-44f7-a0e0-205d3c7c6849",
   "metadata": {},
   "outputs": [
    {
     "data": {
      "text/plain": [
       "array([0.0625, 0.1075, 0.1525, 0.1975, 0.2425, 0.2875, 0.3325, 0.3775,\n",
       "       0.4225, 0.4675])"
      ]
     },
     "execution_count": 6,
     "metadata": {},
     "output_type": "execute_result"
    }
   ],
   "source": [
    "Grid.zlcgrid"
   ]
  },
  {
   "cell_type": "code",
   "execution_count": 13,
   "id": "8108dd22-f20f-41dd-a365-ebbfe5ab5acf",
   "metadata": {},
   "outputs": [
    {
     "name": "stdout",
     "output_type": "stream",
     "text": [
      "(array([[ 2, 14, 31],\n",
      "       [ 6, 33, 16]]), array([59.2010637 , 38.19097062]))\n"
     ]
    }
   ],
   "source": [
    "c1  =   detect.local_maxima_3D(dmapper.deltaR)\n",
    "print(c1)\n",
    "logm_est1=   np.log10((dmapper.alphaR*dmapper._w)[2,0,14,31])+14.\n",
    "logm_est2=   np.log10((dmapper.alphaR*dmapper._w)[6,0,33,16])+14."
   ]
  },
  {
   "cell_type": "code",
   "execution_count": null,
   "id": "417cb435-95ba-4692-9f71-0301b8886c3d",
   "metadata": {},
   "outputs": [],
   "source": []
  },
  {
   "cell_type": "markdown",
   "id": "02db89ec-7b52-458c-b6c9-1df5cd6033c4",
   "metadata": {},
   "source": [
    "it worked i guess"
   ]
  },
  {
   "cell_type": "code",
   "execution_count": 14,
   "id": "f98c85da-87b7-45fb-8442-fdd5e10acde9",
   "metadata": {},
   "outputs": [
    {
     "name": "stdout",
     "output_type": "stream",
     "text": [
      "14.982248708949992\n",
      "15.049198739461625\n",
      "14.745\n"
     ]
    }
   ],
   "source": [
    "print(logm_est1)\n",
    "print(logm_est2)\n",
    "print(log_m)\n",
    "#when c=4, the result only agrees to unit digit, it also seems there are 2 halos in the lower redshift."
   ]
  },
  {
   "cell_type": "code",
   "execution_count": 9,
   "id": "05409a16-6cb0-4ce0-8410-cd4ac675a6df",
   "metadata": {},
   "outputs": [
    {
     "name": "stdout",
     "output_type": "stream",
     "text": [
      "(10, 48, 48)\n"
     ]
    }
   ],
   "source": [
    "print(dmapper.deltaR.shape)"
   ]
  },
  {
   "cell_type": "code",
   "execution_count": 16,
   "id": "0504fce2-69b9-4b5f-b843-294f60a820c0",
   "metadata": {},
   "outputs": [
    {
     "data": {
      "text/plain": [
       "<matplotlib.image.AxesImage at 0x7f8c14ab3850>"
      ]
     },
     "execution_count": 16,
     "metadata": {},
     "output_type": "execute_result"
    },
    {
     "data": {
      "image/png": "[encoded data removed]",
      "text/plain": [
       "<Figure size 432x288 with 1 Axes>"
      ]
     },
     "metadata": {
      "needs_background": "light"
     },
     "output_type": "display_data"
    }
   ],
   "source": [
    "import matplotlib.pyplot as plt\n",
    "plt.imshow(dmapper.deltaR[2])"
   ]
  },
  {
   "cell_type": "code",
   "execution_count": 17,
   "id": "b82c9478-884c-4d02-a6b0-3f834d4dd9b1",
   "metadata": {},
   "outputs": [
    {
     "name": "stdout",
     "output_type": "stream",
     "text": [
      "(10, 2, 48, 48)\n"
     ]
    },
    {
     "data": {
      "text/plain": [
       "<matplotlib.image.AxesImage at 0x7f8c14b8c790>"
      ]
     },
     "execution_count": 17,
     "metadata": {},
     "output_type": "execute_result"
    },
    {
     "data": {
      "image/png": "[encoded data removed]",
      "text/plain": [
       "<Figure size 432x288 with 1 Axes>"
      ]
     },
     "metadata": {
      "needs_background": "light"
     },
     "output_type": "display_data"
    }
   ],
   "source": [
    "print(dmapper.alphaR.shape)\n",
    "plt.imshow(dmapper.alphaR[2,0]) #only this is non-empty"
   ]
  },
  {
   "cell_type": "code",
   "execution_count": 12,
   "id": "adad728f-fb59-4051-9279-a25040909194",
   "metadata": {},
   "outputs": [
    {
     "name": "stdout",
     "output_type": "stream",
     "text": [
      "0.0\n"
     ]
    }
   ],
   "source": [
    "print(np.max(dmapper.alphaR[4,0]))"
   ]
  },
  {
   "cell_type": "code",
   "execution_count": 11,
   "id": "37497ff5-5dd0-4dfe-a095-b4ac27eba1c8",
   "metadata": {},
   "outputs": [
    {
     "name": "stdout",
     "output_type": "stream",
     "text": [
      "[6.27627357e-10 6.25744532e-10 7.99644101e-10 ... 9.65818659e-14\n",
      " 9.48426966e-14 9.28716382e-14]\n"
     ]
    }
   ],
   "source": [
    "print(dmapper.diff)"
   ]
  },
  {
   "cell_type": "code",
   "execution_count": null,
   "id": "571b93ad-2255-44fa-9756-65d6bee8d01c",
   "metadata": {},
   "outputs": [],
   "source": []
  },
  {
   "cell_type": "code",
   "execution_count": null,
   "id": "21750917-c245-4319-aee2-2f3542d697d5",
   "metadata": {},
   "outputs": [],
   "source": []
  }
 ],
 "metadata": {
  "kernelspec": {
   "display_name": "Python 3 (ipykernel)",
   "language": "python",
   "name": "python3"
  },
  "language_info": {
   "codemirror_mode": {
    "name": "ipython",
    "version": 3
   },
   "file_extension": ".py",
   "mimetype": "text/x-python",
   "name": "python",
   "nbconvert_exporter": "python",
   "pygments_lexer": "ipython3",
   "version": "3.9.7"
  }
 },
 "nbformat": 4,
 "nbformat_minor": 5
}
